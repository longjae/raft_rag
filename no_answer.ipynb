{
  "nbformat": 4,
  "nbformat_minor": 0,
  "metadata": {
    "colab": {
      "provenance": [],
      "include_colab_link": true
    },
    "kernelspec": {
      "name": "python3",
      "display_name": "Python 3"
    },
    "language_info": {
      "name": "python"
    },
    "widgets": {
      "application/vnd.jupyter.widget-state+json": {
        "05b8228f293449b9b401215c98eaaec9": {
          "model_module": "@jupyter-widgets/controls",
          "model_name": "HBoxModel",
          "model_module_version": "1.5.0",
          "state": {
            "_dom_classes": [],
            "_model_module": "@jupyter-widgets/controls",
            "_model_module_version": "1.5.0",
            "_model_name": "HBoxModel",
            "_view_count": null,
            "_view_module": "@jupyter-widgets/controls",
            "_view_module_version": "1.5.0",
            "_view_name": "HBoxView",
            "box_style": "",
            "children": [
              "IPY_MODEL_d15e556489bc4d37bb60f9ca89d90ce3",
              "IPY_MODEL_7cd5ab2289a64c9e8473f3d04637fb2c",
              "IPY_MODEL_41a73e12f733433f87f1e73c86067618"
            ],
            "layout": "IPY_MODEL_cd1029b7696946de8662297534e6de47"
          }
        },
        "d15e556489bc4d37bb60f9ca89d90ce3": {
          "model_module": "@jupyter-widgets/controls",
          "model_name": "HTMLModel",
          "model_module_version": "1.5.0",
          "state": {
            "_dom_classes": [],
            "_model_module": "@jupyter-widgets/controls",
            "_model_module_version": "1.5.0",
            "_model_name": "HTMLModel",
            "_view_count": null,
            "_view_module": "@jupyter-widgets/controls",
            "_view_module_version": "1.5.0",
            "_view_name": "HTMLView",
            "description": "",
            "description_tooltip": null,
            "layout": "IPY_MODEL_a687562954d54fca917b726122d70586",
            "placeholder": "​",
            "style": "IPY_MODEL_791cecbbccf54530971f235e13c899db",
            "value": "README.md: 100%"
          }
        },
        "7cd5ab2289a64c9e8473f3d04637fb2c": {
          "model_module": "@jupyter-widgets/controls",
          "model_name": "FloatProgressModel",
          "model_module_version": "1.5.0",
          "state": {
            "_dom_classes": [],
            "_model_module": "@jupyter-widgets/controls",
            "_model_module_version": "1.5.0",
            "_model_name": "FloatProgressModel",
            "_view_count": null,
            "_view_module": "@jupyter-widgets/controls",
            "_view_module_version": "1.5.0",
            "_view_name": "ProgressView",
            "bar_style": "success",
            "description": "",
            "description_tooltip": null,
            "layout": "IPY_MODEL_8112f7dbfa614a9581b0bd10018a5fc5",
            "max": 640,
            "min": 0,
            "orientation": "horizontal",
            "style": "IPY_MODEL_c2897e1829ed4a948e1dd942a392dc00",
            "value": 640
          }
        },
        "41a73e12f733433f87f1e73c86067618": {
          "model_module": "@jupyter-widgets/controls",
          "model_name": "HTMLModel",
          "model_module_version": "1.5.0",
          "state": {
            "_dom_classes": [],
            "_model_module": "@jupyter-widgets/controls",
            "_model_module_version": "1.5.0",
            "_model_name": "HTMLModel",
            "_view_count": null,
            "_view_module": "@jupyter-widgets/controls",
            "_view_module_version": "1.5.0",
            "_view_name": "HTMLView",
            "description": "",
            "description_tooltip": null,
            "layout": "IPY_MODEL_e5b7a676ec424c77b4537470162fe850",
            "placeholder": "​",
            "style": "IPY_MODEL_f06f972fae6b4ab282f64781ca31e1db",
            "value": " 640/640 [00:00&lt;00:00, 35.5kB/s]"
          }
        },
        "cd1029b7696946de8662297534e6de47": {
          "model_module": "@jupyter-widgets/base",
          "model_name": "LayoutModel",
          "model_module_version": "1.2.0",
          "state": {
            "_model_module": "@jupyter-widgets/base",
            "_model_module_version": "1.2.0",
            "_model_name": "LayoutModel",
            "_view_count": null,
            "_view_module": "@jupyter-widgets/base",
            "_view_module_version": "1.2.0",
            "_view_name": "LayoutView",
            "align_content": null,
            "align_items": null,
            "align_self": null,
            "border": null,
            "bottom": null,
            "display": null,
            "flex": null,
            "flex_flow": null,
            "grid_area": null,
            "grid_auto_columns": null,
            "grid_auto_flow": null,
            "grid_auto_rows": null,
            "grid_column": null,
            "grid_gap": null,
            "grid_row": null,
            "grid_template_areas": null,
            "grid_template_columns": null,
            "grid_template_rows": null,
            "height": null,
            "justify_content": null,
            "justify_items": null,
            "left": null,
            "margin": null,
            "max_height": null,
            "max_width": null,
            "min_height": null,
            "min_width": null,
            "object_fit": null,
            "object_position": null,
            "order": null,
            "overflow": null,
            "overflow_x": null,
            "overflow_y": null,
            "padding": null,
            "right": null,
            "top": null,
            "visibility": null,
            "width": null
          }
        },
        "a687562954d54fca917b726122d70586": {
          "model_module": "@jupyter-widgets/base",
          "model_name": "LayoutModel",
          "model_module_version": "1.2.0",
          "state": {
            "_model_module": "@jupyter-widgets/base",
            "_model_module_version": "1.2.0",
            "_model_name": "LayoutModel",
            "_view_count": null,
            "_view_module": "@jupyter-widgets/base",
            "_view_module_version": "1.2.0",
            "_view_name": "LayoutView",
            "align_content": null,
            "align_items": null,
            "align_self": null,
            "border": null,
            "bottom": null,
            "display": null,
            "flex": null,
            "flex_flow": null,
            "grid_area": null,
            "grid_auto_columns": null,
            "grid_auto_flow": null,
            "grid_auto_rows": null,
            "grid_column": null,
            "grid_gap": null,
            "grid_row": null,
            "grid_template_areas": null,
            "grid_template_columns": null,
            "grid_template_rows": null,
            "height": null,
            "justify_content": null,
            "justify_items": null,
            "left": null,
            "margin": null,
            "max_height": null,
            "max_width": null,
            "min_height": null,
            "min_width": null,
            "object_fit": null,
            "object_position": null,
            "order": null,
            "overflow": null,
            "overflow_x": null,
            "overflow_y": null,
            "padding": null,
            "right": null,
            "top": null,
            "visibility": null,
            "width": null
          }
        },
        "791cecbbccf54530971f235e13c899db": {
          "model_module": "@jupyter-widgets/controls",
          "model_name": "DescriptionStyleModel",
          "model_module_version": "1.5.0",
          "state": {
            "_model_module": "@jupyter-widgets/controls",
            "_model_module_version": "1.5.0",
            "_model_name": "DescriptionStyleModel",
            "_view_count": null,
            "_view_module": "@jupyter-widgets/base",
            "_view_module_version": "1.2.0",
            "_view_name": "StyleView",
            "description_width": ""
          }
        },
        "8112f7dbfa614a9581b0bd10018a5fc5": {
          "model_module": "@jupyter-widgets/base",
          "model_name": "LayoutModel",
          "model_module_version": "1.2.0",
          "state": {
            "_model_module": "@jupyter-widgets/base",
            "_model_module_version": "1.2.0",
            "_model_name": "LayoutModel",
            "_view_count": null,
            "_view_module": "@jupyter-widgets/base",
            "_view_module_version": "1.2.0",
            "_view_name": "LayoutView",
            "align_content": null,
            "align_items": null,
            "align_self": null,
            "border": null,
            "bottom": null,
            "display": null,
            "flex": null,
            "flex_flow": null,
            "grid_area": null,
            "grid_auto_columns": null,
            "grid_auto_flow": null,
            "grid_auto_rows": null,
            "grid_column": null,
            "grid_gap": null,
            "grid_row": null,
            "grid_template_areas": null,
            "grid_template_columns": null,
            "grid_template_rows": null,
            "height": null,
            "justify_content": null,
            "justify_items": null,
            "left": null,
            "margin": null,
            "max_height": null,
            "max_width": null,
            "min_height": null,
            "min_width": null,
            "object_fit": null,
            "object_position": null,
            "order": null,
            "overflow": null,
            "overflow_x": null,
            "overflow_y": null,
            "padding": null,
            "right": null,
            "top": null,
            "visibility": null,
            "width": null
          }
        },
        "c2897e1829ed4a948e1dd942a392dc00": {
          "model_module": "@jupyter-widgets/controls",
          "model_name": "ProgressStyleModel",
          "model_module_version": "1.5.0",
          "state": {
            "_model_module": "@jupyter-widgets/controls",
            "_model_module_version": "1.5.0",
            "_model_name": "ProgressStyleModel",
            "_view_count": null,
            "_view_module": "@jupyter-widgets/base",
            "_view_module_version": "1.2.0",
            "_view_name": "StyleView",
            "bar_color": null,
            "description_width": ""
          }
        },
        "e5b7a676ec424c77b4537470162fe850": {
          "model_module": "@jupyter-widgets/base",
          "model_name": "LayoutModel",
          "model_module_version": "1.2.0",
          "state": {
            "_model_module": "@jupyter-widgets/base",
            "_model_module_version": "1.2.0",
            "_model_name": "LayoutModel",
            "_view_count": null,
            "_view_module": "@jupyter-widgets/base",
            "_view_module_version": "1.2.0",
            "_view_name": "LayoutView",
            "align_content": null,
            "align_items": null,
            "align_self": null,
            "border": null,
            "bottom": null,
            "display": null,
            "flex": null,
            "flex_flow": null,
            "grid_area": null,
            "grid_auto_columns": null,
            "grid_auto_flow": null,
            "grid_auto_rows": null,
            "grid_column": null,
            "grid_gap": null,
            "grid_row": null,
            "grid_template_areas": null,
            "grid_template_columns": null,
            "grid_template_rows": null,
            "height": null,
            "justify_content": null,
            "justify_items": null,
            "left": null,
            "margin": null,
            "max_height": null,
            "max_width": null,
            "min_height": null,
            "min_width": null,
            "object_fit": null,
            "object_position": null,
            "order": null,
            "overflow": null,
            "overflow_x": null,
            "overflow_y": null,
            "padding": null,
            "right": null,
            "top": null,
            "visibility": null,
            "width": null
          }
        },
        "f06f972fae6b4ab282f64781ca31e1db": {
          "model_module": "@jupyter-widgets/controls",
          "model_name": "DescriptionStyleModel",
          "model_module_version": "1.5.0",
          "state": {
            "_model_module": "@jupyter-widgets/controls",
            "_model_module_version": "1.5.0",
            "_model_name": "DescriptionStyleModel",
            "_view_count": null,
            "_view_module": "@jupyter-widgets/base",
            "_view_module_version": "1.2.0",
            "_view_name": "StyleView",
            "description_width": ""
          }
        },
        "ae1cfaa4547d4af3891afaa00913b439": {
          "model_module": "@jupyter-widgets/controls",
          "model_name": "HBoxModel",
          "model_module_version": "1.5.0",
          "state": {
            "_dom_classes": [],
            "_model_module": "@jupyter-widgets/controls",
            "_model_module_version": "1.5.0",
            "_model_name": "HBoxModel",
            "_view_count": null,
            "_view_module": "@jupyter-widgets/controls",
            "_view_module_version": "1.5.0",
            "_view_name": "HBoxView",
            "box_style": "",
            "children": [
              "IPY_MODEL_7a24c8f7c02f48acb177efc5a2aea59d",
              "IPY_MODEL_cabbce26da88496ca88ce2f916ea0574",
              "IPY_MODEL_2996bcd0a9674837a5d82b5a2f8e1c29"
            ],
            "layout": "IPY_MODEL_d7fc9ea87f80479f83729603b8e4056b"
          }
        },
        "7a24c8f7c02f48acb177efc5a2aea59d": {
          "model_module": "@jupyter-widgets/controls",
          "model_name": "HTMLModel",
          "model_module_version": "1.5.0",
          "state": {
            "_dom_classes": [],
            "_model_module": "@jupyter-widgets/controls",
            "_model_module_version": "1.5.0",
            "_model_name": "HTMLModel",
            "_view_count": null,
            "_view_module": "@jupyter-widgets/controls",
            "_view_module_version": "1.5.0",
            "_view_name": "HTMLView",
            "description": "",
            "description_tooltip": null,
            "layout": "IPY_MODEL_851f51dd758349db956119c6d7de36dd",
            "placeholder": "​",
            "style": "IPY_MODEL_4afa3d6214b8457f85f08ae63da18a18",
            "value": "train-00000-of-00001.parquet: 100%"
          }
        },
        "cabbce26da88496ca88ce2f916ea0574": {
          "model_module": "@jupyter-widgets/controls",
          "model_name": "FloatProgressModel",
          "model_module_version": "1.5.0",
          "state": {
            "_dom_classes": [],
            "_model_module": "@jupyter-widgets/controls",
            "_model_module_version": "1.5.0",
            "_model_name": "FloatProgressModel",
            "_view_count": null,
            "_view_module": "@jupyter-widgets/controls",
            "_view_module_version": "1.5.0",
            "_view_name": "ProgressView",
            "bar_style": "success",
            "description": "",
            "description_tooltip": null,
            "layout": "IPY_MODEL_d0a1de59814045f99e8410369e85b8d4",
            "max": 76987383,
            "min": 0,
            "orientation": "horizontal",
            "style": "IPY_MODEL_e4e8466590334ba4a6ba2cb6eace1a27",
            "value": 76987383
          }
        },
        "2996bcd0a9674837a5d82b5a2f8e1c29": {
          "model_module": "@jupyter-widgets/controls",
          "model_name": "HTMLModel",
          "model_module_version": "1.5.0",
          "state": {
            "_dom_classes": [],
            "_model_module": "@jupyter-widgets/controls",
            "_model_module_version": "1.5.0",
            "_model_name": "HTMLModel",
            "_view_count": null,
            "_view_module": "@jupyter-widgets/controls",
            "_view_module_version": "1.5.0",
            "_view_name": "HTMLView",
            "description": "",
            "description_tooltip": null,
            "layout": "IPY_MODEL_915814996f14412a91987b03de038d55",
            "placeholder": "​",
            "style": "IPY_MODEL_7919c36d9af3467c8ad7415165978fd3",
            "value": " 77.0M/77.0M [00:01&lt;00:00, 82.6MB/s]"
          }
        },
        "d7fc9ea87f80479f83729603b8e4056b": {
          "model_module": "@jupyter-widgets/base",
          "model_name": "LayoutModel",
          "model_module_version": "1.2.0",
          "state": {
            "_model_module": "@jupyter-widgets/base",
            "_model_module_version": "1.2.0",
            "_model_name": "LayoutModel",
            "_view_count": null,
            "_view_module": "@jupyter-widgets/base",
            "_view_module_version": "1.2.0",
            "_view_name": "LayoutView",
            "align_content": null,
            "align_items": null,
            "align_self": null,
            "border": null,
            "bottom": null,
            "display": null,
            "flex": null,
            "flex_flow": null,
            "grid_area": null,
            "grid_auto_columns": null,
            "grid_auto_flow": null,
            "grid_auto_rows": null,
            "grid_column": null,
            "grid_gap": null,
            "grid_row": null,
            "grid_template_areas": null,
            "grid_template_columns": null,
            "grid_template_rows": null,
            "height": null,
            "justify_content": null,
            "justify_items": null,
            "left": null,
            "margin": null,
            "max_height": null,
            "max_width": null,
            "min_height": null,
            "min_width": null,
            "object_fit": null,
            "object_position": null,
            "order": null,
            "overflow": null,
            "overflow_x": null,
            "overflow_y": null,
            "padding": null,
            "right": null,
            "top": null,
            "visibility": null,
            "width": null
          }
        },
        "851f51dd758349db956119c6d7de36dd": {
          "model_module": "@jupyter-widgets/base",
          "model_name": "LayoutModel",
          "model_module_version": "1.2.0",
          "state": {
            "_model_module": "@jupyter-widgets/base",
            "_model_module_version": "1.2.0",
            "_model_name": "LayoutModel",
            "_view_count": null,
            "_view_module": "@jupyter-widgets/base",
            "_view_module_version": "1.2.0",
            "_view_name": "LayoutView",
            "align_content": null,
            "align_items": null,
            "align_self": null,
            "border": null,
            "bottom": null,
            "display": null,
            "flex": null,
            "flex_flow": null,
            "grid_area": null,
            "grid_auto_columns": null,
            "grid_auto_flow": null,
            "grid_auto_rows": null,
            "grid_column": null,
            "grid_gap": null,
            "grid_row": null,
            "grid_template_areas": null,
            "grid_template_columns": null,
            "grid_template_rows": null,
            "height": null,
            "justify_content": null,
            "justify_items": null,
            "left": null,
            "margin": null,
            "max_height": null,
            "max_width": null,
            "min_height": null,
            "min_width": null,
            "object_fit": null,
            "object_position": null,
            "order": null,
            "overflow": null,
            "overflow_x": null,
            "overflow_y": null,
            "padding": null,
            "right": null,
            "top": null,
            "visibility": null,
            "width": null
          }
        },
        "4afa3d6214b8457f85f08ae63da18a18": {
          "model_module": "@jupyter-widgets/controls",
          "model_name": "DescriptionStyleModel",
          "model_module_version": "1.5.0",
          "state": {
            "_model_module": "@jupyter-widgets/controls",
            "_model_module_version": "1.5.0",
            "_model_name": "DescriptionStyleModel",
            "_view_count": null,
            "_view_module": "@jupyter-widgets/base",
            "_view_module_version": "1.2.0",
            "_view_name": "StyleView",
            "description_width": ""
          }
        },
        "d0a1de59814045f99e8410369e85b8d4": {
          "model_module": "@jupyter-widgets/base",
          "model_name": "LayoutModel",
          "model_module_version": "1.2.0",
          "state": {
            "_model_module": "@jupyter-widgets/base",
            "_model_module_version": "1.2.0",
            "_model_name": "LayoutModel",
            "_view_count": null,
            "_view_module": "@jupyter-widgets/base",
            "_view_module_version": "1.2.0",
            "_view_name": "LayoutView",
            "align_content": null,
            "align_items": null,
            "align_self": null,
            "border": null,
            "bottom": null,
            "display": null,
            "flex": null,
            "flex_flow": null,
            "grid_area": null,
            "grid_auto_columns": null,
            "grid_auto_flow": null,
            "grid_auto_rows": null,
            "grid_column": null,
            "grid_gap": null,
            "grid_row": null,
            "grid_template_areas": null,
            "grid_template_columns": null,
            "grid_template_rows": null,
            "height": null,
            "justify_content": null,
            "justify_items": null,
            "left": null,
            "margin": null,
            "max_height": null,
            "max_width": null,
            "min_height": null,
            "min_width": null,
            "object_fit": null,
            "object_position": null,
            "order": null,
            "overflow": null,
            "overflow_x": null,
            "overflow_y": null,
            "padding": null,
            "right": null,
            "top": null,
            "visibility": null,
            "width": null
          }
        },
        "e4e8466590334ba4a6ba2cb6eace1a27": {
          "model_module": "@jupyter-widgets/controls",
          "model_name": "ProgressStyleModel",
          "model_module_version": "1.5.0",
          "state": {
            "_model_module": "@jupyter-widgets/controls",
            "_model_module_version": "1.5.0",
            "_model_name": "ProgressStyleModel",
            "_view_count": null,
            "_view_module": "@jupyter-widgets/base",
            "_view_module_version": "1.2.0",
            "_view_name": "StyleView",
            "bar_color": null,
            "description_width": ""
          }
        },
        "915814996f14412a91987b03de038d55": {
          "model_module": "@jupyter-widgets/base",
          "model_name": "LayoutModel",
          "model_module_version": "1.2.0",
          "state": {
            "_model_module": "@jupyter-widgets/base",
            "_model_module_version": "1.2.0",
            "_model_name": "LayoutModel",
            "_view_count": null,
            "_view_module": "@jupyter-widgets/base",
            "_view_module_version": "1.2.0",
            "_view_name": "LayoutView",
            "align_content": null,
            "align_items": null,
            "align_self": null,
            "border": null,
            "bottom": null,
            "display": null,
            "flex": null,
            "flex_flow": null,
            "grid_area": null,
            "grid_auto_columns": null,
            "grid_auto_flow": null,
            "grid_auto_rows": null,
            "grid_column": null,
            "grid_gap": null,
            "grid_row": null,
            "grid_template_areas": null,
            "grid_template_columns": null,
            "grid_template_rows": null,
            "height": null,
            "justify_content": null,
            "justify_items": null,
            "left": null,
            "margin": null,
            "max_height": null,
            "max_width": null,
            "min_height": null,
            "min_width": null,
            "object_fit": null,
            "object_position": null,
            "order": null,
            "overflow": null,
            "overflow_x": null,
            "overflow_y": null,
            "padding": null,
            "right": null,
            "top": null,
            "visibility": null,
            "width": null
          }
        },
        "7919c36d9af3467c8ad7415165978fd3": {
          "model_module": "@jupyter-widgets/controls",
          "model_name": "DescriptionStyleModel",
          "model_module_version": "1.5.0",
          "state": {
            "_model_module": "@jupyter-widgets/controls",
            "_model_module_version": "1.5.0",
            "_model_name": "DescriptionStyleModel",
            "_view_count": null,
            "_view_module": "@jupyter-widgets/base",
            "_view_module_version": "1.2.0",
            "_view_name": "StyleView",
            "description_width": ""
          }
        },
        "d54831a1e7f74c92b767b96fd33680fa": {
          "model_module": "@jupyter-widgets/controls",
          "model_name": "HBoxModel",
          "model_module_version": "1.5.0",
          "state": {
            "_dom_classes": [],
            "_model_module": "@jupyter-widgets/controls",
            "_model_module_version": "1.5.0",
            "_model_name": "HBoxModel",
            "_view_count": null,
            "_view_module": "@jupyter-widgets/controls",
            "_view_module_version": "1.5.0",
            "_view_name": "HBoxView",
            "box_style": "",
            "children": [
              "IPY_MODEL_c2daf8fa94574406990eddb8e1dbd3af",
              "IPY_MODEL_46e4b2e8066143dd9c25af4608ad10a0",
              "IPY_MODEL_d15ab507bfde44e79e5a1cc3acc66264"
            ],
            "layout": "IPY_MODEL_de7054af9fa745ff9f2971826e38637d"
          }
        },
        "c2daf8fa94574406990eddb8e1dbd3af": {
          "model_module": "@jupyter-widgets/controls",
          "model_name": "HTMLModel",
          "model_module_version": "1.5.0",
          "state": {
            "_dom_classes": [],
            "_model_module": "@jupyter-widgets/controls",
            "_model_module_version": "1.5.0",
            "_model_name": "HTMLModel",
            "_view_count": null,
            "_view_module": "@jupyter-widgets/controls",
            "_view_module_version": "1.5.0",
            "_view_name": "HTMLView",
            "description": "",
            "description_tooltip": null,
            "layout": "IPY_MODEL_986708518dc248c287d1e53718985040",
            "placeholder": "​",
            "style": "IPY_MODEL_33e929b2519745f7b2942f8713060ee3",
            "value": "Generating train split: 100%"
          }
        },
        "46e4b2e8066143dd9c25af4608ad10a0": {
          "model_module": "@jupyter-widgets/controls",
          "model_name": "FloatProgressModel",
          "model_module_version": "1.5.0",
          "state": {
            "_dom_classes": [],
            "_model_module": "@jupyter-widgets/controls",
            "_model_module_version": "1.5.0",
            "_model_name": "FloatProgressModel",
            "_view_count": null,
            "_view_module": "@jupyter-widgets/controls",
            "_view_module_version": "1.5.0",
            "_view_name": "ProgressView",
            "bar_style": "success",
            "description": "",
            "description_tooltip": null,
            "layout": "IPY_MODEL_2c2df404db75479e853116060b18e0b8",
            "max": 10434,
            "min": 0,
            "orientation": "horizontal",
            "style": "IPY_MODEL_e8d201743caf49dbbafbc77abd7186e9",
            "value": 10434
          }
        },
        "d15ab507bfde44e79e5a1cc3acc66264": {
          "model_module": "@jupyter-widgets/controls",
          "model_name": "HTMLModel",
          "model_module_version": "1.5.0",
          "state": {
            "_dom_classes": [],
            "_model_module": "@jupyter-widgets/controls",
            "_model_module_version": "1.5.0",
            "_model_name": "HTMLModel",
            "_view_count": null,
            "_view_module": "@jupyter-widgets/controls",
            "_view_module_version": "1.5.0",
            "_view_name": "HTMLView",
            "description": "",
            "description_tooltip": null,
            "layout": "IPY_MODEL_4dcc8d6dfbc64d509a9435143776badc",
            "placeholder": "​",
            "style": "IPY_MODEL_7448a5fb8e2548e4a698d67de2b444c5",
            "value": " 10434/10434 [00:02&lt;00:00, 5387.41 examples/s]"
          }
        },
        "de7054af9fa745ff9f2971826e38637d": {
          "model_module": "@jupyter-widgets/base",
          "model_name": "LayoutModel",
          "model_module_version": "1.2.0",
          "state": {
            "_model_module": "@jupyter-widgets/base",
            "_model_module_version": "1.2.0",
            "_model_name": "LayoutModel",
            "_view_count": null,
            "_view_module": "@jupyter-widgets/base",
            "_view_module_version": "1.2.0",
            "_view_name": "LayoutView",
            "align_content": null,
            "align_items": null,
            "align_self": null,
            "border": null,
            "bottom": null,
            "display": null,
            "flex": null,
            "flex_flow": null,
            "grid_area": null,
            "grid_auto_columns": null,
            "grid_auto_flow": null,
            "grid_auto_rows": null,
            "grid_column": null,
            "grid_gap": null,
            "grid_row": null,
            "grid_template_areas": null,
            "grid_template_columns": null,
            "grid_template_rows": null,
            "height": null,
            "justify_content": null,
            "justify_items": null,
            "left": null,
            "margin": null,
            "max_height": null,
            "max_width": null,
            "min_height": null,
            "min_width": null,
            "object_fit": null,
            "object_position": null,
            "order": null,
            "overflow": null,
            "overflow_x": null,
            "overflow_y": null,
            "padding": null,
            "right": null,
            "top": null,
            "visibility": null,
            "width": null
          }
        },
        "986708518dc248c287d1e53718985040": {
          "model_module": "@jupyter-widgets/base",
          "model_name": "LayoutModel",
          "model_module_version": "1.2.0",
          "state": {
            "_model_module": "@jupyter-widgets/base",
            "_model_module_version": "1.2.0",
            "_model_name": "LayoutModel",
            "_view_count": null,
            "_view_module": "@jupyter-widgets/base",
            "_view_module_version": "1.2.0",
            "_view_name": "LayoutView",
            "align_content": null,
            "align_items": null,
            "align_self": null,
            "border": null,
            "bottom": null,
            "display": null,
            "flex": null,
            "flex_flow": null,
            "grid_area": null,
            "grid_auto_columns": null,
            "grid_auto_flow": null,
            "grid_auto_rows": null,
            "grid_column": null,
            "grid_gap": null,
            "grid_row": null,
            "grid_template_areas": null,
            "grid_template_columns": null,
            "grid_template_rows": null,
            "height": null,
            "justify_content": null,
            "justify_items": null,
            "left": null,
            "margin": null,
            "max_height": null,
            "max_width": null,
            "min_height": null,
            "min_width": null,
            "object_fit": null,
            "object_position": null,
            "order": null,
            "overflow": null,
            "overflow_x": null,
            "overflow_y": null,
            "padding": null,
            "right": null,
            "top": null,
            "visibility": null,
            "width": null
          }
        },
        "33e929b2519745f7b2942f8713060ee3": {
          "model_module": "@jupyter-widgets/controls",
          "model_name": "DescriptionStyleModel",
          "model_module_version": "1.5.0",
          "state": {
            "_model_module": "@jupyter-widgets/controls",
            "_model_module_version": "1.5.0",
            "_model_name": "DescriptionStyleModel",
            "_view_count": null,
            "_view_module": "@jupyter-widgets/base",
            "_view_module_version": "1.2.0",
            "_view_name": "StyleView",
            "description_width": ""
          }
        },
        "2c2df404db75479e853116060b18e0b8": {
          "model_module": "@jupyter-widgets/base",
          "model_name": "LayoutModel",
          "model_module_version": "1.2.0",
          "state": {
            "_model_module": "@jupyter-widgets/base",
            "_model_module_version": "1.2.0",
            "_model_name": "LayoutModel",
            "_view_count": null,
            "_view_module": "@jupyter-widgets/base",
            "_view_module_version": "1.2.0",
            "_view_name": "LayoutView",
            "align_content": null,
            "align_items": null,
            "align_self": null,
            "border": null,
            "bottom": null,
            "display": null,
            "flex": null,
            "flex_flow": null,
            "grid_area": null,
            "grid_auto_columns": null,
            "grid_auto_flow": null,
            "grid_auto_rows": null,
            "grid_column": null,
            "grid_gap": null,
            "grid_row": null,
            "grid_template_areas": null,
            "grid_template_columns": null,
            "grid_template_rows": null,
            "height": null,
            "justify_content": null,
            "justify_items": null,
            "left": null,
            "margin": null,
            "max_height": null,
            "max_width": null,
            "min_height": null,
            "min_width": null,
            "object_fit": null,
            "object_position": null,
            "order": null,
            "overflow": null,
            "overflow_x": null,
            "overflow_y": null,
            "padding": null,
            "right": null,
            "top": null,
            "visibility": null,
            "width": null
          }
        },
        "e8d201743caf49dbbafbc77abd7186e9": {
          "model_module": "@jupyter-widgets/controls",
          "model_name": "ProgressStyleModel",
          "model_module_version": "1.5.0",
          "state": {
            "_model_module": "@jupyter-widgets/controls",
            "_model_module_version": "1.5.0",
            "_model_name": "ProgressStyleModel",
            "_view_count": null,
            "_view_module": "@jupyter-widgets/base",
            "_view_module_version": "1.2.0",
            "_view_name": "StyleView",
            "bar_color": null,
            "description_width": ""
          }
        },
        "4dcc8d6dfbc64d509a9435143776badc": {
          "model_module": "@jupyter-widgets/base",
          "model_name": "LayoutModel",
          "model_module_version": "1.2.0",
          "state": {
            "_model_module": "@jupyter-widgets/base",
            "_model_module_version": "1.2.0",
            "_model_name": "LayoutModel",
            "_view_count": null,
            "_view_module": "@jupyter-widgets/base",
            "_view_module_version": "1.2.0",
            "_view_name": "LayoutView",
            "align_content": null,
            "align_items": null,
            "align_self": null,
            "border": null,
            "bottom": null,
            "display": null,
            "flex": null,
            "flex_flow": null,
            "grid_area": null,
            "grid_auto_columns": null,
            "grid_auto_flow": null,
            "grid_auto_rows": null,
            "grid_column": null,
            "grid_gap": null,
            "grid_row": null,
            "grid_template_areas": null,
            "grid_template_columns": null,
            "grid_template_rows": null,
            "height": null,
            "justify_content": null,
            "justify_items": null,
            "left": null,
            "margin": null,
            "max_height": null,
            "max_width": null,
            "min_height": null,
            "min_width": null,
            "object_fit": null,
            "object_position": null,
            "order": null,
            "overflow": null,
            "overflow_x": null,
            "overflow_y": null,
            "padding": null,
            "right": null,
            "top": null,
            "visibility": null,
            "width": null
          }
        },
        "7448a5fb8e2548e4a698d67de2b444c5": {
          "model_module": "@jupyter-widgets/controls",
          "model_name": "DescriptionStyleModel",
          "model_module_version": "1.5.0",
          "state": {
            "_model_module": "@jupyter-widgets/controls",
            "_model_module_version": "1.5.0",
            "_model_name": "DescriptionStyleModel",
            "_view_count": null,
            "_view_module": "@jupyter-widgets/base",
            "_view_module_version": "1.2.0",
            "_view_name": "StyleView",
            "description_width": ""
          }
        },
        "5c44fba12e6f415595167d4646a4811c": {
          "model_module": "@jupyter-widgets/controls",
          "model_name": "HBoxModel",
          "model_module_version": "1.5.0",
          "state": {
            "_dom_classes": [],
            "_model_module": "@jupyter-widgets/controls",
            "_model_module_version": "1.5.0",
            "_model_name": "HBoxModel",
            "_view_count": null,
            "_view_module": "@jupyter-widgets/controls",
            "_view_module_version": "1.5.0",
            "_view_name": "HBoxView",
            "box_style": "",
            "children": [
              "IPY_MODEL_ce2bd0ac0ac641e28ee32342c352dd76",
              "IPY_MODEL_12fbf4344fc04bf8b45bc76e0961f7a0",
              "IPY_MODEL_1eecfe37280942e8b5a606eb5c4a3951"
            ],
            "layout": "IPY_MODEL_c6c5ff86d3d341f2be83e23544bd9d7a"
          }
        },
        "ce2bd0ac0ac641e28ee32342c352dd76": {
          "model_module": "@jupyter-widgets/controls",
          "model_name": "HTMLModel",
          "model_module_version": "1.5.0",
          "state": {
            "_dom_classes": [],
            "_model_module": "@jupyter-widgets/controls",
            "_model_module_version": "1.5.0",
            "_model_name": "HTMLModel",
            "_view_count": null,
            "_view_module": "@jupyter-widgets/controls",
            "_view_module_version": "1.5.0",
            "_view_name": "HTMLView",
            "description": "",
            "description_tooltip": null,
            "layout": "IPY_MODEL_0389fe62e1cb42748a4bf4ddf8c3024a",
            "placeholder": "​",
            "style": "IPY_MODEL_1eb7b948121145fb961d2b10a681c458",
            "value": "Uploading the dataset shards: 100%"
          }
        },
        "12fbf4344fc04bf8b45bc76e0961f7a0": {
          "model_module": "@jupyter-widgets/controls",
          "model_name": "FloatProgressModel",
          "model_module_version": "1.5.0",
          "state": {
            "_dom_classes": [],
            "_model_module": "@jupyter-widgets/controls",
            "_model_module_version": "1.5.0",
            "_model_name": "FloatProgressModel",
            "_view_count": null,
            "_view_module": "@jupyter-widgets/controls",
            "_view_module_version": "1.5.0",
            "_view_name": "ProgressView",
            "bar_style": "success",
            "description": "",
            "description_tooltip": null,
            "layout": "IPY_MODEL_c3b6176d909448dda534a5e50f83c68b",
            "max": 1,
            "min": 0,
            "orientation": "horizontal",
            "style": "IPY_MODEL_0ffb408f449743f8a905ffeabcd4214e",
            "value": 1
          }
        },
        "1eecfe37280942e8b5a606eb5c4a3951": {
          "model_module": "@jupyter-widgets/controls",
          "model_name": "HTMLModel",
          "model_module_version": "1.5.0",
          "state": {
            "_dom_classes": [],
            "_model_module": "@jupyter-widgets/controls",
            "_model_module_version": "1.5.0",
            "_model_name": "HTMLModel",
            "_view_count": null,
            "_view_module": "@jupyter-widgets/controls",
            "_view_module_version": "1.5.0",
            "_view_name": "HTMLView",
            "description": "",
            "description_tooltip": null,
            "layout": "IPY_MODEL_d5e397a3f9ae4b3c80992050aa381b97",
            "placeholder": "​",
            "style": "IPY_MODEL_ca976474465b4840bf89bddd6c94fff3",
            "value": " 1/1 [00:02&lt;00:00,  2.39s/it]"
          }
        },
        "c6c5ff86d3d341f2be83e23544bd9d7a": {
          "model_module": "@jupyter-widgets/base",
          "model_name": "LayoutModel",
          "model_module_version": "1.2.0",
          "state": {
            "_model_module": "@jupyter-widgets/base",
            "_model_module_version": "1.2.0",
            "_model_name": "LayoutModel",
            "_view_count": null,
            "_view_module": "@jupyter-widgets/base",
            "_view_module_version": "1.2.0",
            "_view_name": "LayoutView",
            "align_content": null,
            "align_items": null,
            "align_self": null,
            "border": null,
            "bottom": null,
            "display": null,
            "flex": null,
            "flex_flow": null,
            "grid_area": null,
            "grid_auto_columns": null,
            "grid_auto_flow": null,
            "grid_auto_rows": null,
            "grid_column": null,
            "grid_gap": null,
            "grid_row": null,
            "grid_template_areas": null,
            "grid_template_columns": null,
            "grid_template_rows": null,
            "height": null,
            "justify_content": null,
            "justify_items": null,
            "left": null,
            "margin": null,
            "max_height": null,
            "max_width": null,
            "min_height": null,
            "min_width": null,
            "object_fit": null,
            "object_position": null,
            "order": null,
            "overflow": null,
            "overflow_x": null,
            "overflow_y": null,
            "padding": null,
            "right": null,
            "top": null,
            "visibility": null,
            "width": null
          }
        },
        "0389fe62e1cb42748a4bf4ddf8c3024a": {
          "model_module": "@jupyter-widgets/base",
          "model_name": "LayoutModel",
          "model_module_version": "1.2.0",
          "state": {
            "_model_module": "@jupyter-widgets/base",
            "_model_module_version": "1.2.0",
            "_model_name": "LayoutModel",
            "_view_count": null,
            "_view_module": "@jupyter-widgets/base",
            "_view_module_version": "1.2.0",
            "_view_name": "LayoutView",
            "align_content": null,
            "align_items": null,
            "align_self": null,
            "border": null,
            "bottom": null,
            "display": null,
            "flex": null,
            "flex_flow": null,
            "grid_area": null,
            "grid_auto_columns": null,
            "grid_auto_flow": null,
            "grid_auto_rows": null,
            "grid_column": null,
            "grid_gap": null,
            "grid_row": null,
            "grid_template_areas": null,
            "grid_template_columns": null,
            "grid_template_rows": null,
            "height": null,
            "justify_content": null,
            "justify_items": null,
            "left": null,
            "margin": null,
            "max_height": null,
            "max_width": null,
            "min_height": null,
            "min_width": null,
            "object_fit": null,
            "object_position": null,
            "order": null,
            "overflow": null,
            "overflow_x": null,
            "overflow_y": null,
            "padding": null,
            "right": null,
            "top": null,
            "visibility": null,
            "width": null
          }
        },
        "1eb7b948121145fb961d2b10a681c458": {
          "model_module": "@jupyter-widgets/controls",
          "model_name": "DescriptionStyleModel",
          "model_module_version": "1.5.0",
          "state": {
            "_model_module": "@jupyter-widgets/controls",
            "_model_module_version": "1.5.0",
            "_model_name": "DescriptionStyleModel",
            "_view_count": null,
            "_view_module": "@jupyter-widgets/base",
            "_view_module_version": "1.2.0",
            "_view_name": "StyleView",
            "description_width": ""
          }
        },
        "c3b6176d909448dda534a5e50f83c68b": {
          "model_module": "@jupyter-widgets/base",
          "model_name": "LayoutModel",
          "model_module_version": "1.2.0",
          "state": {
            "_model_module": "@jupyter-widgets/base",
            "_model_module_version": "1.2.0",
            "_model_name": "LayoutModel",
            "_view_count": null,
            "_view_module": "@jupyter-widgets/base",
            "_view_module_version": "1.2.0",
            "_view_name": "LayoutView",
            "align_content": null,
            "align_items": null,
            "align_self": null,
            "border": null,
            "bottom": null,
            "display": null,
            "flex": null,
            "flex_flow": null,
            "grid_area": null,
            "grid_auto_columns": null,
            "grid_auto_flow": null,
            "grid_auto_rows": null,
            "grid_column": null,
            "grid_gap": null,
            "grid_row": null,
            "grid_template_areas": null,
            "grid_template_columns": null,
            "grid_template_rows": null,
            "height": null,
            "justify_content": null,
            "justify_items": null,
            "left": null,
            "margin": null,
            "max_height": null,
            "max_width": null,
            "min_height": null,
            "min_width": null,
            "object_fit": null,
            "object_position": null,
            "order": null,
            "overflow": null,
            "overflow_x": null,
            "overflow_y": null,
            "padding": null,
            "right": null,
            "top": null,
            "visibility": null,
            "width": null
          }
        },
        "0ffb408f449743f8a905ffeabcd4214e": {
          "model_module": "@jupyter-widgets/controls",
          "model_name": "ProgressStyleModel",
          "model_module_version": "1.5.0",
          "state": {
            "_model_module": "@jupyter-widgets/controls",
            "_model_module_version": "1.5.0",
            "_model_name": "ProgressStyleModel",
            "_view_count": null,
            "_view_module": "@jupyter-widgets/base",
            "_view_module_version": "1.2.0",
            "_view_name": "StyleView",
            "bar_color": null,
            "description_width": ""
          }
        },
        "d5e397a3f9ae4b3c80992050aa381b97": {
          "model_module": "@jupyter-widgets/base",
          "model_name": "LayoutModel",
          "model_module_version": "1.2.0",
          "state": {
            "_model_module": "@jupyter-widgets/base",
            "_model_module_version": "1.2.0",
            "_model_name": "LayoutModel",
            "_view_count": null,
            "_view_module": "@jupyter-widgets/base",
            "_view_module_version": "1.2.0",
            "_view_name": "LayoutView",
            "align_content": null,
            "align_items": null,
            "align_self": null,
            "border": null,
            "bottom": null,
            "display": null,
            "flex": null,
            "flex_flow": null,
            "grid_area": null,
            "grid_auto_columns": null,
            "grid_auto_flow": null,
            "grid_auto_rows": null,
            "grid_column": null,
            "grid_gap": null,
            "grid_row": null,
            "grid_template_areas": null,
            "grid_template_columns": null,
            "grid_template_rows": null,
            "height": null,
            "justify_content": null,
            "justify_items": null,
            "left": null,
            "margin": null,
            "max_height": null,
            "max_width": null,
            "min_height": null,
            "min_width": null,
            "object_fit": null,
            "object_position": null,
            "order": null,
            "overflow": null,
            "overflow_x": null,
            "overflow_y": null,
            "padding": null,
            "right": null,
            "top": null,
            "visibility": null,
            "width": null
          }
        },
        "ca976474465b4840bf89bddd6c94fff3": {
          "model_module": "@jupyter-widgets/controls",
          "model_name": "DescriptionStyleModel",
          "model_module_version": "1.5.0",
          "state": {
            "_model_module": "@jupyter-widgets/controls",
            "_model_module_version": "1.5.0",
            "_model_name": "DescriptionStyleModel",
            "_view_count": null,
            "_view_module": "@jupyter-widgets/base",
            "_view_module_version": "1.2.0",
            "_view_name": "StyleView",
            "description_width": ""
          }
        },
        "75769a68e5f446d0adaf5cde8171bbc7": {
          "model_module": "@jupyter-widgets/controls",
          "model_name": "HBoxModel",
          "model_module_version": "1.5.0",
          "state": {
            "_dom_classes": [],
            "_model_module": "@jupyter-widgets/controls",
            "_model_module_version": "1.5.0",
            "_model_name": "HBoxModel",
            "_view_count": null,
            "_view_module": "@jupyter-widgets/controls",
            "_view_module_version": "1.5.0",
            "_view_name": "HBoxView",
            "box_style": "",
            "children": [
              "IPY_MODEL_32ae98382f3145e6a600c9b1358330e4",
              "IPY_MODEL_63d8b69e6a0748a2a35a16b0770193c8",
              "IPY_MODEL_144e039e00224e4e93814ae45319fde8"
            ],
            "layout": "IPY_MODEL_2d3ab8f8add24a90bac133197b09bb32"
          }
        },
        "32ae98382f3145e6a600c9b1358330e4": {
          "model_module": "@jupyter-widgets/controls",
          "model_name": "HTMLModel",
          "model_module_version": "1.5.0",
          "state": {
            "_dom_classes": [],
            "_model_module": "@jupyter-widgets/controls",
            "_model_module_version": "1.5.0",
            "_model_name": "HTMLModel",
            "_view_count": null,
            "_view_module": "@jupyter-widgets/controls",
            "_view_module_version": "1.5.0",
            "_view_name": "HTMLView",
            "description": "",
            "description_tooltip": null,
            "layout": "IPY_MODEL_33028d19510e4b818683fd0c96b2ea7c",
            "placeholder": "​",
            "style": "IPY_MODEL_292d5830a06e43268593f07497f66074",
            "value": "Creating parquet from Arrow format: 100%"
          }
        },
        "63d8b69e6a0748a2a35a16b0770193c8": {
          "model_module": "@jupyter-widgets/controls",
          "model_name": "FloatProgressModel",
          "model_module_version": "1.5.0",
          "state": {
            "_dom_classes": [],
            "_model_module": "@jupyter-widgets/controls",
            "_model_module_version": "1.5.0",
            "_model_name": "FloatProgressModel",
            "_view_count": null,
            "_view_module": "@jupyter-widgets/controls",
            "_view_module_version": "1.5.0",
            "_view_name": "ProgressView",
            "bar_style": "success",
            "description": "",
            "description_tooltip": null,
            "layout": "IPY_MODEL_48ec29e13b7c4b778805014b463cbcbc",
            "max": 1,
            "min": 0,
            "orientation": "horizontal",
            "style": "IPY_MODEL_a7f5393344f84dbea55cdb51d594ac4f",
            "value": 1
          }
        },
        "144e039e00224e4e93814ae45319fde8": {
          "model_module": "@jupyter-widgets/controls",
          "model_name": "HTMLModel",
          "model_module_version": "1.5.0",
          "state": {
            "_dom_classes": [],
            "_model_module": "@jupyter-widgets/controls",
            "_model_module_version": "1.5.0",
            "_model_name": "HTMLModel",
            "_view_count": null,
            "_view_module": "@jupyter-widgets/controls",
            "_view_module_version": "1.5.0",
            "_view_name": "HTMLView",
            "description": "",
            "description_tooltip": null,
            "layout": "IPY_MODEL_eb7eb725839b4c4cba307fd18c16809b",
            "placeholder": "​",
            "style": "IPY_MODEL_cf2be9ab4016402abdd8a661b705b451",
            "value": " 1/1 [00:00&lt;00:00, 18.57ba/s]"
          }
        },
        "2d3ab8f8add24a90bac133197b09bb32": {
          "model_module": "@jupyter-widgets/base",
          "model_name": "LayoutModel",
          "model_module_version": "1.2.0",
          "state": {
            "_model_module": "@jupyter-widgets/base",
            "_model_module_version": "1.2.0",
            "_model_name": "LayoutModel",
            "_view_count": null,
            "_view_module": "@jupyter-widgets/base",
            "_view_module_version": "1.2.0",
            "_view_name": "LayoutView",
            "align_content": null,
            "align_items": null,
            "align_self": null,
            "border": null,
            "bottom": null,
            "display": null,
            "flex": null,
            "flex_flow": null,
            "grid_area": null,
            "grid_auto_columns": null,
            "grid_auto_flow": null,
            "grid_auto_rows": null,
            "grid_column": null,
            "grid_gap": null,
            "grid_row": null,
            "grid_template_areas": null,
            "grid_template_columns": null,
            "grid_template_rows": null,
            "height": null,
            "justify_content": null,
            "justify_items": null,
            "left": null,
            "margin": null,
            "max_height": null,
            "max_width": null,
            "min_height": null,
            "min_width": null,
            "object_fit": null,
            "object_position": null,
            "order": null,
            "overflow": null,
            "overflow_x": null,
            "overflow_y": null,
            "padding": null,
            "right": null,
            "top": null,
            "visibility": null,
            "width": null
          }
        },
        "33028d19510e4b818683fd0c96b2ea7c": {
          "model_module": "@jupyter-widgets/base",
          "model_name": "LayoutModel",
          "model_module_version": "1.2.0",
          "state": {
            "_model_module": "@jupyter-widgets/base",
            "_model_module_version": "1.2.0",
            "_model_name": "LayoutModel",
            "_view_count": null,
            "_view_module": "@jupyter-widgets/base",
            "_view_module_version": "1.2.0",
            "_view_name": "LayoutView",
            "align_content": null,
            "align_items": null,
            "align_self": null,
            "border": null,
            "bottom": null,
            "display": null,
            "flex": null,
            "flex_flow": null,
            "grid_area": null,
            "grid_auto_columns": null,
            "grid_auto_flow": null,
            "grid_auto_rows": null,
            "grid_column": null,
            "grid_gap": null,
            "grid_row": null,
            "grid_template_areas": null,
            "grid_template_columns": null,
            "grid_template_rows": null,
            "height": null,
            "justify_content": null,
            "justify_items": null,
            "left": null,
            "margin": null,
            "max_height": null,
            "max_width": null,
            "min_height": null,
            "min_width": null,
            "object_fit": null,
            "object_position": null,
            "order": null,
            "overflow": null,
            "overflow_x": null,
            "overflow_y": null,
            "padding": null,
            "right": null,
            "top": null,
            "visibility": null,
            "width": null
          }
        },
        "292d5830a06e43268593f07497f66074": {
          "model_module": "@jupyter-widgets/controls",
          "model_name": "DescriptionStyleModel",
          "model_module_version": "1.5.0",
          "state": {
            "_model_module": "@jupyter-widgets/controls",
            "_model_module_version": "1.5.0",
            "_model_name": "DescriptionStyleModel",
            "_view_count": null,
            "_view_module": "@jupyter-widgets/base",
            "_view_module_version": "1.2.0",
            "_view_name": "StyleView",
            "description_width": ""
          }
        },
        "48ec29e13b7c4b778805014b463cbcbc": {
          "model_module": "@jupyter-widgets/base",
          "model_name": "LayoutModel",
          "model_module_version": "1.2.0",
          "state": {
            "_model_module": "@jupyter-widgets/base",
            "_model_module_version": "1.2.0",
            "_model_name": "LayoutModel",
            "_view_count": null,
            "_view_module": "@jupyter-widgets/base",
            "_view_module_version": "1.2.0",
            "_view_name": "LayoutView",
            "align_content": null,
            "align_items": null,
            "align_self": null,
            "border": null,
            "bottom": null,
            "display": null,
            "flex": null,
            "flex_flow": null,
            "grid_area": null,
            "grid_auto_columns": null,
            "grid_auto_flow": null,
            "grid_auto_rows": null,
            "grid_column": null,
            "grid_gap": null,
            "grid_row": null,
            "grid_template_areas": null,
            "grid_template_columns": null,
            "grid_template_rows": null,
            "height": null,
            "justify_content": null,
            "justify_items": null,
            "left": null,
            "margin": null,
            "max_height": null,
            "max_width": null,
            "min_height": null,
            "min_width": null,
            "object_fit": null,
            "object_position": null,
            "order": null,
            "overflow": null,
            "overflow_x": null,
            "overflow_y": null,
            "padding": null,
            "right": null,
            "top": null,
            "visibility": null,
            "width": null
          }
        },
        "a7f5393344f84dbea55cdb51d594ac4f": {
          "model_module": "@jupyter-widgets/controls",
          "model_name": "ProgressStyleModel",
          "model_module_version": "1.5.0",
          "state": {
            "_model_module": "@jupyter-widgets/controls",
            "_model_module_version": "1.5.0",
            "_model_name": "ProgressStyleModel",
            "_view_count": null,
            "_view_module": "@jupyter-widgets/base",
            "_view_module_version": "1.2.0",
            "_view_name": "StyleView",
            "bar_color": null,
            "description_width": ""
          }
        },
        "eb7eb725839b4c4cba307fd18c16809b": {
          "model_module": "@jupyter-widgets/base",
          "model_name": "LayoutModel",
          "model_module_version": "1.2.0",
          "state": {
            "_model_module": "@jupyter-widgets/base",
            "_model_module_version": "1.2.0",
            "_model_name": "LayoutModel",
            "_view_count": null,
            "_view_module": "@jupyter-widgets/base",
            "_view_module_version": "1.2.0",
            "_view_name": "LayoutView",
            "align_content": null,
            "align_items": null,
            "align_self": null,
            "border": null,
            "bottom": null,
            "display": null,
            "flex": null,
            "flex_flow": null,
            "grid_area": null,
            "grid_auto_columns": null,
            "grid_auto_flow": null,
            "grid_auto_rows": null,
            "grid_column": null,
            "grid_gap": null,
            "grid_row": null,
            "grid_template_areas": null,
            "grid_template_columns": null,
            "grid_template_rows": null,
            "height": null,
            "justify_content": null,
            "justify_items": null,
            "left": null,
            "margin": null,
            "max_height": null,
            "max_width": null,
            "min_height": null,
            "min_width": null,
            "object_fit": null,
            "object_position": null,
            "order": null,
            "overflow": null,
            "overflow_x": null,
            "overflow_y": null,
            "padding": null,
            "right": null,
            "top": null,
            "visibility": null,
            "width": null
          }
        },
        "cf2be9ab4016402abdd8a661b705b451": {
          "model_module": "@jupyter-widgets/controls",
          "model_name": "DescriptionStyleModel",
          "model_module_version": "1.5.0",
          "state": {
            "_model_module": "@jupyter-widgets/controls",
            "_model_module_version": "1.5.0",
            "_model_name": "DescriptionStyleModel",
            "_view_count": null,
            "_view_module": "@jupyter-widgets/base",
            "_view_module_version": "1.2.0",
            "_view_name": "StyleView",
            "description_width": ""
          }
        }
      }
    }
  },
  "cells": [
    {
      "cell_type": "markdown",
      "metadata": {
        "id": "view-in-github",
        "colab_type": "text"
      },
      "source": [
        "<a href=\"https://colab.research.google.com/github/longjae/raft_rag/blob/master/no_answer.ipynb\" target=\"_parent\"><img src=\"https://colab.research.google.com/assets/colab-badge.svg\" alt=\"Open In Colab\"/></a>"
      ]
    },
    {
      "cell_type": "code",
      "source": [
        "!pip install openai datasets"
      ],
      "metadata": {
        "colab": {
          "base_uri": "https://localhost:8080/"
        },
        "id": "8jx2J64rV4e3",
        "outputId": "0a2237d6-98a6-4a25-d734-9a2ad459d74c"
      },
      "execution_count": null,
      "outputs": [
        {
          "output_type": "stream",
          "name": "stdout",
          "text": [
            "Requirement already satisfied: openai in /usr/local/lib/python3.11/dist-packages (1.78.1)\n",
            "Requirement already satisfied: datasets in /usr/local/lib/python3.11/dist-packages (3.6.0)\n",
            "Requirement already satisfied: anyio<5,>=3.5.0 in /usr/local/lib/python3.11/dist-packages (from openai) (4.9.0)\n",
            "Requirement already satisfied: distro<2,>=1.7.0 in /usr/local/lib/python3.11/dist-packages (from openai) (1.9.0)\n",
            "Requirement already satisfied: httpx<1,>=0.23.0 in /usr/local/lib/python3.11/dist-packages (from openai) (0.28.1)\n",
            "Requirement already satisfied: jiter<1,>=0.4.0 in /usr/local/lib/python3.11/dist-packages (from openai) (0.9.0)\n",
            "Requirement already satisfied: pydantic<3,>=1.9.0 in /usr/local/lib/python3.11/dist-packages (from openai) (2.11.4)\n",
            "Requirement already satisfied: sniffio in /usr/local/lib/python3.11/dist-packages (from openai) (1.3.1)\n",
            "Requirement already satisfied: tqdm>4 in /usr/local/lib/python3.11/dist-packages (from openai) (4.67.1)\n",
            "Requirement already satisfied: typing-extensions<5,>=4.11 in /usr/local/lib/python3.11/dist-packages (from openai) (4.13.2)\n",
            "Requirement already satisfied: filelock in /usr/local/lib/python3.11/dist-packages (from datasets) (3.18.0)\n",
            "Requirement already satisfied: numpy>=1.17 in /usr/local/lib/python3.11/dist-packages (from datasets) (2.0.2)\n",
            "Requirement already satisfied: pyarrow>=15.0.0 in /usr/local/lib/python3.11/dist-packages (from datasets) (18.1.0)\n",
            "Requirement already satisfied: dill<0.3.9,>=0.3.0 in /usr/local/lib/python3.11/dist-packages (from datasets) (0.3.7)\n",
            "Requirement already satisfied: pandas in /usr/local/lib/python3.11/dist-packages (from datasets) (2.2.2)\n",
            "Requirement already satisfied: requests>=2.32.2 in /usr/local/lib/python3.11/dist-packages (from datasets) (2.32.3)\n",
            "Requirement already satisfied: xxhash in /usr/local/lib/python3.11/dist-packages (from datasets) (3.5.0)\n",
            "Requirement already satisfied: multiprocess<0.70.17 in /usr/local/lib/python3.11/dist-packages (from datasets) (0.70.15)\n",
            "Requirement already satisfied: fsspec<=2025.3.0,>=2023.1.0 in /usr/local/lib/python3.11/dist-packages (from fsspec[http]<=2025.3.0,>=2023.1.0->datasets) (2025.3.0)\n",
            "Requirement already satisfied: huggingface-hub>=0.24.0 in /usr/local/lib/python3.11/dist-packages (from datasets) (0.31.2)\n",
            "Requirement already satisfied: packaging in /usr/local/lib/python3.11/dist-packages (from datasets) (24.2)\n",
            "Requirement already satisfied: pyyaml>=5.1 in /usr/local/lib/python3.11/dist-packages (from datasets) (6.0.2)\n",
            "Requirement already satisfied: idna>=2.8 in /usr/local/lib/python3.11/dist-packages (from anyio<5,>=3.5.0->openai) (3.10)\n",
            "Requirement already satisfied: aiohttp!=4.0.0a0,!=4.0.0a1 in /usr/local/lib/python3.11/dist-packages (from fsspec[http]<=2025.3.0,>=2023.1.0->datasets) (3.11.15)\n",
            "Requirement already satisfied: certifi in /usr/local/lib/python3.11/dist-packages (from httpx<1,>=0.23.0->openai) (2025.4.26)\n",
            "Requirement already satisfied: httpcore==1.* in /usr/local/lib/python3.11/dist-packages (from httpx<1,>=0.23.0->openai) (1.0.9)\n",
            "Requirement already satisfied: h11>=0.16 in /usr/local/lib/python3.11/dist-packages (from httpcore==1.*->httpx<1,>=0.23.0->openai) (0.16.0)\n",
            "Requirement already satisfied: annotated-types>=0.6.0 in /usr/local/lib/python3.11/dist-packages (from pydantic<3,>=1.9.0->openai) (0.7.0)\n",
            "Requirement already satisfied: pydantic-core==2.33.2 in /usr/local/lib/python3.11/dist-packages (from pydantic<3,>=1.9.0->openai) (2.33.2)\n",
            "Requirement already satisfied: typing-inspection>=0.4.0 in /usr/local/lib/python3.11/dist-packages (from pydantic<3,>=1.9.0->openai) (0.4.0)\n",
            "Requirement already satisfied: charset-normalizer<4,>=2 in /usr/local/lib/python3.11/dist-packages (from requests>=2.32.2->datasets) (3.4.2)\n",
            "Requirement already satisfied: urllib3<3,>=1.21.1 in /usr/local/lib/python3.11/dist-packages (from requests>=2.32.2->datasets) (2.4.0)\n",
            "Requirement already satisfied: python-dateutil>=2.8.2 in /usr/local/lib/python3.11/dist-packages (from pandas->datasets) (2.9.0.post0)\n",
            "Requirement already satisfied: pytz>=2020.1 in /usr/local/lib/python3.11/dist-packages (from pandas->datasets) (2025.2)\n",
            "Requirement already satisfied: tzdata>=2022.7 in /usr/local/lib/python3.11/dist-packages (from pandas->datasets) (2025.2)\n",
            "Requirement already satisfied: aiohappyeyeballs>=2.3.0 in /usr/local/lib/python3.11/dist-packages (from aiohttp!=4.0.0a0,!=4.0.0a1->fsspec[http]<=2025.3.0,>=2023.1.0->datasets) (2.6.1)\n",
            "Requirement already satisfied: aiosignal>=1.1.2 in /usr/local/lib/python3.11/dist-packages (from aiohttp!=4.0.0a0,!=4.0.0a1->fsspec[http]<=2025.3.0,>=2023.1.0->datasets) (1.3.2)\n",
            "Requirement already satisfied: attrs>=17.3.0 in /usr/local/lib/python3.11/dist-packages (from aiohttp!=4.0.0a0,!=4.0.0a1->fsspec[http]<=2025.3.0,>=2023.1.0->datasets) (25.3.0)\n",
            "Requirement already satisfied: frozenlist>=1.1.1 in /usr/local/lib/python3.11/dist-packages (from aiohttp!=4.0.0a0,!=4.0.0a1->fsspec[http]<=2025.3.0,>=2023.1.0->datasets) (1.6.0)\n",
            "Requirement already satisfied: multidict<7.0,>=4.5 in /usr/local/lib/python3.11/dist-packages (from aiohttp!=4.0.0a0,!=4.0.0a1->fsspec[http]<=2025.3.0,>=2023.1.0->datasets) (6.4.3)\n",
            "Requirement already satisfied: propcache>=0.2.0 in /usr/local/lib/python3.11/dist-packages (from aiohttp!=4.0.0a0,!=4.0.0a1->fsspec[http]<=2025.3.0,>=2023.1.0->datasets) (0.3.1)\n",
            "Requirement already satisfied: yarl<2.0,>=1.17.0 in /usr/local/lib/python3.11/dist-packages (from aiohttp!=4.0.0a0,!=4.0.0a1->fsspec[http]<=2025.3.0,>=2023.1.0->datasets) (1.20.0)\n",
            "Requirement already satisfied: six>=1.5 in /usr/local/lib/python3.11/dist-packages (from python-dateutil>=2.8.2->pandas->datasets) (1.17.0)\n"
          ]
        }
      ]
    },
    {
      "cell_type": "code",
      "source": [
        "!pip install -U datasets"
      ],
      "metadata": {
        "colab": {
          "base_uri": "https://localhost:8080/"
        },
        "id": "vSR0Qve1Vhlh",
        "outputId": "1da37a30-9328-4af9-943b-3d1ab6709081"
      },
      "execution_count": null,
      "outputs": [
        {
          "output_type": "stream",
          "name": "stdout",
          "text": [
            "Requirement already satisfied: datasets in /usr/local/lib/python3.11/dist-packages (3.6.0)\n",
            "Requirement already satisfied: filelock in /usr/local/lib/python3.11/dist-packages (from datasets) (3.18.0)\n",
            "Requirement already satisfied: numpy>=1.17 in /usr/local/lib/python3.11/dist-packages (from datasets) (2.0.2)\n",
            "Requirement already satisfied: pyarrow>=15.0.0 in /usr/local/lib/python3.11/dist-packages (from datasets) (18.1.0)\n",
            "Requirement already satisfied: dill<0.3.9,>=0.3.0 in /usr/local/lib/python3.11/dist-packages (from datasets) (0.3.7)\n",
            "Requirement already satisfied: pandas in /usr/local/lib/python3.11/dist-packages (from datasets) (2.2.2)\n",
            "Requirement already satisfied: requests>=2.32.2 in /usr/local/lib/python3.11/dist-packages (from datasets) (2.32.3)\n",
            "Requirement already satisfied: tqdm>=4.66.3 in /usr/local/lib/python3.11/dist-packages (from datasets) (4.67.1)\n",
            "Requirement already satisfied: xxhash in /usr/local/lib/python3.11/dist-packages (from datasets) (3.5.0)\n",
            "Requirement already satisfied: multiprocess<0.70.17 in /usr/local/lib/python3.11/dist-packages (from datasets) (0.70.15)\n",
            "Requirement already satisfied: fsspec<=2025.3.0,>=2023.1.0 in /usr/local/lib/python3.11/dist-packages (from fsspec[http]<=2025.3.0,>=2023.1.0->datasets) (2025.3.0)\n",
            "Requirement already satisfied: huggingface-hub>=0.24.0 in /usr/local/lib/python3.11/dist-packages (from datasets) (0.31.2)\n",
            "Requirement already satisfied: packaging in /usr/local/lib/python3.11/dist-packages (from datasets) (24.2)\n",
            "Requirement already satisfied: pyyaml>=5.1 in /usr/local/lib/python3.11/dist-packages (from datasets) (6.0.2)\n",
            "Requirement already satisfied: aiohttp!=4.0.0a0,!=4.0.0a1 in /usr/local/lib/python3.11/dist-packages (from fsspec[http]<=2025.3.0,>=2023.1.0->datasets) (3.11.15)\n",
            "Requirement already satisfied: typing-extensions>=3.7.4.3 in /usr/local/lib/python3.11/dist-packages (from huggingface-hub>=0.24.0->datasets) (4.13.2)\n",
            "Requirement already satisfied: charset-normalizer<4,>=2 in /usr/local/lib/python3.11/dist-packages (from requests>=2.32.2->datasets) (3.4.2)\n",
            "Requirement already satisfied: idna<4,>=2.5 in /usr/local/lib/python3.11/dist-packages (from requests>=2.32.2->datasets) (3.10)\n",
            "Requirement already satisfied: urllib3<3,>=1.21.1 in /usr/local/lib/python3.11/dist-packages (from requests>=2.32.2->datasets) (2.4.0)\n",
            "Requirement already satisfied: certifi>=2017.4.17 in /usr/local/lib/python3.11/dist-packages (from requests>=2.32.2->datasets) (2025.4.26)\n",
            "Requirement already satisfied: python-dateutil>=2.8.2 in /usr/local/lib/python3.11/dist-packages (from pandas->datasets) (2.9.0.post0)\n",
            "Requirement already satisfied: pytz>=2020.1 in /usr/local/lib/python3.11/dist-packages (from pandas->datasets) (2025.2)\n",
            "Requirement already satisfied: tzdata>=2022.7 in /usr/local/lib/python3.11/dist-packages (from pandas->datasets) (2025.2)\n",
            "Requirement already satisfied: aiohappyeyeballs>=2.3.0 in /usr/local/lib/python3.11/dist-packages (from aiohttp!=4.0.0a0,!=4.0.0a1->fsspec[http]<=2025.3.0,>=2023.1.0->datasets) (2.6.1)\n",
            "Requirement already satisfied: aiosignal>=1.1.2 in /usr/local/lib/python3.11/dist-packages (from aiohttp!=4.0.0a0,!=4.0.0a1->fsspec[http]<=2025.3.0,>=2023.1.0->datasets) (1.3.2)\n",
            "Requirement already satisfied: attrs>=17.3.0 in /usr/local/lib/python3.11/dist-packages (from aiohttp!=4.0.0a0,!=4.0.0a1->fsspec[http]<=2025.3.0,>=2023.1.0->datasets) (25.3.0)\n",
            "Requirement already satisfied: frozenlist>=1.1.1 in /usr/local/lib/python3.11/dist-packages (from aiohttp!=4.0.0a0,!=4.0.0a1->fsspec[http]<=2025.3.0,>=2023.1.0->datasets) (1.6.0)\n",
            "Requirement already satisfied: multidict<7.0,>=4.5 in /usr/local/lib/python3.11/dist-packages (from aiohttp!=4.0.0a0,!=4.0.0a1->fsspec[http]<=2025.3.0,>=2023.1.0->datasets) (6.4.3)\n",
            "Requirement already satisfied: propcache>=0.2.0 in /usr/local/lib/python3.11/dist-packages (from aiohttp!=4.0.0a0,!=4.0.0a1->fsspec[http]<=2025.3.0,>=2023.1.0->datasets) (0.3.1)\n",
            "Requirement already satisfied: yarl<2.0,>=1.17.0 in /usr/local/lib/python3.11/dist-packages (from aiohttp!=4.0.0a0,!=4.0.0a1->fsspec[http]<=2025.3.0,>=2023.1.0->datasets) (1.20.0)\n",
            "Requirement already satisfied: six>=1.5 in /usr/local/lib/python3.11/dist-packages (from python-dateutil>=2.8.2->pandas->datasets) (1.17.0)\n"
          ]
        }
      ]
    },
    {
      "cell_type": "code",
      "source": [
        "import datasets\n",
        "from huggingface_hub import login\n",
        "from datasets import load_dataset"
      ],
      "metadata": {
        "id": "NUwMNcbejjiB"
      },
      "execution_count": null,
      "outputs": []
    },
    {
      "cell_type": "code",
      "source": [
        "# 1. Hugging Face에서 데이터셋 불러오기\n",
        "dataset = load_dataset(\"longjae/klue-mrc-bge-m3\")\n",
        "\n",
        "# 2. train split을 데이터프레임으로 변환\n",
        "df = dataset['train'].to_pandas()\n",
        "\n",
        "# 3. 데이터프레임 확인\n",
        "print(df.head())"
      ],
      "metadata": {
        "colab": {
          "base_uri": "https://localhost:8080/",
          "height": 847,
          "referenced_widgets": [
            "05b8228f293449b9b401215c98eaaec9",
            "d15e556489bc4d37bb60f9ca89d90ce3",
            "7cd5ab2289a64c9e8473f3d04637fb2c",
            "41a73e12f733433f87f1e73c86067618",
            "cd1029b7696946de8662297534e6de47",
            "a687562954d54fca917b726122d70586",
            "791cecbbccf54530971f235e13c899db",
            "8112f7dbfa614a9581b0bd10018a5fc5",
            "c2897e1829ed4a948e1dd942a392dc00",
            "e5b7a676ec424c77b4537470162fe850",
            "f06f972fae6b4ab282f64781ca31e1db",
            "ae1cfaa4547d4af3891afaa00913b439",
            "7a24c8f7c02f48acb177efc5a2aea59d",
            "cabbce26da88496ca88ce2f916ea0574",
            "2996bcd0a9674837a5d82b5a2f8e1c29",
            "d7fc9ea87f80479f83729603b8e4056b",
            "851f51dd758349db956119c6d7de36dd",
            "4afa3d6214b8457f85f08ae63da18a18",
            "d0a1de59814045f99e8410369e85b8d4",
            "e4e8466590334ba4a6ba2cb6eace1a27",
            "915814996f14412a91987b03de038d55",
            "7919c36d9af3467c8ad7415165978fd3",
            "d54831a1e7f74c92b767b96fd33680fa",
            "c2daf8fa94574406990eddb8e1dbd3af",
            "46e4b2e8066143dd9c25af4608ad10a0",
            "d15ab507bfde44e79e5a1cc3acc66264",
            "de7054af9fa745ff9f2971826e38637d",
            "986708518dc248c287d1e53718985040",
            "33e929b2519745f7b2942f8713060ee3",
            "2c2df404db75479e853116060b18e0b8",
            "e8d201743caf49dbbafbc77abd7186e9",
            "4dcc8d6dfbc64d509a9435143776badc",
            "7448a5fb8e2548e4a698d67de2b444c5"
          ]
        },
        "id": "kAF2StC-Vy-Q",
        "outputId": "8217f433-a1cf-4784-d6f1-a3e0aab072c0"
      },
      "execution_count": null,
      "outputs": [
        {
          "output_type": "stream",
          "name": "stderr",
          "text": [
            "/usr/local/lib/python3.11/dist-packages/huggingface_hub/utils/_auth.py:94: UserWarning: \n",
            "The secret `HF_TOKEN` does not exist in your Colab secrets.\n",
            "To authenticate with the Hugging Face Hub, create a token in your settings tab (https://huggingface.co/settings/tokens), set it as secret in your Google Colab and restart your session.\n",
            "You will be able to reuse this secret in all of your notebooks.\n",
            "Please note that authentication is recommended but still optional to access public models or datasets.\n",
            "  warnings.warn(\n"
          ]
        },
        {
          "output_type": "display_data",
          "data": {
            "text/plain": [
              "README.md:   0%|          | 0.00/640 [00:00<?, ?B/s]"
            ],
            "application/vnd.jupyter.widget-view+json": {
              "version_major": 2,
              "version_minor": 0,
              "model_id": "05b8228f293449b9b401215c98eaaec9"
            }
          },
          "metadata": {}
        },
        {
          "output_type": "display_data",
          "data": {
            "text/plain": [
              "train-00000-of-00001.parquet:   0%|          | 0.00/77.0M [00:00<?, ?B/s]"
            ],
            "application/vnd.jupyter.widget-view+json": {
              "version_major": 2,
              "version_minor": 0,
              "model_id": "ae1cfaa4547d4af3891afaa00913b439"
            }
          },
          "metadata": {}
        },
        {
          "output_type": "display_data",
          "data": {
            "text/plain": [
              "Generating train split:   0%|          | 0/10434 [00:00<?, ? examples/s]"
            ],
            "application/vnd.jupyter.widget-view+json": {
              "version_major": 2,
              "version_minor": 0,
              "model_id": "d54831a1e7f74c92b767b96fd33680fa"
            }
          },
          "metadata": {}
        },
        {
          "output_type": "stream",
          "name": "stdout",
          "text": [
            "                                         title news_category     source  \\\n",
            "0                       제주도 장마 시작 … 중부는 이달 말부터            종합   hankyung   \n",
            "1      부산정보산업진흥원, 과기부 지역SW서비스사업화 지원사업 4개 과제 선정            경제    acrofan   \n",
            "2                                     나루세 요시히사          None  wikipedia   \n",
            "3                               편의점 휩쓴 ‘맛집 라면’          생활경제   hankyung   \n",
            "4  사모펀드 ACP 아난드 프라카시 전무 ...“아시아 친환경 투자 황금기 온다”            기획   hankyung   \n",
            "\n",
            "                                             context  \\\n",
            "0  올여름 장마가 17일 제주도에서 시작됐다. 서울 등 중부지방은 예년보다 사나흘 정도...   \n",
            "1  부산시와 (재)부산정보산업진흥원(원장 이인숙)이 ‘2020~2021년 지역SW서비스...   \n",
            "2  시범 경기에서는 16이닝을 던져 15실점을 기록하는 등 성적이 좋지 않았지만 본인으...   \n",
            "3  유명 맛집 이름을 달고 나온 편의점 자체상표(PB) 라면이 인기를 끌고 있다. ‘검...   \n",
            "4  “앞으로 5년 안에 아시아 친환경·신재생에너지 투자의 황금기가 도래할 것입니다.”기...   \n",
            "\n",
            "                              question  question_type  is_impossible  \\\n",
            "0  북태평양 기단과 오호츠크해 기단이 만나 국내에 머무르는 기간은?              1          False   \n",
            "1          지능형 생산자동화 기반기술을 개발중인 스타트업은?              2          False   \n",
            "2          개막전에서 3안타 2실점을 기록해서 패한 선수는?              2          False   \n",
            "3              컵라면 매출에서 불닭볶음면을 이긴 상품은?              2          False   \n",
            "4     정부에게 환경과 관련해서 우선적으로 원조 받고 있는 곳은?              1          False   \n",
            "\n",
            "   answer_text  answer_start  \\\n",
            "0        한 달가량           478   \n",
            "1      삼보테크놀로지          1422   \n",
            "2     와쿠이 히데아키           107   \n",
            "3    ‘교동반점 짬뽕’           408   \n",
            "4  환경오염이 심한 지역           661   \n",
            "\n",
            "                                    negative_samples  \n",
            "0  [궤도물리학은 계절의 지속 기간이 지구의 궤도가 지점과 분점 사이의 공간을 휩쓸고 ...  \n",
            "1  [IIoT(Industry Internet of Thing), 산업현장 스마트 팩토...  \n",
            "2  [1960년에 주니치에 입단하여 같은 해 1960년 5월 7일 다이요 웨일스전에서 ...  \n",
            "3  [‘짜파구리’로 시작된 ‘나만의 레시피’ 열풍이 올해 식품시장을 주도한 것으로 나타...  \n",
            "4  [포브스는 최근 “석탄은 기원전 315년 그리스 문헌에 대장간에서 원료로 쓰던 기록...  \n"
          ]
        }
      ]
    },
    {
      "cell_type": "code",
      "source": [
        "# 임의 샘플링\n",
        "df = df[1000:1500].reset_index(drop=True)"
      ],
      "metadata": {
        "id": "K6B809KXWc3P"
      },
      "execution_count": null,
      "outputs": []
    },
    {
      "cell_type": "code",
      "source": [
        "samples = []\n",
        "for context, negative_samples in zip(df['context'].to_list(), df['negative_samples'].to_list()):\n",
        "  samples.append([context] + list(negative_samples))"
      ],
      "metadata": {
        "id": "yQ3RDvY7XNKS"
      },
      "execution_count": null,
      "outputs": []
    },
    {
      "cell_type": "code",
      "source": [
        "# 프롬프트에 검색 문서 넣는 연습\n",
        "for idx, s in enumerate(samples[5]):\n",
        "  print('문서' + str(idx + 1) + ':' + s)\n",
        "  print('---')"
      ],
      "metadata": {
        "colab": {
          "base_uri": "https://localhost:8080/"
        },
        "id": "b96SsgOFdJE7",
        "outputId": "65e40bbf-1ca0-4ac9-f7be-6e6986de2757"
      },
      "execution_count": null,
      "outputs": [
        {
          "output_type": "stream",
          "name": "stdout",
          "text": [
            "문서1:정부의 8·28 부동산 활성화 대책에 대한 기대로 은행 가계대출이 사상 최고치를 경신했다.13일 한국은행에 따르면 10월 말 예금은행 가계대출 잔액은 474조4000억원으로 전달보다 2조5000억원 증가했다. 지난 6월 4조8000억원 늘어난 뒤 증가세가 잠시 주춤했지만 지난달 다시 큰 폭으로 늘어났다. 은행이 주택금융공사로 넘긴 모기지론 양도분까지 포함하면 10월 한 달간 은행 가계대출은 2조8000억원 급증했다.김정현 한은 금융시장팀 차장은 “취득세 영구 인하 소급 적용에 대한 기대로 주택 거래량이 크게 늘어나면서 주택담보대출(모기지론 양도 포함)이 2조1000억원 늘었다”고 설명했다. 서울시 아파트 거래량은 8월 2800가구에 그쳤으나 9월 4200가구에 이어 10월 7600가구로 증가했다.마이너스통장대출 등 기타 대출도 7000억원 늘었다. 지난 9월 추석 상여금이 통장에 들어오면서 기타 대출은 1000억원 줄었으나 지난달 다시 증가세로 돌아섰다. 한편 10월 은행의 기업대출 증가세는 둔화됐다. 9월 증가액은 5조8000억원이었으나 10월에는 4조1000억원에 그쳤다. 대기업이 1조3000억원, 중소기업이 2조8000억원 각각 늘었다.\n",
            "---\n",
            "문서2:박근혜 대통령이 최근 담보 위주의 대출만 취급하는 ‘금융권 보신주의’를 지적하면서 은행들의 중소기업 대출 실적에 관심이 모아지고 있다. 원금과 이자 연체 등 부실 대출이 많았던 국민은행과 우리은행이 건전성 강화 등을 이유로 몸을 사리는 동안, 농협은행과 신한은행이 공격적인 영업으로 치고 나간 모양새다. KT ENS 협력사에 대한 부실대출 등으로 올초 몸살을 앓았던 하나은행도 뒤늦게 중소기업 대출 확대에 나서고 있다.○국민·우리 대출 증가폭 최저국민은행의 중소기업 대출 잔액은 지난달 말 기준으로 68조4155억원이었다. 지난해 말보다 0.9% 늘어나는 데 그쳤다. 우리은행은 59조1265억원으로 같은 기간 증가율이 1.5%에 불과했다. 통상 대출자산 증가율 목표치를 국내총생산(GDP) 증가율보다 조금 높게 잡는 점에 비춰볼 때 이 같은 증가율은 이례적으로 낮은 것이다. 올해 한국 상반기 GDP 증가율은 1.5% 수준인데 우리은행은 이 수치를 겨우 맞췄고 국민은행의 실적은 이에 훨씬 못 미쳤다.우리은행은 부진한 중소기업 대출 실적으로 고민을 거듭하고 있다. 11일 이순우 우리금융지주 회장 겸 우리은행장 주관으로 열린 확대영업본부장 회의에서도 이 같은 저조한 중소기업 대출 실적이 이슈로 떠올랐다. 올 들어 기업 여신 부실률이 높다는 이유로 우량 중소기업 중심으로 돈을 빌려주다 보니 영업점에서 대출 실적을 늘리기 쉽지 않다는 목소리도 나왔다. 국민은행은 아예 올해 자산 성장보다는 건전성 강화 쪽으로 경영전략의 무게중심을 옮겼다. 외형 중심의 성장 전략에서 벗어나겠다는 경영방침 때문이다. ○농협 대출 증가율 최고반면 농협은행은 중소기업 대출 시장의 새로운 강자로 급부상하고 있다. 지난달 말 잔액은 54조8212억원으로 지난해 말보다 5.5% 성장했다. 신한은행도 5.1%나 늘었다. 잔액은 7월 말 기준 57조8598억원이다. 대출잔액 규모로 보면 기업은행이 111조8575억원으로 가장 많지만 증가율은 4.5%에 그쳤다.은행권에선 다른 은행이 주춤한 사이 농협은행과 신한은행이 시장 영향력을 확대했다는 분석이 나오고 있다. 우리은행은 민영화 이슈로, 국민은행은 각종 사건·사고에 따른 제재 여파 등으로 조직력이 느슨해진 틈을 신한은행과 농협은행이 파고들었다는 얘기다.신한은행 관계자는 “과거처럼 대출 금리를 후려치는 제살깎기식 경쟁을 하지 않았는데도 대출 실적이 좋아졌다”며 “다른 은행들의 경쟁력이 약해진 영향”이라고 말했다. 실제 신한은행과 농협은행의 중소기업대출 평균금리는 지난 4~6월 기준으로 각각 연 4.4%, 연 4.43%로 국민은행(연 4.36%)보다 높다.하나은행은 뒤늦게 선두 은행을 추격하고 있다. 지난달 말 중소기업대출 잔액은 33조3426억원으로 지난해 말보다 4.2% 늘었다.\n",
            "---\n",
            "문서3:가계 빚이 3개월 사이에 12조원 늘어 다시 사상 최대를 기록하면서 1000조원에 바짝 다가섰다. 은행권 대출은 줄었지만 상대적으로 금리가 높은 저축은행 등 2금융권 대출이 늘면서 가계부채 구조는 악화됐다.한국은행이 21일 발표한 ‘3분기 가계신용(잠정)’ 통계에 따르면 지난 9월 말 현재 가계신용은 991조7000억원으로 3개월 전보다 12조1000억원 늘었다.가계신용은 은행을 비롯한 각종 기관의 가계대출과 카드 외상구매인 ‘판매신용’을 합한 것으로 가계부채 수준을 보여주는 가장 대표적인 통계다. 가계신용은 작년 말 963조8000억원에서 올해 3월 말 963조1000억원으로 2008년 글로벌 금융위기 이후 처음 줄었다가 6월 말 979조6000억원으로 늘어나면서 다시 빠른 증가세를 보이고 있다. 부문별로 보면 가계대출은 937조9000억원으로 3개월 전보다 11조6000억원 늘었다. 한은은 하반기 거래세 감면 혜택이 끝나면서 은행의 주택담보대출을 중심으로 전체 가계신용 증가폭은 2분기(16조5000억원)보다 축소됐지만 가을 학기 학자금 대출과 제2금융권의 대출이 늘어났다고 설명했다.전문가들은 연내 가계신용의 1000조원 돌파가 확실하다고 보고 있다. 시중은행 관계자는 “공유형 모기지, 취득세 인하 등 정부의 부동산 관련 대책 영향으로 가계부채가 주택 대출을 중심으로 4분기에 빠르게 늘고 있다”고 말했다.\n",
            "---\n",
            "문서4:스포츠 의류 제조사인 서울 구로구의 A사는 원래 국민은행과 거래했다. 5년째 영업이익을 내고 흑자 폭도 확대되는 이 회사를 국민은행은 최상위 신용등급으로 평가하고 공을 들였다. 하지만 A사는 작년 9월 국민은행에서 받은 12억3000만원의 대출을 우리은행으로 옮겼다. 우리은행이 경영진단에서부터 성과관리 시스템 도입, 재무관리 노하우 전수, 공장 원가절감법 제시 등 체계적인 무상 컨설팅을 제공한 때문이다.우량 중소기업을 둘러싼 은행 간 쟁탈전이 갈수록 치열해지고 있다. 중소기업 육성이 새 정부의 주요 정책기조가 되면서 관련 대출을 늘려야 할 상황인 반면 우량 중소기업은 한정돼 있어서다. 우량 중기 확보과정에서 지점에 역마진이 날 경우 본사에서 손실을 보전해 주는 은행도 등장했다.○우량 중소기업 뺏고 뺏기는 상황중소기업 대출시장에서 최근 가장 공격적인 모습을 보이고 있는 곳은 산업은행이다. 산업은행은 지난해 중소·중견기업에만 제공하는 연 3%대 특별저금리대출을 3조원 규모로 공급했고 이를 다 소진하자 올해 다시 2월까지 2조원을 더 내놨다. 실제 중소 패널제조업체인 A기업은 충남 천안지역에서 15년 전 설립됐을 때부터 기업은행과 꾸준히 거래해온 곳이었지만 지난해 12월 산업은행으로 갈아탔다. 기업은행에서 30억원을 연 5% 후반 금리로 쓰고 있었는데 산업은행이 35억원에 연 4% 중반의 금리로 대환해 주겠다는 솔깃한 제안을 했기 때문이다. 우리은행도 우량 중기 확보에 전력하고 있다. 지난해 9월 경기 남양주의 한 대형병원에 세무상담 및 재무관리 컨설팅을 해준 뒤 농협은행과 거래하던 28억원의 대출을 빼앗아오기도 했다. 이 병원의 신축 이전을 위한 건축자금으로 95억원을 신규로 빌려줬다. ○기업은행 거래 기업이 주요 공략대상은행들이 가장 눈독을 들이고 있는 대상은 기업은행 거래처들이다. 한 시중은행은 최근 부행장 회의를 거쳐 기업은행 거래처를 집중 공략하라는 지시를 내리기도 했다. 중소기업 네트워크가 가장 활발한 기업은행이 우량 중기와도 많이 거래하고 있기 때문이다. 기업은행의 중소기업대출 잔액은 지난해 말 기준으로 100조6000억원 규모로 시중은행의 전체 중소기업대출 잔액에서 20%가 넘는 비중을 차지한다. 한 시중은행 관계자는 “은행들마다 기업은행과 거래 중인 우량 중소기업 명단을 확보하기 위해 혈안이 돼 있다”며 “기업은행을 제외한 은행 간에 명단을 교환하는 경우도 있다”고 말했다.상황이 이렇다보니 기업은행은 최근 지점에서 우량 중소기업을 뺏기지 않기 위해 손해를 안고서라도 금리를 인하하거나 대출을 늘려준 경우 손실분만큼을 본점에서 보전해주는 ‘손실기금’도 운영하고 있다.\n",
            "---\n",
            "문서5:대부업체에 기반을 둔 OK저축은행과 웰컴저축은행의 성장세가 가파르다. 여신과 수신은 물론 총자산도 급속히 늘고 있다. 두 회사 덕분에 저축은행 전체 수신은 저축은행 사태 이후 처음으로 2개월 연속 증가했다. 지난 3분기에는 5년 만에 당기순이익이 흑자로 전환했다. 하지만 두 회사는 연 25% 이상으로 대출을 취급, 대부업체와 같은 영업방식을 지속한다는 비판을 받고 있다.○저축은행 성장 ‘일등공신’23일 금융권에 따르면 지난 5월 예신저축은행을 인수해 영업을 시작한 웰컴저축은행의 9월 말 여신액은 4327억5600만원으로 지난 4월 말(1529억3800만원)보다 183%(2798억1800만원) 늘었다. 지난 4월 말 2610억6200만원이던 수신액도 9월 말 5440억4800만원으로 2배 이상으로 증가했다. 총자산은 3125억5700만원에서 6361억6900만원으로 2배 이상으로 뛰었다. 웰컴저축은행의 총자산 증가액(3236억1200만원)은 같은 기간 저축은행 업계 총자산 증가액(2040억원)보다 1000억원 이상 많다.지난 7월부터 영업을 시작한 OK저축은행도 마찬가지다. 9월 말까지 3개월간 수신액은 1544억1800만원 증가했다. 여신액도 1883억3800억원 늘었다. 총자산도 1462억1400만원 증가해 6337억5600만원으로 불어났다.두 회사의 덩치가 급속히 커지고 있는 것은 공격적인 영업에 기존 대부업체의 우수고객을 빠르게 흡수하고 있는 데 따른 것으로 풀이된다. OK저축은행은 영업 개시와 함께 연 3.2%짜리 특판예금을 판매하며 돈을 끌어모았다. 두 곳 모두 금리를 낮춰주는 방법으로 기존 대부업체 우수고객을 저축은행에 끌어오고 있다.○“무늬만 저축은행” 비판도 나와두 회사가 선전하면서 저축은행 업계 전체 실적이 호전되는 착시현상도 나타나고 있다. 저축은행 전체의 수신액은 지난 7월 말 30조5541억원에서 8월 말 30조787억원, 9월 말 30조9698억원 등으로 2개월 연속 늘어났다. 하지만 이 기간 두 은행의 수신 증가액을 제외하면 저축은행 수신액은 감소세를 면치 못한다. 이익도 마찬가지다. 저축은행 업계는 2014회계연도 1분기(7~9월) 중 190억원의 순이익을 기록했다. 하지만 두 회사의 순이익을 제외하면 여전히 적자라는 게 업계 추산이다.그럼에도 두 회사의 선전이 업계에 미치는 영향은 크다. 저축은행에 대한 인식이 호전되고 있는 게 첫 번째다. 지속적인 합병으로 몸집을 불리고 있는 두 회사 덕분에 저축은행의 대형화도 앞당겨지고 있다. 다른 곳에 한눈팔지 않고 소액대출에 집중하는 관행이 정착되고 있는 것도 고무적이다.하지만 대출금리가 너무 높다는 게 문제다. 최근 3개월간 OK저축은행이 새로 취급한 가계신용대출 중 연 25~30%의 고금리가 적용된 대출은 전체의 99.4%였다. 웰컴저축은행도 99.1%나 됐다. 같은 기간 KB저축은행은 전체의 95.6%에 연 10~20%를 적용했다. 어림잡아도 두 회사의 대출금리가 KB저축은행보다 10%포인트가량 높다. “무늬만 저축은행이지 여전히 대부업체”라는 비판이 심심치 않게 나온다.\n",
            "---\n"
          ]
        }
      ]
    },
    {
      "cell_type": "code",
      "source": [
        "user_prompts = []\n",
        "for sample in samples:\n",
        "  user_prompt = ''\n",
        "  for idx, s in enumerate(sample):\n",
        "    user_prompt = user_prompt + '문서' + str(idx + 1) + ':' + s + '\\n'\n",
        "    user_prompt = user_prompt + '---\\n'\n",
        "  user_prompts.append(user_prompt)"
      ],
      "metadata": {
        "id": "qCxs9SzhdKEy"
      },
      "execution_count": null,
      "outputs": []
    },
    {
      "cell_type": "code",
      "source": [
        "system_prompt = \"\"\"당신은 주어진 5개의 검색 문서로부터 답변이 불가능한 질문 5개를 생성해야 합니다.\n",
        "\n",
        "### 구체적인 지시사항\n",
        "1. 문서를 5개 드리겠습니다. 각 문서들과 연관된 질문을 하나씩 생성하십시오. 문서1, 문서2, 문서3, 문서4, 문서5 순서대로 합니다.\n",
        "2. 질문은 각 문서와 연관된 질문이어야 합니다.\n",
        "3. 답변의 순서는 연관 문서:, 질문:, 판단: 이 세 가지이며 5개의 문서가 주어지므로 총 5번 써야합니다.\n",
        "4. 중요한 점은 생성된 각 질문은 5개의 그 어떠한 문서로도 답변이 불가능해야 한다는 것입니다.\n",
        "5. 질문 작성 후에는 추가적인 코멘트는 작성하지 마십시오.\n",
        "6. 답변의 형식은 다음과 같습니다. 연관 문서에서 질문을 생성하는데 참고한 문서를 적고 그 다음에 질문: 다음에 실제 질문을 생성하세요.\n",
        "7. 판단: 과정에서 각 질문이 정말로 5개의 문서로 답변이 불가능한지 다시 한 번 판단하고 특정 문서로 답변이 가능한 것으로 판단되면 => False를 적고 답변이 불가능한게 맞다면 => True를 적으세요.\n",
        "8. => False와 => True 다음에 추가적인 코멘트는 금지합니다.\n",
        "9. 질문은 짧게 작성하십시오. 예를 들어보겠습니다.\n",
        "###\n",
        "ex) 질문: 원종이 설립된 이후 해인사에서 어떤 특별한 행사나 의식이 처음으로 개최되었는지 알려주시겠습니까?\n",
        "위와 같이 길게 작성하지 마십시오.\n",
        "ex) 질문: 원종이 설립되고 해인사에서 처음 개최된 행사를 알려줘\n",
        "위와 같이 짧게 작성하십시오.\n",
        "###\n",
        "10. 각 질문은 존댓말과 반말을 교차하면서 사용하십시오. 반말을 했다면 다음 질문은 가급적 존댓말을 하는 식입니다. 최대한 지켜주십시오.\n",
        "11. 답변 형식은 다음과 같스빈다.\n",
        "ex)\n",
        "답변:\n",
        "연관 문서: 문서1\n",
        "질문: (문서1과 연관된 질문이지만 5개의 문서 그 어떤 것을 사용하더라도 답변이 불가능한 질문을 실제로 작성하세요.)\n",
        "판단: 해당 질문은 문서 3에 연관된 내용 ~~가 있어서 답변이 가능합니다. => False\n",
        "\n",
        "연관 문서: 문서2\n",
        "질문: (문서2와 연관된 질문이지만 5개의 문서 그 어떤 것을 사용하더라도 답변이 불가능한 질문을 실제로 작성하세요.)\n",
        "판단: 해당 질문은 5개의 문서를 모두 사용해도 답변이 불가능합니다. => True\n",
        "\n",
        "...중략...\n",
        "\n",
        "연관 문서: 문서5\n",
        "질문: (문서5와 연관된 질문이지만 5개의 문서 그 어떤 것을 사용하더라도 답변이 불가능한 질문을 실제로 작성하세요.)\n",
        "판단: 해당 질문은 5개의 문서를 모두 사용해도 답변이 불가능합니다. => True\n",
        "\"\"\""
      ],
      "metadata": {
        "id": "lug625ohdLgi"
      },
      "execution_count": null,
      "outputs": []
    },
    {
      "cell_type": "code",
      "source": [
        "from tqdm import tqdm\n",
        "import openai"
      ],
      "metadata": {
        "id": "cvks-1gPfKEy"
      },
      "execution_count": null,
      "outputs": []
    },
    {
      "cell_type": "code",
      "source": [
        "from google.colab import userdata\n",
        "OPENAI_API_KEY = userdata.get('OPENAI_API_KEY')\n",
        "client = openai.OpenAI(api_key=OPENAI_API_KEY)"
      ],
      "metadata": {
        "id": "4Jxx4SIyfMNS"
      },
      "execution_count": null,
      "outputs": []
    },
    {
      "cell_type": "code",
      "source": [
        "# 5개로 테스트\n",
        "result_lst = []\n",
        "for user_prompt in tqdm(user_prompts[:5]):\n",
        "  response = client.chat.completions.create(\n",
        "    model=\"gpt-4o-mini\",\n",
        "    messages=[\n",
        "          {\"role\": \"system\", \"content\": system_prompt},\n",
        "          {\"role\": \"user\", \"content\": user_prompt + '답변:'}\n",
        "      ]\n",
        "  )\n",
        "  result_lst.append(response.choices[0].message.content)"
      ],
      "metadata": {
        "colab": {
          "base_uri": "https://localhost:8080/"
        },
        "id": "kO3u-Hf8fNCK",
        "outputId": "bcb14a3c-780f-469d-9904-87543766043c"
      },
      "execution_count": null,
      "outputs": [
        {
          "output_type": "stream",
          "name": "stderr",
          "text": [
            "100%|██████████| 5/5 [00:31<00:00,  6.23s/it]\n"
          ]
        }
      ]
    },
    {
      "cell_type": "code",
      "source": [
        "print(result_lst[0])"
      ],
      "metadata": {
        "colab": {
          "base_uri": "https://localhost:8080/"
        },
        "id": "Oyz68PDrfO9y",
        "outputId": "682e105e-248c-415e-ac34-e211f2f799dc"
      },
      "execution_count": null,
      "outputs": [
        {
          "output_type": "stream",
          "name": "stdout",
          "text": [
            "답변:\n",
            "연관 문서: 문서1  \n",
            "질문: 금강경의 공(空) 개념이 어떻게 사람들에게 적용될 수 있는지 설명해줄 수 있어?  \n",
            "판단: 해당 질문은 5개의 문서를 모두 사용해도 답변이 불가능합니다. => True\n",
            "\n",
            "연관 문서: 문서2  \n",
            "질문: 원종이 설립되기 전에 어떤 이벤트가 있었는지 알려줘.  \n",
            "판단: 해당 질문은 5개의 문서를 모두 사용해도 답변이 불가능합니다. => True\n",
            "\n",
            "연관 문서: 문서3  \n",
            "질문: 인문여행 중에 설총이 남긴 특정한 교훈이 뭐였는지 말해줘.  \n",
            "판단: 해당 질문은 5개의 문서를 모두 사용해도 답변이 불가능합니다. => True\n",
            "\n",
            "연관 문서: 문서4  \n",
            "질문: 부처님오신날에 어떤 음식이 주로 준비되는지 알아?  \n",
            "판단: 해당 질문은 5개의 문서를 모두 사용해도 답변이 불가능합니다. => True\n",
            "\n",
            "연관 문서: 문서5  \n",
            "질문: 간화선과 위파사나의 차이점을 구체적으로 설명해줄 수 있어?  \n",
            "판단: 해당 질문은 5개의 문서를 모두 사용해도 답변이 불가능합니다. => True\n"
          ]
        }
      ]
    },
    {
      "cell_type": "code",
      "source": [
        "print(result_lst[1])"
      ],
      "metadata": {
        "colab": {
          "base_uri": "https://localhost:8080/"
        },
        "id": "r47atjd6fTpi",
        "outputId": "1ca6da6c-4f39-4a36-ff7a-eb33be01f0ca"
      },
      "execution_count": null,
      "outputs": [
        {
          "output_type": "stream",
          "name": "stdout",
          "text": [
            "연관 문서: 문서1  \n",
            "질문: 디턴 교수의 첫번째 책 제목은 무엇인가요?  \n",
            "판단: 해당 질문은 5개의 문서를 모두 사용해도 답변이 불가능합니다. => True  \n",
            "\n",
            "연관 문서: 문서2  \n",
            "질문: 디턴 교수가 수상 발표 전에 어떤 음식점을 방문했는지 알아?  \n",
            "판단: 해당 질문은 5개의 문서를 모두 사용해도 답변이 불가능합니다. => True  \n",
            "\n",
            "연관 문서: 문서3  \n",
            "질문: 디턴 교수의 친구가 몇 년 전에 어떤 저서를 썼는지 말해줄 수 있어?  \n",
            "판단: 해당 질문은 5개의 문서를 모두 사용해도 답변이 불가능합니다. => True  \n",
            "\n",
            "연관 문서: 문서4  \n",
            "질문: 올해 한국에서 가장 인기 있는 부동산 투자 지역은 어디야?  \n",
            "판단: 해당 질문은 5개의 문서를 모두 사용해도 답변이 불가능합니다. => True  \n",
            "\n",
            "연관 문서: 문서5  \n",
            "질문: 크루그먼 교수가 대학원 시절에 어떤 강의를 들었는지 알아?  \n",
            "판단: 해당 질문은 5개의 문서를 모두 사용해도 답변이 불가능합니다. => True  \n"
          ]
        }
      ]
    },
    {
      "cell_type": "code",
      "source": [
        "print(result_lst[2])"
      ],
      "metadata": {
        "colab": {
          "base_uri": "https://localhost:8080/"
        },
        "id": "MCDI3EAFhUPY",
        "outputId": "0e7aab79-c63f-4846-c09d-1b88f666071c"
      },
      "execution_count": null,
      "outputs": [
        {
          "output_type": "stream",
          "name": "stdout",
          "text": [
            "답변:\n",
            "연관 문서: 문서1  \n",
            "질문: 황소자리 T가 발견된 후 어떤 변화를 겪었는지 알려줘?  \n",
            "판단: 해당 질문은 문서 1에서만 설명되고 있으며, 다른 문서로는 답변이 불가능하다. => False  \n",
            "\n",
            "연관 문서: 문서2  \n",
            "질문: 하버드의 계산수들이 발견한 다른 천문학적 사실들을 알고 싶어.  \n",
            "판단: 해당 질문은 문서 2에만 관련이 있고, 다른 문서는 그 내용을 다루지 않아 답변이 불가능하다. => False  \n",
            "\n",
            "연관 문서: 문서3  \n",
            "질문: 유로파 탐사에서 제일 먼저 사용할 과학장비는 뭐야?  \n",
            "판단: 해당 질문은 문서 3에 국한되어 있으며, 다른 문서로는 답변할 수 없다. => False  \n",
            "\n",
            "연관 문서: 문서4  \n",
            "질문: 닐 슈빈이 발견한 화석의 구체적인 위치를 알려줄 수 있어?  \n",
            "판단: 해당 질문은 문서 4에만 관련이 있으며, 다른 문서에서는 답변이 불가능하다. => False  \n",
            "\n",
            "연관 문서: 문서5  \n",
            "질문: 아편굴에서 범죄로 드러난 다른 사건이 뭐가 있는지 알고 싶어.  \n",
            "판단: 해당 질문은 문서 5와 관련이 있지만, 다른 문서에서의 정보로는 답변이 불가능하다. => False\n"
          ]
        }
      ]
    },
    {
      "cell_type": "code",
      "source": [
        "print(result_lst[3])"
      ],
      "metadata": {
        "colab": {
          "base_uri": "https://localhost:8080/"
        },
        "id": "fwZFZIcehUhi",
        "outputId": "351baab7-e172-4298-f9c8-104ab9e85d53"
      },
      "execution_count": null,
      "outputs": [
        {
          "output_type": "stream",
          "name": "stdout",
          "text": [
            "답변:\n",
            "연관 문서: 문서1  \n",
            "질문: 온세미컨덕터의 1200V 애플리케이션용 모듈의 가격은 얼마인가요?  \n",
            "판단: 해당 질문은 5개의 문서를 모두 사용해도 답변이 불가능합니다. => True  \n",
            "\n",
            "연관 문서: 문서2  \n",
            "질문: EVL400W-EUPL7 보드의 출시일은 언제인가요?  \n",
            "판단: 해당 질문은 5개의 문서를 모두 사용해도 답변이 불가능합니다. => True  \n",
            "\n",
            "연관 문서: 문서3  \n",
            "질문: LT8491의 사용자는 몇 개인가요?  \n",
            "판단: 해당 질문은 5개의 문서를 모두 사용해도 답변이 불가능합니다. => True  \n",
            "\n",
            "연관 문서: 문서4  \n",
            "질문: XDPL8219의 특정 애플리케이션에 대한 선정 이유는 무엇인가요?  \n",
            "판단: 해당 질문은 5개의 문서를 모두 사용해도 답변이 불가능합니다. => True  \n",
            "\n",
            "연관 문서: 문서5  \n",
            "질문: TLE9012AQU의 부품원가는 얼마인가요?  \n",
            "판단: 해당 질문은 5개의 문서를 모두 사용해도 답변이 불가능합니다. => True  \n"
          ]
        }
      ]
    },
    {
      "cell_type": "code",
      "source": [
        "print(result_lst[4])"
      ],
      "metadata": {
        "colab": {
          "base_uri": "https://localhost:8080/"
        },
        "id": "Vmff2NEVhWMJ",
        "outputId": "b41cf1c2-bfd3-48ac-f7e0-447508882ede"
      },
      "execution_count": null,
      "outputs": [
        {
          "output_type": "stream",
          "name": "stdout",
          "text": [
            "답변:\n",
            "연관 문서: 문서1\n",
            "질문: 삼성전자의 주가가 언제 150만원에 도달했는지 알 수 있을까?\n",
            "판단: 해당 질문은 5개의 문서를 모두 사용해도 답변이 불가능합니다. => True\n",
            "\n",
            "연관 문서: 문서2\n",
            "질문: CJ E&M이 2019년에 배급한 영화 목록을 알려줘\n",
            "판단: 해당 질문은 5개의 문서를 모두 사용해도 답변이 불가능합니다. => True\n",
            "\n",
            "연관 문서: 문서3\n",
            "질문: KB금융지주가 발행했던 최초의 회사채 규모는 얼마였나요?\n",
            "판단: 해당 질문은 5개의 문서를 모두 사용해도 답변이 불가능합니다. => True\n",
            "\n",
            "연관 문서: 문서4\n",
            "질문: 넥슨의 첫번째 게임 출시일은 언제인가요?\n",
            "판단: 해당 질문은 5개의 문서를 모두 사용해도 답변이 불가능합니다. => True\n",
            "\n",
            "연관 문서: 문서5\n",
            "질문: 삼성증권의 IPO사업부가 언제 처음 설립됐는지 말해줄 수 있어?\n",
            "판단: 해당 질문은 5개의 문서를 모두 사용해도 답변이 불가능합니다. => True\n"
          ]
        }
      ]
    },
    {
      "cell_type": "code",
      "source": [
        "result_lst = []\n",
        "for user_prompt in tqdm(user_prompts):\n",
        "  response = client.chat.completions.create(\n",
        "    model=\"gpt-4o-mini\",\n",
        "    messages=[\n",
        "          {\"role\": \"system\", \"content\": system_prompt},\n",
        "          {\"role\": \"user\", \"content\": user_prompt + '답변:'}\n",
        "      ]\n",
        "  )\n",
        "  result_lst.append(response.choices[0].message.content)"
      ],
      "metadata": {
        "colab": {
          "base_uri": "https://localhost:8080/"
        },
        "id": "boo7pchphZhi",
        "outputId": "b85db225-46fa-4354-b160-a9523927a9de"
      },
      "execution_count": null,
      "outputs": [
        {
          "output_type": "stream",
          "name": "stderr",
          "text": [
            "100%|██████████| 500/500 [51:53<00:00,  6.23s/it]\n"
          ]
        }
      ]
    },
    {
      "cell_type": "code",
      "source": [
        "df['no_answer_question'] = result_lst"
      ],
      "metadata": {
        "id": "7Og9wQEmjtAk"
      },
      "execution_count": null,
      "outputs": []
    },
    {
      "cell_type": "code",
      "source": [
        "df"
      ],
      "metadata": {
        "id": "e2DV3JvHw78H",
        "outputId": "5b04a4b6-e192-45e1-81d5-6ad8cc1320ae",
        "colab": {
          "base_uri": "https://localhost:8080/",
          "height": 597
        }
      },
      "execution_count": null,
      "outputs": [
        {
          "output_type": "execute_result",
          "data": {
            "text/plain": [
              "                                                 title news_category  \\\n",
              "0                             “금강경, 중학생도 읽을 수 있게 풀어썼죠”         문화/TV   \n",
              "1           “디턴 불평등論 왜곡 없었다”...‘위대한 탈출’ 번역 출판한 한경BP 밝혀            종합   \n",
              "2                                              허빅-아로천체          None   \n",
              "3                  온세미컨덕터, 산업용 모터 드라이브 애플리케이션 포트폴리오 확대            테크   \n",
              "4                                원高·삼성 ‘쇼크’… 증시 불안한 출발            종합   \n",
              "..                                                 ...           ...   \n",
              "495                                                 볼펜          None   \n",
              "496                                                뇌전증          None   \n",
              "497                                                뇌전증          None   \n",
              "498                                 힐튼과 맞먹는 에어비앤비 기업가치            국제   \n",
              "499  ‘100m 이내 출점’규제 이후 … 표정 바뀐 외식업계...부글부글 빕스·TGIF ...          생활경제   \n",
              "\n",
              "        source                                            context  \\\n",
              "0     hankyung  “‘금강경’은 저에게도 늘 어려웠어요. 우리 불교가 관념적 해석에만 치우쳐 대중에게...   \n",
              "1     hankyung  올해 노벨 경제학상 수상자로 선정된 앵거스 디턴 미국 프린스턴대 교수의 저서 ‘위대...   \n",
              "2    wikipedia  허빅-아로천체는 19세기 말에 버넘이 처음 발견했는데, 그가 릭 관측소에서 91 c...   \n",
              "3      acrofan  온세미컨덕터(Nasdaq: ON)가 기업들이 특정 설계 문제를 해결하도록 돕기 위해...   \n",
              "4     hankyung  코스피지수가 44.15포인트 떨어지는 등 새해 첫 거래일 한국 증시가 호된 신고식을...   \n",
              "..         ...                                                ...   \n",
              "495  wikipedia  볼펜은 일회용 모델과 리필 모델로 생산된다. 리필을 사용하면 볼펜 및 소켓을 포함한...   \n",
              "496  wikipedia  뇌전증 발작은 뇌피질세포의 기능 이상에 의해 발생하는 증상이므로, 신경세포의 기능 ...   \n",
              "497  wikipedia  간질(癎疾) 또는 전간(癲癎)이라고도 하며, 과거에는 간질이 정식 명칭으로 사용되었...   \n",
              "498   hankyung  세계 최대 숙박 공유 서비스기업 에어비앤비가 최근 15억달러(약 1조6800억원) ...   \n",
              "499   hankyung  빕스, 차이나팩토리, 비비고, 계절밥상 등을 운영하는 외식업체 CJ푸드빌은 지난해 ...   \n",
              "\n",
              "                                   question  question_type  is_impossible  \\\n",
              "0    대중이 불교에 친숙해질 수 있도록 일감 스님이 주최한 행사의 이름은?              1          False   \n",
              "1        올해 노벨 경제학상 수상자의 저서와 공통된 소재를 다룬 책은?              2          False   \n",
              "2             버넘이 허빅-아로천체를 찾아냈을 때, 사용한 물건은?              1          False   \n",
              "3               NCP730이 동작하는 전압은 최대 몇 볼트인가?              1          False   \n",
              "4                   13%가량 자사 예상 주가를 줄인 기업은?              1          False   \n",
              "..                                      ...            ...            ...   \n",
              "495     일부 볼펜에서 잉크가 비교적 빨리 건조되기 위해 사용되는 것은?              2          False   \n",
              "496      뇌전증 발작은 어떤 세포의 기능적 문제로 발생하는 증상인가요?              1          False   \n",
              "497              뇌전증이 가장 많이 발병하는 때는 언제까지인가?              1          False   \n",
              "498                기업 가치가 가장 큰 비상장 기업의 이름은?              1          False   \n",
              "499                   캘리스코의 작년도 영업이익은 얼마인가?              2          False   \n",
              "\n",
              "         answer_text  answer_start  \\\n",
              "0          ‘내비둬 콘서트’           147   \n",
              "1     피케티의 ‘21세기 자본’           718   \n",
              "2    91 cm 구경의 굴절망원경            42   \n",
              "3                38V          1503   \n",
              "4             BNP파리바           394   \n",
              "..               ...           ...   \n",
              "495     하이브리드 잉크 배합물           530   \n",
              "496            뇌피질세포             8   \n",
              "497            생후 1년           688   \n",
              "498              샤오미           292   \n",
              "499             30억원           707   \n",
              "\n",
              "                                      negative_samples  \\\n",
              "0    [이러한 배경 속에 1908년 3월에 불교계 대표 52인이 한성부 원흥사에 모여서 ...   \n",
              "1    [“가난한 이들이 어떻게 행동하는지 연구하고 어떻게 하면 그들이 좋은 삶을 누릴 수...   \n",
              "2    [하버드의 계산수들(Harvard Computers)은 미국 천문학자 에드워드 찰스...   \n",
              "3    [ST마이크로일렉트로닉스(STMicroelectronics, 이하 ST)가 EVL4...   \n",
              "4    [상장사 10곳 중 6곳의 올 1분기 영업이익 전망치가 지난달 말보다 하향 조정됐다...   \n",
              "..                                                 ...   \n",
              "495  [볼펜 잉크는 일반적으로 염료가 25-40 % 정도 포함 된 페이스트이다. 염료는 ...   \n",
              "496  [간질(癎疾) 또는 전간(癲癎)이라고도 하며, 과거에는 간질이 정식 명칭으로 사용되...   \n",
              "497  [뇌전증 발작은 뇌피질세포의 기능 이상에 의해 발생하는 증상이므로, 신경세포의 기능...   \n",
              "498  [공정거래위원회가 자산 5조원 이상 대기업집단의 계열사 중 자산 100억원 미만 비...   \n",
              "499  [‘국민 메신저’ 카카오톡을 운영하는 카카오의 지난해 매출은 전년보다 5배, 영업이...   \n",
              "\n",
              "                                    no_answer_question  \n",
              "0    답변:\\n연관 문서: 문서1  \\n질문: 금강경을 쓴 후 일감 스님이 어떤 복잡한 ...  \n",
              "1    답변:\\n연관 문서: 문서1  \\n질문: 디턴 교수의 개인적 의견이 어떤가요?  \\...  \n",
              "2    답변:\\n연관 문서: 문서1  \\n질문: 허빅-아로 천체가 발견된 이후 어떤 다른 ...  \n",
              "3    답변:  \\n연관 문서: 문서1  \\n질문: 이 제품의 사용 사례로 어떤 산업 분야...  \n",
              "4    답변:\\n연관 문서: 문서1  \\n질문: 코스피 지수가 최근 몇 년간 가장 많이 하...  \n",
              "..                                                 ...  \n",
              "495  답변:\\n연관 문서: 문서1\\n질문: 볼펜이 어떤 색상의 잉크를 사용할 때 가장 잘...  \n",
              "496  답변:\\n연관 문서: 문서1  \\n질문: 뇌전증 환자의 높은 발작 빈도를 유발하는 ...  \n",
              "497  답변:\\n연관 문서: 문서1\\n질문: 뇌전증 환자의 통증 완화 방법이 뭐야?\\n판단...  \n",
              "498  답변:\\n연관 문서: 문서1\\n질문: 에어비앤비의 설립자인 브라이언 체스키가 어떤 ...  \n",
              "499  답변:  \\n연관 문서: 문서1  \\n질문: CJ푸드빌이 향후 5년 내에 어떤 새로...  \n",
              "\n",
              "[500 rows x 11 columns]"
            ],
            "text/html": [
              "\n",
              "  <div id=\"df-a628f854-8bc0-4749-a4ea-8a8608c1d1e6\" class=\"colab-df-container\">\n",
              "    <div>\n",
              "<style scoped>\n",
              "    .dataframe tbody tr th:only-of-type {\n",
              "        vertical-align: middle;\n",
              "    }\n",
              "\n",
              "    .dataframe tbody tr th {\n",
              "        vertical-align: top;\n",
              "    }\n",
              "\n",
              "    .dataframe thead th {\n",
              "        text-align: right;\n",
              "    }\n",
              "</style>\n",
              "<table border=\"1\" class=\"dataframe\">\n",
              "  <thead>\n",
              "    <tr style=\"text-align: right;\">\n",
              "      <th></th>\n",
              "      <th>title</th>\n",
              "      <th>news_category</th>\n",
              "      <th>source</th>\n",
              "      <th>context</th>\n",
              "      <th>question</th>\n",
              "      <th>question_type</th>\n",
              "      <th>is_impossible</th>\n",
              "      <th>answer_text</th>\n",
              "      <th>answer_start</th>\n",
              "      <th>negative_samples</th>\n",
              "      <th>no_answer_question</th>\n",
              "    </tr>\n",
              "  </thead>\n",
              "  <tbody>\n",
              "    <tr>\n",
              "      <th>0</th>\n",
              "      <td>“금강경, 중학생도 읽을 수 있게 풀어썼죠”</td>\n",
              "      <td>문화/TV</td>\n",
              "      <td>hankyung</td>\n",
              "      <td>“‘금강경’은 저에게도 늘 어려웠어요. 우리 불교가 관념적 해석에만 치우쳐 대중에게...</td>\n",
              "      <td>대중이 불교에 친숙해질 수 있도록 일감 스님이 주최한 행사의 이름은?</td>\n",
              "      <td>1</td>\n",
              "      <td>False</td>\n",
              "      <td>‘내비둬 콘서트’</td>\n",
              "      <td>147</td>\n",
              "      <td>[이러한 배경 속에 1908년 3월에 불교계 대표 52인이 한성부 원흥사에 모여서 ...</td>\n",
              "      <td>답변:\\n연관 문서: 문서1  \\n질문: 금강경을 쓴 후 일감 스님이 어떤 복잡한 ...</td>\n",
              "    </tr>\n",
              "    <tr>\n",
              "      <th>1</th>\n",
              "      <td>“디턴 불평등論 왜곡 없었다”...‘위대한 탈출’ 번역 출판한 한경BP 밝혀</td>\n",
              "      <td>종합</td>\n",
              "      <td>hankyung</td>\n",
              "      <td>올해 노벨 경제학상 수상자로 선정된 앵거스 디턴 미국 프린스턴대 교수의 저서 ‘위대...</td>\n",
              "      <td>올해 노벨 경제학상 수상자의 저서와 공통된 소재를 다룬 책은?</td>\n",
              "      <td>2</td>\n",
              "      <td>False</td>\n",
              "      <td>피케티의 ‘21세기 자본’</td>\n",
              "      <td>718</td>\n",
              "      <td>[“가난한 이들이 어떻게 행동하는지 연구하고 어떻게 하면 그들이 좋은 삶을 누릴 수...</td>\n",
              "      <td>답변:\\n연관 문서: 문서1  \\n질문: 디턴 교수의 개인적 의견이 어떤가요?  \\...</td>\n",
              "    </tr>\n",
              "    <tr>\n",
              "      <th>2</th>\n",
              "      <td>허빅-아로천체</td>\n",
              "      <td>None</td>\n",
              "      <td>wikipedia</td>\n",
              "      <td>허빅-아로천체는 19세기 말에 버넘이 처음 발견했는데, 그가 릭 관측소에서 91 c...</td>\n",
              "      <td>버넘이 허빅-아로천체를 찾아냈을 때, 사용한 물건은?</td>\n",
              "      <td>1</td>\n",
              "      <td>False</td>\n",
              "      <td>91 cm 구경의 굴절망원경</td>\n",
              "      <td>42</td>\n",
              "      <td>[하버드의 계산수들(Harvard Computers)은 미국 천문학자 에드워드 찰스...</td>\n",
              "      <td>답변:\\n연관 문서: 문서1  \\n질문: 허빅-아로 천체가 발견된 이후 어떤 다른 ...</td>\n",
              "    </tr>\n",
              "    <tr>\n",
              "      <th>3</th>\n",
              "      <td>온세미컨덕터, 산업용 모터 드라이브 애플리케이션 포트폴리오 확대</td>\n",
              "      <td>테크</td>\n",
              "      <td>acrofan</td>\n",
              "      <td>온세미컨덕터(Nasdaq: ON)가 기업들이 특정 설계 문제를 해결하도록 돕기 위해...</td>\n",
              "      <td>NCP730이 동작하는 전압은 최대 몇 볼트인가?</td>\n",
              "      <td>1</td>\n",
              "      <td>False</td>\n",
              "      <td>38V</td>\n",
              "      <td>1503</td>\n",
              "      <td>[ST마이크로일렉트로닉스(STMicroelectronics, 이하 ST)가 EVL4...</td>\n",
              "      <td>답변:  \\n연관 문서: 문서1  \\n질문: 이 제품의 사용 사례로 어떤 산업 분야...</td>\n",
              "    </tr>\n",
              "    <tr>\n",
              "      <th>4</th>\n",
              "      <td>원高·삼성 ‘쇼크’… 증시 불안한 출발</td>\n",
              "      <td>종합</td>\n",
              "      <td>hankyung</td>\n",
              "      <td>코스피지수가 44.15포인트 떨어지는 등 새해 첫 거래일 한국 증시가 호된 신고식을...</td>\n",
              "      <td>13%가량 자사 예상 주가를 줄인 기업은?</td>\n",
              "      <td>1</td>\n",
              "      <td>False</td>\n",
              "      <td>BNP파리바</td>\n",
              "      <td>394</td>\n",
              "      <td>[상장사 10곳 중 6곳의 올 1분기 영업이익 전망치가 지난달 말보다 하향 조정됐다...</td>\n",
              "      <td>답변:\\n연관 문서: 문서1  \\n질문: 코스피 지수가 최근 몇 년간 가장 많이 하...</td>\n",
              "    </tr>\n",
              "    <tr>\n",
              "      <th>...</th>\n",
              "      <td>...</td>\n",
              "      <td>...</td>\n",
              "      <td>...</td>\n",
              "      <td>...</td>\n",
              "      <td>...</td>\n",
              "      <td>...</td>\n",
              "      <td>...</td>\n",
              "      <td>...</td>\n",
              "      <td>...</td>\n",
              "      <td>...</td>\n",
              "      <td>...</td>\n",
              "    </tr>\n",
              "    <tr>\n",
              "      <th>495</th>\n",
              "      <td>볼펜</td>\n",
              "      <td>None</td>\n",
              "      <td>wikipedia</td>\n",
              "      <td>볼펜은 일회용 모델과 리필 모델로 생산된다. 리필을 사용하면 볼펜 및 소켓을 포함한...</td>\n",
              "      <td>일부 볼펜에서 잉크가 비교적 빨리 건조되기 위해 사용되는 것은?</td>\n",
              "      <td>2</td>\n",
              "      <td>False</td>\n",
              "      <td>하이브리드 잉크 배합물</td>\n",
              "      <td>530</td>\n",
              "      <td>[볼펜 잉크는 일반적으로 염료가 25-40 % 정도 포함 된 페이스트이다. 염료는 ...</td>\n",
              "      <td>답변:\\n연관 문서: 문서1\\n질문: 볼펜이 어떤 색상의 잉크를 사용할 때 가장 잘...</td>\n",
              "    </tr>\n",
              "    <tr>\n",
              "      <th>496</th>\n",
              "      <td>뇌전증</td>\n",
              "      <td>None</td>\n",
              "      <td>wikipedia</td>\n",
              "      <td>뇌전증 발작은 뇌피질세포의 기능 이상에 의해 발생하는 증상이므로, 신경세포의 기능 ...</td>\n",
              "      <td>뇌전증 발작은 어떤 세포의 기능적 문제로 발생하는 증상인가요?</td>\n",
              "      <td>1</td>\n",
              "      <td>False</td>\n",
              "      <td>뇌피질세포</td>\n",
              "      <td>8</td>\n",
              "      <td>[간질(癎疾) 또는 전간(癲癎)이라고도 하며, 과거에는 간질이 정식 명칭으로 사용되...</td>\n",
              "      <td>답변:\\n연관 문서: 문서1  \\n질문: 뇌전증 환자의 높은 발작 빈도를 유발하는 ...</td>\n",
              "    </tr>\n",
              "    <tr>\n",
              "      <th>497</th>\n",
              "      <td>뇌전증</td>\n",
              "      <td>None</td>\n",
              "      <td>wikipedia</td>\n",
              "      <td>간질(癎疾) 또는 전간(癲癎)이라고도 하며, 과거에는 간질이 정식 명칭으로 사용되었...</td>\n",
              "      <td>뇌전증이 가장 많이 발병하는 때는 언제까지인가?</td>\n",
              "      <td>1</td>\n",
              "      <td>False</td>\n",
              "      <td>생후 1년</td>\n",
              "      <td>688</td>\n",
              "      <td>[뇌전증 발작은 뇌피질세포의 기능 이상에 의해 발생하는 증상이므로, 신경세포의 기능...</td>\n",
              "      <td>답변:\\n연관 문서: 문서1\\n질문: 뇌전증 환자의 통증 완화 방법이 뭐야?\\n판단...</td>\n",
              "    </tr>\n",
              "    <tr>\n",
              "      <th>498</th>\n",
              "      <td>힐튼과 맞먹는 에어비앤비 기업가치</td>\n",
              "      <td>국제</td>\n",
              "      <td>hankyung</td>\n",
              "      <td>세계 최대 숙박 공유 서비스기업 에어비앤비가 최근 15억달러(약 1조6800억원) ...</td>\n",
              "      <td>기업 가치가 가장 큰 비상장 기업의 이름은?</td>\n",
              "      <td>1</td>\n",
              "      <td>False</td>\n",
              "      <td>샤오미</td>\n",
              "      <td>292</td>\n",
              "      <td>[공정거래위원회가 자산 5조원 이상 대기업집단의 계열사 중 자산 100억원 미만 비...</td>\n",
              "      <td>답변:\\n연관 문서: 문서1\\n질문: 에어비앤비의 설립자인 브라이언 체스키가 어떤 ...</td>\n",
              "    </tr>\n",
              "    <tr>\n",
              "      <th>499</th>\n",
              "      <td>‘100m 이내 출점’규제 이후 … 표정 바뀐 외식업계...부글부글 빕스·TGIF ...</td>\n",
              "      <td>생활경제</td>\n",
              "      <td>hankyung</td>\n",
              "      <td>빕스, 차이나팩토리, 비비고, 계절밥상 등을 운영하는 외식업체 CJ푸드빌은 지난해 ...</td>\n",
              "      <td>캘리스코의 작년도 영업이익은 얼마인가?</td>\n",
              "      <td>2</td>\n",
              "      <td>False</td>\n",
              "      <td>30억원</td>\n",
              "      <td>707</td>\n",
              "      <td>[‘국민 메신저’ 카카오톡을 운영하는 카카오의 지난해 매출은 전년보다 5배, 영업이...</td>\n",
              "      <td>답변:  \\n연관 문서: 문서1  \\n질문: CJ푸드빌이 향후 5년 내에 어떤 새로...</td>\n",
              "    </tr>\n",
              "  </tbody>\n",
              "</table>\n",
              "<p>500 rows × 11 columns</p>\n",
              "</div>\n",
              "    <div class=\"colab-df-buttons\">\n",
              "\n",
              "  <div class=\"colab-df-container\">\n",
              "    <button class=\"colab-df-convert\" onclick=\"convertToInteractive('df-a628f854-8bc0-4749-a4ea-8a8608c1d1e6')\"\n",
              "            title=\"Convert this dataframe to an interactive table.\"\n",
              "            style=\"display:none;\">\n",
              "\n",
              "  <svg xmlns=\"http://www.w3.org/2000/svg\" height=\"24px\" viewBox=\"0 -960 960 960\">\n",
              "    <path d=\"M120-120v-720h720v720H120Zm60-500h600v-160H180v160Zm220 220h160v-160H400v160Zm0 220h160v-160H400v160ZM180-400h160v-160H180v160Zm440 0h160v-160H620v160ZM180-180h160v-160H180v160Zm440 0h160v-160H620v160Z\"/>\n",
              "  </svg>\n",
              "    </button>\n",
              "\n",
              "  <style>\n",
              "    .colab-df-container {\n",
              "      display:flex;\n",
              "      gap: 12px;\n",
              "    }\n",
              "\n",
              "    .colab-df-convert {\n",
              "      background-color: #E8F0FE;\n",
              "      border: none;\n",
              "      border-radius: 50%;\n",
              "      cursor: pointer;\n",
              "      display: none;\n",
              "      fill: #1967D2;\n",
              "      height: 32px;\n",
              "      padding: 0 0 0 0;\n",
              "      width: 32px;\n",
              "    }\n",
              "\n",
              "    .colab-df-convert:hover {\n",
              "      background-color: #E2EBFA;\n",
              "      box-shadow: 0px 1px 2px rgba(60, 64, 67, 0.3), 0px 1px 3px 1px rgba(60, 64, 67, 0.15);\n",
              "      fill: #174EA6;\n",
              "    }\n",
              "\n",
              "    .colab-df-buttons div {\n",
              "      margin-bottom: 4px;\n",
              "    }\n",
              "\n",
              "    [theme=dark] .colab-df-convert {\n",
              "      background-color: #3B4455;\n",
              "      fill: #D2E3FC;\n",
              "    }\n",
              "\n",
              "    [theme=dark] .colab-df-convert:hover {\n",
              "      background-color: #434B5C;\n",
              "      box-shadow: 0px 1px 3px 1px rgba(0, 0, 0, 0.15);\n",
              "      filter: drop-shadow(0px 1px 2px rgba(0, 0, 0, 0.3));\n",
              "      fill: #FFFFFF;\n",
              "    }\n",
              "  </style>\n",
              "\n",
              "    <script>\n",
              "      const buttonEl =\n",
              "        document.querySelector('#df-a628f854-8bc0-4749-a4ea-8a8608c1d1e6 button.colab-df-convert');\n",
              "      buttonEl.style.display =\n",
              "        google.colab.kernel.accessAllowed ? 'block' : 'none';\n",
              "\n",
              "      async function convertToInteractive(key) {\n",
              "        const element = document.querySelector('#df-a628f854-8bc0-4749-a4ea-8a8608c1d1e6');\n",
              "        const dataTable =\n",
              "          await google.colab.kernel.invokeFunction('convertToInteractive',\n",
              "                                                    [key], {});\n",
              "        if (!dataTable) return;\n",
              "\n",
              "        const docLinkHtml = 'Like what you see? Visit the ' +\n",
              "          '<a target=\"_blank\" href=https://colab.research.google.com/notebooks/data_table.ipynb>data table notebook</a>'\n",
              "          + ' to learn more about interactive tables.';\n",
              "        element.innerHTML = '';\n",
              "        dataTable['output_type'] = 'display_data';\n",
              "        await google.colab.output.renderOutput(dataTable, element);\n",
              "        const docLink = document.createElement('div');\n",
              "        docLink.innerHTML = docLinkHtml;\n",
              "        element.appendChild(docLink);\n",
              "      }\n",
              "    </script>\n",
              "  </div>\n",
              "\n",
              "\n",
              "    <div id=\"df-928a005f-b458-4618-803a-117e34e7dfe4\">\n",
              "      <button class=\"colab-df-quickchart\" onclick=\"quickchart('df-928a005f-b458-4618-803a-117e34e7dfe4')\"\n",
              "                title=\"Suggest charts\"\n",
              "                style=\"display:none;\">\n",
              "\n",
              "<svg xmlns=\"http://www.w3.org/2000/svg\" height=\"24px\"viewBox=\"0 0 24 24\"\n",
              "     width=\"24px\">\n",
              "    <g>\n",
              "        <path d=\"M19 3H5c-1.1 0-2 .9-2 2v14c0 1.1.9 2 2 2h14c1.1 0 2-.9 2-2V5c0-1.1-.9-2-2-2zM9 17H7v-7h2v7zm4 0h-2V7h2v10zm4 0h-2v-4h2v4z\"/>\n",
              "    </g>\n",
              "</svg>\n",
              "      </button>\n",
              "\n",
              "<style>\n",
              "  .colab-df-quickchart {\n",
              "      --bg-color: #E8F0FE;\n",
              "      --fill-color: #1967D2;\n",
              "      --hover-bg-color: #E2EBFA;\n",
              "      --hover-fill-color: #174EA6;\n",
              "      --disabled-fill-color: #AAA;\n",
              "      --disabled-bg-color: #DDD;\n",
              "  }\n",
              "\n",
              "  [theme=dark] .colab-df-quickchart {\n",
              "      --bg-color: #3B4455;\n",
              "      --fill-color: #D2E3FC;\n",
              "      --hover-bg-color: #434B5C;\n",
              "      --hover-fill-color: #FFFFFF;\n",
              "      --disabled-bg-color: #3B4455;\n",
              "      --disabled-fill-color: #666;\n",
              "  }\n",
              "\n",
              "  .colab-df-quickchart {\n",
              "    background-color: var(--bg-color);\n",
              "    border: none;\n",
              "    border-radius: 50%;\n",
              "    cursor: pointer;\n",
              "    display: none;\n",
              "    fill: var(--fill-color);\n",
              "    height: 32px;\n",
              "    padding: 0;\n",
              "    width: 32px;\n",
              "  }\n",
              "\n",
              "  .colab-df-quickchart:hover {\n",
              "    background-color: var(--hover-bg-color);\n",
              "    box-shadow: 0 1px 2px rgba(60, 64, 67, 0.3), 0 1px 3px 1px rgba(60, 64, 67, 0.15);\n",
              "    fill: var(--button-hover-fill-color);\n",
              "  }\n",
              "\n",
              "  .colab-df-quickchart-complete:disabled,\n",
              "  .colab-df-quickchart-complete:disabled:hover {\n",
              "    background-color: var(--disabled-bg-color);\n",
              "    fill: var(--disabled-fill-color);\n",
              "    box-shadow: none;\n",
              "  }\n",
              "\n",
              "  .colab-df-spinner {\n",
              "    border: 2px solid var(--fill-color);\n",
              "    border-color: transparent;\n",
              "    border-bottom-color: var(--fill-color);\n",
              "    animation:\n",
              "      spin 1s steps(1) infinite;\n",
              "  }\n",
              "\n",
              "  @keyframes spin {\n",
              "    0% {\n",
              "      border-color: transparent;\n",
              "      border-bottom-color: var(--fill-color);\n",
              "      border-left-color: var(--fill-color);\n",
              "    }\n",
              "    20% {\n",
              "      border-color: transparent;\n",
              "      border-left-color: var(--fill-color);\n",
              "      border-top-color: var(--fill-color);\n",
              "    }\n",
              "    30% {\n",
              "      border-color: transparent;\n",
              "      border-left-color: var(--fill-color);\n",
              "      border-top-color: var(--fill-color);\n",
              "      border-right-color: var(--fill-color);\n",
              "    }\n",
              "    40% {\n",
              "      border-color: transparent;\n",
              "      border-right-color: var(--fill-color);\n",
              "      border-top-color: var(--fill-color);\n",
              "    }\n",
              "    60% {\n",
              "      border-color: transparent;\n",
              "      border-right-color: var(--fill-color);\n",
              "    }\n",
              "    80% {\n",
              "      border-color: transparent;\n",
              "      border-right-color: var(--fill-color);\n",
              "      border-bottom-color: var(--fill-color);\n",
              "    }\n",
              "    90% {\n",
              "      border-color: transparent;\n",
              "      border-bottom-color: var(--fill-color);\n",
              "    }\n",
              "  }\n",
              "</style>\n",
              "\n",
              "      <script>\n",
              "        async function quickchart(key) {\n",
              "          const quickchartButtonEl =\n",
              "            document.querySelector('#' + key + ' button');\n",
              "          quickchartButtonEl.disabled = true;  // To prevent multiple clicks.\n",
              "          quickchartButtonEl.classList.add('colab-df-spinner');\n",
              "          try {\n",
              "            const charts = await google.colab.kernel.invokeFunction(\n",
              "                'suggestCharts', [key], {});\n",
              "          } catch (error) {\n",
              "            console.error('Error during call to suggestCharts:', error);\n",
              "          }\n",
              "          quickchartButtonEl.classList.remove('colab-df-spinner');\n",
              "          quickchartButtonEl.classList.add('colab-df-quickchart-complete');\n",
              "        }\n",
              "        (() => {\n",
              "          let quickchartButtonEl =\n",
              "            document.querySelector('#df-928a005f-b458-4618-803a-117e34e7dfe4 button');\n",
              "          quickchartButtonEl.style.display =\n",
              "            google.colab.kernel.accessAllowed ? 'block' : 'none';\n",
              "        })();\n",
              "      </script>\n",
              "    </div>\n",
              "\n",
              "  <div id=\"id_5f32c57c-8e9d-43b5-bf9b-f2b3f65b215b\">\n",
              "    <style>\n",
              "      .colab-df-generate {\n",
              "        background-color: #E8F0FE;\n",
              "        border: none;\n",
              "        border-radius: 50%;\n",
              "        cursor: pointer;\n",
              "        display: none;\n",
              "        fill: #1967D2;\n",
              "        height: 32px;\n",
              "        padding: 0 0 0 0;\n",
              "        width: 32px;\n",
              "      }\n",
              "\n",
              "      .colab-df-generate:hover {\n",
              "        background-color: #E2EBFA;\n",
              "        box-shadow: 0px 1px 2px rgba(60, 64, 67, 0.3), 0px 1px 3px 1px rgba(60, 64, 67, 0.15);\n",
              "        fill: #174EA6;\n",
              "      }\n",
              "\n",
              "      [theme=dark] .colab-df-generate {\n",
              "        background-color: #3B4455;\n",
              "        fill: #D2E3FC;\n",
              "      }\n",
              "\n",
              "      [theme=dark] .colab-df-generate:hover {\n",
              "        background-color: #434B5C;\n",
              "        box-shadow: 0px 1px 3px 1px rgba(0, 0, 0, 0.15);\n",
              "        filter: drop-shadow(0px 1px 2px rgba(0, 0, 0, 0.3));\n",
              "        fill: #FFFFFF;\n",
              "      }\n",
              "    </style>\n",
              "    <button class=\"colab-df-generate\" onclick=\"generateWithVariable('df')\"\n",
              "            title=\"Generate code using this dataframe.\"\n",
              "            style=\"display:none;\">\n",
              "\n",
              "  <svg xmlns=\"http://www.w3.org/2000/svg\" height=\"24px\"viewBox=\"0 0 24 24\"\n",
              "       width=\"24px\">\n",
              "    <path d=\"M7,19H8.4L18.45,9,17,7.55,7,17.6ZM5,21V16.75L18.45,3.32a2,2,0,0,1,2.83,0l1.4,1.43a1.91,1.91,0,0,1,.58,1.4,1.91,1.91,0,0,1-.58,1.4L9.25,21ZM18.45,9,17,7.55Zm-12,3A5.31,5.31,0,0,0,4.9,8.1,5.31,5.31,0,0,0,1,6.5,5.31,5.31,0,0,0,4.9,4.9,5.31,5.31,0,0,0,6.5,1,5.31,5.31,0,0,0,8.1,4.9,5.31,5.31,0,0,0,12,6.5,5.46,5.46,0,0,0,6.5,12Z\"/>\n",
              "  </svg>\n",
              "    </button>\n",
              "    <script>\n",
              "      (() => {\n",
              "      const buttonEl =\n",
              "        document.querySelector('#id_5f32c57c-8e9d-43b5-bf9b-f2b3f65b215b button.colab-df-generate');\n",
              "      buttonEl.style.display =\n",
              "        google.colab.kernel.accessAllowed ? 'block' : 'none';\n",
              "\n",
              "      buttonEl.onclick = () => {\n",
              "        google.colab.notebook.generateWithVariable('df');\n",
              "      }\n",
              "      })();\n",
              "    </script>\n",
              "  </div>\n",
              "\n",
              "    </div>\n",
              "  </div>\n"
            ],
            "application/vnd.google.colaboratory.intrinsic+json": {
              "type": "dataframe",
              "variable_name": "df",
              "summary": "{\n  \"name\": \"df\",\n  \"rows\": 500,\n  \"fields\": [\n    {\n      \"column\": \"title\",\n      \"properties\": {\n        \"dtype\": \"string\",\n        \"num_unique_values\": 447,\n        \"samples\": [\n          \"\\u201c\\uc6b0\\ub9ac\\ub294 \\ud22c\\uc790 \\ud30c\\ud2b8\\ub108\\u201d \\u2026 20\\ub144\\uac04 512\\ubc88 \\uc190\\uc7a1\\ub2e4\",\n          \"\\uc0ac\\ub78c \\uc6c0\\uc9c1\\uc784\\ub9cc\\uc73c\\ub85c \\ub85c\\ubd07 \\uc870\\uc791 \\u2026 \\uc601\\ud654 \\u2018\\uc544\\ubc14\\ud0c0\\u2019 \\ud604\\uc2e4\\ub85c\",\n          \"\\ub85c\\ub9cc\\uc190, \\uae00\\ub85c\\ubc8c \\ube0c\\ub79c\\ub4dc\\ub85c \\ud0a4\\uc6b8 \\uac83\\u201d\"\n        ],\n        \"semantic_type\": \"\",\n        \"description\": \"\"\n      }\n    },\n    {\n      \"column\": \"news_category\",\n      \"properties\": {\n        \"dtype\": \"category\",\n        \"num_unique_values\": 30,\n        \"samples\": [\n          \"\\ucc45\\ub9c8\\uc744\",\n          \"\\uc804\\uad6d\",\n          \"JOB\"\n        ],\n        \"semantic_type\": \"\",\n        \"description\": \"\"\n      }\n    },\n    {\n      \"column\": \"source\",\n      \"properties\": {\n        \"dtype\": \"category\",\n        \"num_unique_values\": 3,\n        \"samples\": [\n          \"hankyung\",\n          \"wikipedia\",\n          \"acrofan\"\n        ],\n        \"semantic_type\": \"\",\n        \"description\": \"\"\n      }\n    },\n    {\n      \"column\": \"context\",\n      \"properties\": {\n        \"dtype\": \"string\",\n        \"num_unique_values\": 500,\n        \"samples\": [\n          \"\\uc0bc\\uc131\\uc804\\uc790\\uac00 \\ub0b4\\ub144\\ubd80\\ud130 \\ubaa8\\ub4e0 \\uc2a4\\ub9c8\\ud2b8 TV\\uc5d0 \\ud0c0\\uc774\\uc820\\uc744 \\ud0d1\\uc7ac\\ud558\\uae30\\ub85c \\uacb0\\uc815\\ud55c \\uac74 \\uad81\\uadf9\\uc801\\uc73c\\ub85c \\ub3c5\\uc790 \\uc6b4\\uc601 \\uc18c\\ud504\\ud2b8\\uc6e8\\uc5b4(OS) \\uae30\\ubc18\\uc758 \\uc0dd\\ud0dc\\uacc4\\ub97c \\uad6c\\ucd95\\ud558\\uc9c0 \\uc54a\\uc73c\\uba74 \\ubbf8\\ub798 \\uacbd\\uc7c1\\ub825\\uc744 \\uac16\\uae30 \\uc5b4\\ub835\\ub2e4\\uace0 \\ud310\\ub2e8\\ud574\\uc11c\\ub2e4. \\uc2a4\\ub9c8\\ud2b8\\ud3f0 \\uc2dc\\ub300\\uc5d0 \\uc18d\\uc808\\uc5c6\\uc774 \\ub0b4\\uc900 OS \\uc8fc\\ub3c4\\uad8c\\uc744 \\uc0ac\\ubb3c\\uc778\\ud130\\ub137(IoT) \\uc2dc\\ub300\\uc5d0 \\ucc3e\\uc544\\uc624\\uaca0\\ub2e4\\ub294 \\uc758\\uc9c0\\ub97c \\ubc18\\uc601\\ud55c \\uac83\\uc774\\ub2e4. \\uc77c\\ub2e8 \\uc138\\uacc4 \\uc2dc\\uc7a5\\uc758 30% \\uc815\\ub3c4\\ub97c \\uc7a5\\uc545\\ud55c TV\\ub97c \\uc2dc\\uc791\\uc73c\\ub85c \\uc2a4\\ub9c8\\ud2b8\\ud3f0, \\uac00\\uc804\\uae30\\uae30 \\ub4f1\\uc5d0\\ub3c4 \\ud0c0\\uc774\\uc820 \\ud0d1\\uc7ac\\ub97c \\ub298\\ub824\\uac08 \\uacc4\\ud68d\\uc774\\ub2e4. \\ucd5c\\uc885\\uc801\\uc73c\\ub85c\\ub294 TV, \\uc2a4\\ub9c8\\ud2b8\\ud3f0, \\uac00\\uc804\\uc81c\\ud488, \\uc6e8\\uc5b4\\ub7ec\\ube14(\\uc785\\uc744 \\uc218 \\uc788\\ub294) \\uae30\\uae30\\uac00 \\ubaa8\\ub450 \\ud0c0\\uc774\\uc820 OS\\ub97c \\uc911\\uc2ec\\uc73c\\ub85c \\uc11c\\ub85c \\ud1b5\\uc2e0\\ud558\\uac8c \\ud55c\\ub2e4\\ub294 \\uac8c \\uc724\\ubd80\\uadfc \\uc0bc\\uc131\\uc804\\uc790 CE\\ubd80\\ubb38\\uc7a5(\\uc0ac\\uc7a5\\u00b7\\uc0ac\\uc9c4)\\uc758 \\uc57c\\uc2ec\\uc774\\ub2e4. \\uc9c0\\uae08 \\uc0bc\\uc131\\uc774 \\u2018\\uc6b8\\uba70 \\uaca8\\uc790\\uba39\\uae30\\u2019\\ub85c \\uc2a4\\ub9c8\\ud2b8\\ud3f0\\uc5d0 \\uad6c\\uae00 \\uc548\\ub4dc\\ub85c\\uc774\\ub4dc OS\\ub97c \\ud0d1\\uc7ac\\ud558\\uace0 \\uc788\\ub294 \\uac83\\ucc98\\ub7fc, IoT\\uc2dc\\ub300\\uc5d0\\ub294 \\uc0bc\\uc131 \\uc678\\uc5d0 \\ub2e4\\ub978 TV\\u00b7\\uac00\\uc804\\uc5c5\\uccb4\\ub4e4\\ub3c4 \\ubd80\\ub4dd\\ubd88 \\ud0c0\\uc774\\uc820 OS\\ub97c \\uc7a5\\ucc29\\ud558\\ub3c4\\ub85d \\ud558\\uaca0\\ub2e4\\ub294 \\uac83\\uc774\\ub2e4.\\u25cb\\ub0b4\\ub144\\uc5d0 \\u2018\\ud0c0\\uc774\\uc820 TV\\u2019 3000\\ub9cc\\ub300 \\uae54\\ub9b0\\ub2e4\\uc0bc\\uc131\\uc774 \\ud0c0\\uc774\\uc820 \\ubcf4\\uae09\\uc758 \\uc120\\ubd09\\uc7a5\\uc73c\\ub85c TV\\ub97c \\uc120\\ud0dd\\ud55c \\uac83\\uc740 \\uad73\\uac74\\ud55c \\uc2dc\\uc7a5 \\uc785\\uc9c0\\ub97c \\ud65c\\uc6a9\\ud558\\uba74 \\ub2e8\\uc2dc\\uc77c \\ub0b4 \\ud0c0\\uc774\\uc820\\uc744 \\ud655\\uc0b0\\uc2dc\\ud0ac \\uc218 \\uc788\\uae30 \\ub54c\\ubb38\\uc774\\ub2e4. \\uc138\\uacc4 TV \\uc2dc\\uc7a5\\uc5d0\\uc11c \\uc0bc\\uc131\\uc740 30% \\uc804\\ud6c4\\uc758 \\uc810\\uc720\\uc728\\ub85c \\ubd80\\ub3d9\\uc758 1\\uc704\\ub97c \\uc9c0\\ud0a4\\uace0 \\uc788\\ub2e4. \\uc0bc\\uc131\\uc740 \\ub0b4\\ub144 6000\\ub9cc\\ub300\\uc758 TV\\ub97c \\ud310\\ub9e4\\ud55c\\ub2e4\\ub294 \\ubaa9\\ud45c\\ub97c \\uc138\\uc6e0\\ub294\\ub370, \\uc774 \\uc911 \\uc808\\ubc18 \\uc774\\uc0c1\\uc774 \\uc2a4\\ub9c8\\ud2b8 TV\\ub2e4. \\ub0b4\\ub144\\uc5d0\\ub9cc 3000\\ub9cc\\ub300 \\uc774\\uc0c1\\uc758 \\ud0c0\\uc774\\uc820 \\ud0d1\\uc7ac TV\\uac00 \\uc138\\uacc4 \\uc2dc\\uc7a5\\uc5d0 \\ubcf4\\uae09\\ub41c\\ub2e4. \\ub610 \\uae30\\uc874\\uc5d0 \\ud310\\ub9e4\\ub41c \\uc2a4\\ub9c8\\ud2b8 TV\\ub3c4 \\uc0bc\\uc131\\uc758 \\uc18c\\ud504\\ud2b8\\uc6e8\\uc5b4 \\uc1a1\\uc218\\uc2e0 \\ubaa8\\ub380\\uc778 \\u2018\\uc5d0\\ubcfc\\ub8e8\\uc158 \\ud0a4\\ud2b8\\u2019\\ub97c \\ud1b5\\ud574 \\ud0c0\\uc774\\uc820\\uc73c\\ub85c OS\\ub97c \\ubc14\\uafc0 \\uc218 \\uc788\\ub2e4. \\uc218\\ub144 \\ub0b4\\uc5d0 1\\uc5b5\\ub300 \\ub118\\ub294 \\ud0c0\\uc774\\uc820 TV\\uac00 \\ub098\\uc62c \\uc218 \\uc788\\ub2e4. \\uad6c\\uae00\\uacfc \\uc560\\ud50c\\ub3c4 \\uac01\\uac01 TV\\uc6a9 OS\\ub97c \\uc900\\ube44\\ud558\\uace0 \\uc788\\uc9c0\\ub9cc, \\uc774 \\ubd84\\uc57c\\uc5d0\\uc11c\\ub294 \\uc0bc\\uc131\\uc744 \\ub530\\ub77c\\uc7a1\\uae30 \\uc27d\\uc9c0 \\uc54a\\ub2e4\\ub294 \\ubd84\\uc11d\\uc774\\ub2e4.\\uc0bc\\uc131\\uc740 TV \\uc678\\uc5d0 \\ub2e4\\ub978 \\uae30\\uae30\\uc5d0\\ub3c4 \\ud0c0\\uc774\\uc820 OS \\uc7a5\\ucc29\\uc744 \\ub298\\ub9ac\\uace0 \\uc788\\ub2e4. \\uc774\\ubbf8 \\uc62c\\ud574 \\ucd9c\\uc2dc\\ub41c \\uc2a4\\ub9c8\\ud2b8\\uc6cc\\uce58 \\uae30\\uc5b42\\uc640 \\uae30\\uc5b4S\\uc5d0\\ub294 \\uad6c\\uae00\\uc758 \\ub178\\uace8\\uc801\\uc778 \\ubc18\\ubc1c\\uc5d0\\ub3c4 \\ud0c0\\uc774\\uc820 OS\\ub97c \\ud0d1\\uc7ac\\ud588\\ub2e4. \\ub610 \\ub0b4\\ub144 1\\uc6d418\\uc77c\\uc5d4 \\uc778\\ub3c4\\uc5d0\\uc11c 10\\ub9cc\\uc6d0\\ub300 \\ucd08\\uc800\\uac00 \\ud0c0\\uc774\\uc820 \\uc2a4\\ub9c8\\ud2b8\\ud3f0 Z1\\uc744 \\ucd9c\\uc2dc\\ud560 \\uacc4\\ud68d\\uc774\\ub2e4. \\uc774\\uc775\\ub960 \\uac10\\uc18c\\ub97c \\uac10\\uc218\\ud558\\uace0\\uc11c\\ub77c\\ub3c4 \\ud0c0\\uc774\\uc820\\ud3f0\\uc758 \\ubcf4\\uae09\\uc744 \\ub298\\ub9ac\\ub294 \\ud6a8\\uacfc\\ub97c \\uac70\\ub450\\uaca0\\ub2e4\\ub294 \\uc804\\ub7b5\\uc774\\ub2e4. \\uc55e\\uc73c\\ub85c \\ucd9c\\uc2dc\\ud560 \\ub0c9\\uc7a5\\uace0, \\uc138\\ud0c1\\uae30 \\ub4f1 \\uac00\\uc804\\uc81c\\ud488\\uc5d0\\ub3c4 \\ub2e8\\uacc4\\uc801\\uc73c\\ub85c \\ud0c0\\uc774\\uc820\\uc744 \\ud0d1\\uc7ac\\ud560 \\uc608\\uc815\\uc774\\ub2e4.\\u25cbIoT\\uc2dc\\ub300 \\u2018\\ucc9c\\ud558\\ud1b5\\uc77c\\u2019 \\uafc8\\uafbc\\ub2e4\\uc0bc\\uc131\\uc774 \\ud0c0\\uc774\\uc820 \\u2018\\uc601\\ud1a0\\u2019\\ub97c \\uacf5\\uaca9\\uc801\\uc73c\\ub85c \\ud655\\uc7a5\\ud558\\ub294 \\uac83\\uc740 \\uc774\\ub978\\ubc14 \\u2018\\uba54\\ucee4\\ud504\\uc758 \\ubc95\\uce59\\u2019\\uc5d0 \\uadfc\\uac70\\ud55c \\ub9c8\\ucf00\\ud305 \\uc804\\ub7b5\\uc774\\ub2e4. \\ubbf8\\uad6d \\ub124\\ud2b8\\uc6cc\\ud06c \\uc7a5\\ube44\\uc5c5\\uccb4 3COM\\uc758 \\ucc3d\\ub9bd\\uc790 \\ubc25 \\uba54\\ucee4\\ud504\\uac00 \\uc8fc\\ucc3d\\ud55c \\ubc95\\uce59\\uc73c\\ub85c, \\ub124\\ud2b8\\uc6cc\\ud06c\\ub294 \\uc77c\\uc815 \\uc218 \\uc774\\uc0c1\\uc758 \\uc0ac\\uc6a9\\uc790\\uac00 \\ubab0\\ub9ac\\uba74 \\uac00\\uce58\\uac00 \\ud3ed\\ubc1c\\uc801\\uc73c\\ub85c \\uc99d\\uac00\\ud55c\\ub2e4\\ub294 \\uac00\\uc124\\uc774\\ub2e4. \\uc18c\\ube44\\uc790\\ub4e4\\uc740 \\ub300\\uc138\\uac00 \\ub41c \\ub124\\ud2b8\\uc6cc\\ud06c \\ud45c\\uc900\\uc73c\\ub85c \\uc3e0\\ub9b4 \\uc218\\ubc16\\uc5d0 \\uc5c6\\ub2e4.TV\\uc640 \\uc2a4\\ub9c8\\ud2b8\\ud3f0\\uc740 \\ub2e4\\uac00\\uc624\\ub294 IoT\\uc2dc\\ub300\\uc5d0 \\uac00\\uc804\\uae30\\uae30\\ub97c \\uc81c\\uc5b4\\ud558\\ub294 \\ud5c8\\ube0c \\uc5ed\\ud560\\uc744 \\ud558\\uac8c \\ub41c\\ub2e4. \\uc9d1\\uc5d0\\uc11c\\ub294 \\uc18c\\ud30c\\uc5d0 \\uc549\\uc544 TV\\ub85c, \\ubc16\\uc5d0\\uc11c\\ub294 \\uc2a4\\ub9c8\\ud2b8\\ud3f0\\uc744 \\uc774\\uc6a9\\ud574 \\uc9d1\\uc548\\uc758 \\uc870\\uba85\\uc744 \\uc870\\uc808\\ud558\\uace0 \\ub0c9\\ub09c\\ubc29 \\uae30\\uae30\\ub97c \\uc81c\\uc5b4\\ud558\\ub294 \\uc2dd\\uc774\\ub2e4. \\ub9cc\\uc57d TV\\uac00 \\ud0c0\\uc774\\uc820 OS\\ub97c \\uc4f0\\uace0 \\uc788\\uc73c\\uba74, \\uac00\\uc804\\uc81c\\ud488\\ub3c4 \\ud0c0\\uc774\\uc820\\uc744 \\uc368\\uc57c \\uc11c\\ub85c \\ud1b5\\uc2e0\\uc774 \\uac00\\ub2a5\\ud558\\ub2e4. \\uacb0\\uad6d \\uc0bc\\uc131 TV\\ub97c \\uc4f0\\ub294 \\uc18c\\ube44\\uc790\\ub294 \\uc0bc\\uc131 \\uac00\\uc804\\uc81c\\ud488\\uc744 \\uc0ac\\uac70\\ub098, \\ud0c0\\uc0ac \\uac83\\uc744 \\uc4f0\\ub354\\ub77c\\ub3c4 \\ud0c0\\uc774\\uc820 OS\\uac00 \\uae54\\ub9b0 \\uc81c\\ud488\\uc744 \\uc120\\ud0dd\\ud574\\uc57c \\ud55c\\ub2e4. \\ud0c0\\uc774\\uc820\\uc740 \\ub204\\uad6c\\ub098 \\uad00\\ub828 \\uc560\\ud50c\\ub9ac\\ucf00\\uc774\\uc158(\\uc571)\\uc744 \\ub9cc\\ub4e4\\uace0 \\uc81c\\ud488\\uc5d0 \\uc801\\uc6a9\\ud560 \\uc218 \\uc788\\ub294 \\uac1c\\ubc29\\ud615 \\uc18c\\ud504\\ud2b8\\uc6e8\\uc5b4\\uc774\\uae30 \\ub54c\\ubb38\\uc5d0 \\ud0c0\\uc0ac \\uc81c\\ud488\\uc5d0\\ub3c4 \\ud0c0\\uc774\\uc820\\uc744 \\ud0d1\\uc7ac\\ud560 \\uc218 \\uc788\\ub2e4. IoT\\uc2dc\\ub300\\uc5d0 \\u2018\\ucd5c\\ud6c4\\uc758 \\uc2b9\\uc790\\u2019\\uac00 \\ub418\\uae30 \\uc704\\ud574\\uc120 OS\\ub97c \\uc7a5\\uc545\\ud558\\uaca0\\ub2e4\\ub294 \\uac83\\uc774\\ub2e4. \\uad6c\\uae00\\uc740 \\uc2a4\\ub9c8\\ud2b8\\ud3f0 \\uc2dc\\ub300 \\ucd08\\uae30\\uc5d0 \\uc548\\ub4dc\\ub85c\\uc774\\ub4dc OS\\ub97c \\uc2dc\\uc7a5\\uc5d0 \\ubb34\\ub8cc\\ub85c \\ubcf4\\uae09\\ud558\\uba74\\uc11c \\uc810\\uc720\\uc728\\uc744 \\ub298\\ub838\\uace0 \\uacb0\\uad6d \\uc2dc\\uc7a5\\uc744 \\uc7a5\\uc545\\ud588\\ub2e4.\\uc0bc\\uc131\\uc774 IoT\\uc2dc\\ub300 OS\\ub97c \\uc7a5\\uc545\\ud558\\uba74 \\uc5ec\\ub7ec \\uac00\\uc9c0 \\uc774\\uc810\\uc744 \\ub204\\ub9b4 \\uc218 \\uc788\\ub2e4. \\uc77c\\ub2e8 \\uac01\\uc885 \\uc571 \\uc720\\ud1b5 \\uc911\\uac1c\\ub97c \\ud1b5\\ud574 \\uc774\\uc775\\uc744 \\ubcfc \\uc218 \\uc788\\ub2e4. \\ud0c0\\uc774\\uc820\\uc744 \\ud0d1\\uc7ac\\ud55c \\uac00\\uc804\\uc81c\\ud488 \\ud310\\ub9e4\\ub3c4 \\ub298\\ub9b4 \\uc218 \\uc788\\ub2e4. \\ub610 \\ud0c0\\uc774\\uc820 \\ud0d1\\uc7ac \\uae30\\uae30 \\uc774\\uc6a9\\uc790\\ub4e4\\uc758 \\ud589\\ud0dc\\ub97c \\u2018\\ube45\\ub370\\uc774\\ud130\\u2019\\ub85c \\ubaa8\\uc544 \\uc0c1\\ud488\\uac1c\\ubc1c, \\ub9c8\\ucf00\\ud305 \\ub4f1 \\ub2e4\\uc591\\ud55c \\uc0ac\\uc5c5\\uc5d0 \\ud65c\\uc6a9\\ud560 \\uc218 \\uc788\\ub2e4.\",\n          \"\\uc774\\ub7ec\\ud55c \\uc720\\uc5b8\\ube44\\uc5b4 \\uc720\\ud3ec\\ub97c \\uacc4\\uae30\\ub85c \\uc804 \\ub0b4\\uac01\\uc5d0\\uc11c \\ud3d0\\uae30\\ub418\\uc5c8\\ub358 \\uc0ac\\ubc95\\uc131\\uc758 \\\"\\uacfc\\uaca9\\uc0ac\\ud68c\\uc6b4\\ub3d9\\ub2e8\\uc18d\\ubc95\\uc548\\\" \\ub300\\uc2e0 9\\uc6d4 7\\uc77c \\uae34\\uae09\\uce59\\ub839\\uc778 \\uce58\\uc548\\uc720\\uc9c0\\ub97c \\uc704\\ud55c \\ubc8c\\uce59\\uc5d0 \\uad00\\ud55c \\uac74(\\uce59\\ub839 \\uc81c403\\ud638)\\uac00 \\ubc1c\\ub839\\ub418\\uc5c8\\ub2e4.(\\uc774 \\ub2f9\\uc2dc \\uc0ac\\ubc95\\ub300\\uc2e0\\uc740 \\uc804\\ub0a0\\uae4c\\uc9c0 \\ub300\\uc2ec\\uc6d0\\uc7a5\\uc774\\uc5c8\\ub358 \\uc0ac\\uc0c1\\uac80\\uc0ac\\uacc4 \\ud788\\ub77c\\ub204\\ub9c8 \\uae30\\uc774\\uce58\\ub85c\\uc600\\uc73c\\uba70 \\ucd94\\ubc00\\uc6d0 \\uc758\\uc7a5\\uc740 \\uae30\\uc694\\uc6b0\\ub77c \\uac8c\\uc774\\uace0\\uc600\\ub2e4) \\uc774 \\uce59\\ub839\\uc774 \\ud6c4\\uc758 \\uce58\\uc548\\uc720\\uc9c0\\ubc95\\uc758 \\uc804\\uc2e0\\uc774\\ub2e4. 8\\uc77c\\uc5d0\\ub294 \\ub3c4\\ucfc4\\uc9c0\\ubc29\\uc7ac\\ud310\\uc18c\\uc758 \\uac80\\uc0ac\\uc815(\\uc9c0\\ubc29\\uac80\\ucc30\\uccad\\uc7a5) \\ubbf8\\ub098\\ubbf8\\uc57c \\uc528\\ud14c\\uc774\\uac00 \\\"\\uc120\\uc778\\ub4e4 \\uc911\\uc5d0\\ub294 \\ubd88\\ub7c9\\ubc30\\ub3c4 \\uc788\\uc5b4 \\uacbd\\ucc30\\uc11c\\uc5d0\\uc11c \\uac80\\uc18d\\ud574 \\uc5c4\\uc911 \\ucde8\\uc870\\ud558\\uace0 \\uc788\\uace0 \\uc774\\ubc88\\uc5d0 \\uc5b4\\ub290 \\uc815\\ub3c4\\uc758 \\uc808\\ub3c4\\uc8c4 \\ubc0f \\uae30\\ud0c0 \\uc8c4\\ub97c \\uc800\\uc9c0\\ub97c \\uc0ac\\ub78c\\uc774 \\ub098\\uc62c \\uc9c0\\ub294 \\ubaa8\\ub974\\uaca0\\uc9c0\\ub9cc \\uc720\\uc5b8\\ube44\\uc5b4\\uc5d0 \\ub5a0\\ub3c4\\ub294 \\ubc94\\uc8c4\\ub294 \\uc808\\ub300\\ub85c \\uc5c6\\uc744 \\uac83\\uc774\\ub77c\\uace0 \\ubbff\\ub294\\ub2e4\\\"\\uba70 \\uc720\\uc5b8\\ube44\\uc5b4\\ub97c \\ubd80\\uc815\\ud558\\ub294 \\ubc1c\\uc5b8\\uc744 \\ud558\\uc600\\ub2e4. \\n\\n\\uc9c0\\uc9c4 \\ud6c4 1\\uac1c\\uc6d4 \\uc774\\uc0c1\\uc774 \\uc9c0\\ub09c 10\\uc6d4 20\\uc77c, \\uc77c\\ubcf8 \\uc815\\ubd80\\ub294 \\\"\\uc870\\uc120\\uc778\\uc774 \\uc77c\\uc73c\\ud0a8 \\ud3ed\\ub3d9\\\"\\uc5d0 \\ub300\\ud55c \\ubcf4\\ub3c4\\uae08\\uc9c0\\ub97c \\uc77c\\ubd80 \\ud574\\uc81c\\ud558\\uba74\\uc11c \\ub3d9\\uc2dc\\uc5d0 \\ud3ed\\ub3d9\\uc774 \\uc77c\\ubd80 \\uc0ac\\uc2e4\\uc774\\uc5c8\\ub2e4\\ub294 \\ubc95\\ubb34\\ubd80 \\ubc1c\\ud45c\\ub97c \\uac19\\uc774 \\ub0b4\\ub193\\uc558\\ub2e4. \\ud558\\uc9c0\\ub9cc \\ubc1c\\ud45c\\uc5d0\\uc11c \\uc6a9\\uc758\\uc790 \\ub300\\ubd80\\ubd84\\uc774 \\uc131\\uba85 \\ubbf8\\uc0c1\\uc73c\\ub85c \\uae30\\uc18c\\ub418\\uc9c0 \\uc54a\\uc544 \\uc2e0\\ube59\\uc131\\uc774 \\ubd80\\uc871\\ud558\\uba70 \\uc790\\uacbd\\ub2e8\\uc758 \\ud559\\uc0b4\\uc774\\ub098 \\uc815\\ubd80\\uc758 \\uc720\\uc5b8\\ube44\\uc5b4 \\uac00\\ub2f4 \\ucc45\\uc784\\uc744 \\uc740\\ud3d0\\ud558\\uac70\\ub098 \\uc870\\uc120\\uc778\\uc5d0\\uac8c \\uc804\\uac00\\ud558\\uae30 \\uc704\\ud574 \\uc77c\\ubcf8 \\uc815\\ubd80\\uac00 \\ud3ed\\ub3d9\\uc744 \\uc870\\uc791\\ud588\\ub2e4\\ub294 \\uc124\\ub3c4 \\uc788\\ub2e4\\n\\n\\uc77c\\ubd80 \\uc720\\uc5b8\\ube44\\uc5b4\\uc5d0 \\ub300\\ud574\\uc11c\\ub294 1944\\ub144 \\uc1fc\\ub9ac\\ud0a4 \\ub9c8\\uc4f0\\ud0c0\\ub85c\\uac00 \\uacbd\\uc2dc\\uccad \\uac15\\uc5f0\\uc5d0\\uc11c \\ub2f9\\uc2dc \\uc815\\ubcf4\\uac00 \\\"\\uac00\\uc9dc \\uc815\\ubcf4\\\"\\ub77c\\uace0 \\ub9d0\\ud588\\ub2e4.\",\n          \"\\uc560\\ud50c\\uc774 \\uc544\\uc774\\ud3f0\\uc758 \\ub450\\ub1cc\\uc778 \\uc560\\ud50c\\ub9ac\\ucf00\\uc774\\uc158\\ud504\\ub85c\\uc138\\uc11c(AP)\\uc5d0 \\ub300\\ud574 \\u2018\\uac00\\uaca9 \\ud6c4\\ub824\\uce58\\uae30\\u2019\\uc5d0 \\ub098\\uc130\\ub2e4\\uace0 \\ub300\\ub9cc \\uc5b8\\ub860\\uc774 \\ubcf4\\ub3c4\\ud588\\ub2e4. \\uc544\\uc774\\ud3f0 \\ucd9c\\uc2dc \\uc774\\ud6c4 \\uc0bc\\uc131\\uc804\\uc790\\uc5d0\\ub9cc \\ud30c\\uc6b4\\ub4dc\\ub9ac(\\uc704\\ud0c1\\uc0dd\\uc0b0)\\ub97c \\ub9e1\\uaca8\\uc628 \\uc560\\ud50c\\uc740 2014\\ub144\\ubd80\\ud130 \\ub300\\ub9cc TSMC\\uc5d0\\ub3c4 \\ubb3c\\ub7c9\\uc744 \\uc8fc\\uba74\\uc11c \\u2018\\uba40\\ud2f0 \\ubca4\\ub354 \\uc804\\ub7b5(\\ud55c \\ubd80\\ud488\\uc5d0 \\ub300\\ud574 \\uc5ec\\ub7ec \\ubd80\\ud488\\uc5c5\\uccb4\\ub97c \\ub46c \\uacbd\\uc7c1\\uc2dc\\ud0a4\\ub294 \\uc804\\ub7b5)\\u2019\\uc744 \\ucde8\\ud574\\uc654\\ub2e4.12\\uc77c \\ub300\\ub9cc \\ub514\\uc9c0\\ud0c0\\uc784\\uc2a4\\uc5d0 \\ub530\\ub974\\uba74 \\uc560\\ud50c\\uc740 \\ucd5c\\uadfc AP \\uc591\\ub300 \\uacf5\\uae09\\uc0ac\\uc778 \\uc0bc\\uc131\\uc804\\uc790\\uc640 TSMC\\uc5d0 A9\\uce69(\\uc62c\\ud574 4\\ubd84\\uae30 \\ucd9c\\uc2dc\\ub420 \\uc544\\uc774\\ud3f06S\\uc5d0 \\ub4e4\\uc5b4\\uac00\\ub294 AP)\\uc5d0 \\ub300\\ud574 \\uac00\\uaca9 \\uc778\\ud558\\ub97c \\uc694\\uad6c\\ud588\\ub2e4. \\uc774\\ub97c \\uc218\\uc6a9\\ud558\\uc9c0 \\uc54a\\uc740 TSMC\\ub85c\\ubd80\\ud130 \\ubb3c\\ub7c9\\uc744 \\uc904\\uc774\\uace0 \\uc0bc\\uc131\\uc5d0 \\ucd94\\uac00 \\ubb3c\\ub7c9\\uc744 \\uc92c\\ub2e4\\uace0 \\ub514\\uc9c0\\ud0c0\\uc784\\uc2a4\\ub294 \\ubcf4\\ub3c4\\ud588\\ub2e4. \\uc0bc\\uc131\\uc804\\uc790\\ub294 \\uc9c0\\ub09c\\ub2ec \\ub9d0 \\uae30\\uc5c5\\uc124\\uba85\\ud68c(IR)\\uc5d0\\uc11c \\u201c\\ud558\\ubc18\\uae30\\uc5d0\\ub3c4 \\uc2dc\\uc2a4\\ud15cLSI \\uc0ac\\uc5c5\\ubd80\\ub294 \\ud30c\\uc6b4\\ub4dc\\ub9ac \\ub9e4\\ucd9c\\uc774 \\uc9c0\\ub09c\\ud574\\ubcf4\\ub2e4 \\uc131\\uc7a5\\ud560 \\uac83\\u201d\\uc774\\ub77c\\uace0 \\uc560\\ud50c\\uc758 \\ud30c\\uc6b4\\ub4dc\\ub9ac \\ubb3c\\ub7c9\\uc744 \\ucda9\\ubd84\\ud788 \\ud655\\ubcf4\\ud588\\uc74c\\uc744 \\uc2dc\\uc0ac\\ud588\\ub2e4.\\ub2e4\\ub9cc \\uc560\\ud50c\\uc774 \\ub2e8\\uac00\\ub97c \\ub0ae\\ucda4\\uc5d0 \\ub530\\ub77c \\uc218\\uc775\\uc131\\uc774 \\ub0ae\\uc544\\uc9c8 \\uac00\\ub2a5\\uc131\\uc774 \\uc788\\ub2e4. \\uc5c5\\uacc4 \\uad00\\uacc4\\uc790\\ub294 \\u201c\\uc560\\ud50c\\uc740 \\uc5ec\\ub7ec \\uacf5\\uae09\\uc5c5\\uccb4\\uc758 \\uacbd\\uc7c1\\uc744 \\ud1b5\\ud574 \\ubd80\\ud488 \\uac12\\uc744 \\ub0ae\\ucdb0 \\uc774\\uc775\\uc744 \\ub192\\uc774\\ub294 \\uc804\\ub7b5\\uc744 \\ucde8\\ud574\\uc654\\ub2e4\\u201d\\uba70 \\u201c20~30%\\ub300 \\uc21c\\uc774\\uc775\\ub960\\uc744 \\ub0b4\\ub294 \\uc774\\uc720\\u201d\\ub77c\\uace0 \\uc124\\uba85\\ud588\\ub2e4.\"\n        ],\n        \"semantic_type\": \"\",\n        \"description\": \"\"\n      }\n    },\n    {\n      \"column\": \"question\",\n      \"properties\": {\n        \"dtype\": \"string\",\n        \"num_unique_values\": 500,\n        \"samples\": [\n          \"\\uba54\\ucee4\\ud504\\uc758 \\ubc95\\uce59'\\uc744 \\uc8fc\\uc7a5\\ud55c \\uc0ac\\ub78c\\uc774 \\uc138\\uc6b4 \\ud68c\\uc0ac\\uc758 \\uc774\\ub984\\uc740?\",\n          \"\\ud3ed\\ub3d9\\uc5d0 \\uac00\\ub2f4\\ud55c \\uc77c\\ubd80 \\uc870\\uc120\\uc778\\uc774 \\uc788\\ub2e4\\uace0 \\ubc1c\\ud45c\\ud55c \\uc77c\\ubcf8 \\uc815\\ubd80 \\ubd80\\ucc98\\ub294?\",\n          \"\\uc0bc\\uc131\\uc774 \\ud30c\\uc6b4\\ub4dc\\ub9ac \\ubb3c\\ub7c9\\uc744 \\uc5bb\\ub294 \\ub300\\uc2e0 \\ud558\\ub77d\\ud560 \\uac83\\uc73c\\ub85c \\uc6b0\\ub824\\ub418\\ub294 \\ud56d\\ubaa9\\uc740?\"\n        ],\n        \"semantic_type\": \"\",\n        \"description\": \"\"\n      }\n    },\n    {\n      \"column\": \"question_type\",\n      \"properties\": {\n        \"dtype\": \"number\",\n        \"std\": 0,\n        \"min\": 1,\n        \"max\": 2,\n        \"num_unique_values\": 2,\n        \"samples\": [\n          2,\n          1\n        ],\n        \"semantic_type\": \"\",\n        \"description\": \"\"\n      }\n    },\n    {\n      \"column\": \"is_impossible\",\n      \"properties\": {\n        \"dtype\": \"boolean\",\n        \"num_unique_values\": 1,\n        \"samples\": [\n          false\n        ],\n        \"semantic_type\": \"\",\n        \"description\": \"\"\n      }\n    },\n    {\n      \"column\": \"answer_text\",\n      \"properties\": {\n        \"dtype\": \"string\",\n        \"num_unique_values\": 481,\n        \"samples\": [\n          \"\\ub0b4\\uac01\\uace0\\uc720 \\uc81c2\\ud638(\\uc870\\uc120\\uc778\\uc5d0 \\ub300\\ud55c \\ubc15\\ud574\\uc640 \\uad00\\ub828\\ub41c \\uc0ac\\uace0 \\uac74)\"\n        ],\n        \"semantic_type\": \"\",\n        \"description\": \"\"\n      }\n    },\n    {\n      \"column\": \"answer_start\",\n      \"properties\": {\n        \"dtype\": \"number\",\n        \"std\": 330,\n        \"min\": 0,\n        \"max\": 1787,\n        \"num_unique_values\": 374,\n        \"samples\": [\n          456\n        ],\n        \"semantic_type\": \"\",\n        \"description\": \"\"\n      }\n    },\n    {\n      \"column\": \"negative_samples\",\n      \"properties\": {\n        \"dtype\": \"object\",\n        \"semantic_type\": \"\",\n        \"description\": \"\"\n      }\n    },\n    {\n      \"column\": \"no_answer_question\",\n      \"properties\": {\n        \"dtype\": \"string\",\n        \"num_unique_values\": 500,\n        \"samples\": [\n          \"\\ub2f5\\ubcc0:\\n\\uc5f0\\uad00 \\ubb38\\uc11c: \\ubb38\\uc11c1\\n\\uc9c8\\ubb38: \\uc0bc\\uc131\\uc804\\uc790\\uac00 \\ud0c0\\uc774\\uc820\\uc744 \\ucd9c\\uc2dc\\ud55c \\ud574\\ub294 \\uc5b8\\uc81c\\uc57c?\\n\\ud310\\ub2e8: \\ud574\\ub2f9 \\uc9c8\\ubb38\\uc740 5\\uac1c\\uc758 \\ubb38\\uc11c\\ub97c \\ubaa8\\ub450 \\uc0ac\\uc6a9\\ud574\\ub3c4 \\ub2f5\\ubcc0\\uc774 \\ubd88\\uac00\\ub2a5\\ud569\\ub2c8\\ub2e4. => True\\n\\n\\uc5f0\\uad00 \\ubb38\\uc11c: \\ubb38\\uc11c2\\n\\uc9c8\\ubb38: \\uc2dc\\ud2b8\\ub85c\\uc5e5\\uc758 \\uccab \\ubc88\\uc9f8 \\ubaa8\\ub378 \\uc774\\ub984\\uc774 \\ubb50\\uc600\\uc9c0?\\n\\ud310\\ub2e8: \\ud574\\ub2f9 \\uc9c8\\ubb38\\uc740 5\\uac1c\\uc758 \\ubb38\\uc11c\\ub97c \\ubaa8\\ub450 \\uc0ac\\uc6a9\\ud574\\ub3c4 \\ub2f5\\ubcc0\\uc774 \\ubd88\\uac00\\ub2a5\\ud569\\ub2c8\\ub2e4. => True\\n\\n\\uc5f0\\uad00 \\ubb38\\uc11c: \\ubb38\\uc11c3\\n\\uc9c8\\ubb38: \\ub9e4\\uc2a4\\ucf54\\uc758 CEO\\uac00 \\uc81c\\uc548\\ud55c \\uc2e0\\uc0ac\\uc5c5\\uc758 \\uc774\\ub984\\uc740 \\ubb50\\uc57c?\\n\\ud310\\ub2e8: \\ud574\\ub2f9 \\uc9c8\\ubb38\\uc740 5\\uac1c\\uc758 \\ubb38\\uc11c\\ub97c \\ubaa8\\ub450 \\uc0ac\\uc6a9\\ud574\\ub3c4 \\ub2f5\\ubcc0\\uc774 \\ubd88\\uac00\\ub2a5\\ud569\\ub2c8\\ub2e4. => True\\n\\n\\uc5f0\\uad00 \\ubb38\\uc11c: \\ubb38\\uc11c4\\n\\uc9c8\\ubb38: \\ud004\\ucef4\\uc774 \\ucd08\\uae30 \\ud1b5\\uc2e0\\uc0ac\\uc5c5\\uc5d0\\uc11c \\ub9cc\\ub4e0 \\uc81c\\ud488\\uc5d0\\ub294 \\uc5b4\\ub5a4 \\uac83\\uc774 \\uc788\\uc5c8\\uc5b4?\\n\\ud310\\ub2e8: \\ud574\\ub2f9 \\uc9c8\\ubb38\\uc740 5\\uac1c\\uc758 \\ubb38\\uc11c\\ub97c \\ubaa8\\ub450 \\uc0ac\\uc6a9\\ud574\\ub3c4 \\ub2f5\\ubcc0\\uc774 \\ubd88\\uac00\\ub2a5\\ud569\\ub2c8\\ub2e4. => True\\n\\n\\uc5f0\\uad00 \\ubb38\\uc11c: \\ubb38\\uc11c5\\n\\uc9c8\\ubb38: \\uba38\\ud06c \\uac00\\ubb38\\uc758 \\uc5ed\\uc0ac\\ub294 \\uc5bc\\ub9c8\\ub098 \\ub410\\uc5b4?\\n\\ud310\\ub2e8: \\ud574\\ub2f9 \\uc9c8\\ubb38\\uc740 5\\uac1c\\uc758 \\ubb38\\uc11c\\ub97c \\ubaa8\\ub450 \\uc0ac\\uc6a9\\ud574\\ub3c4 \\ub2f5\\ubcc0\\uc774 \\ubd88\\uac00\\ub2a5\\ud569\\ub2c8\\ub2e4. => True\"\n        ],\n        \"semantic_type\": \"\",\n        \"description\": \"\"\n      }\n    }\n  ]\n}"
            }
          },
          "metadata": {},
          "execution_count": 21
        }
      ]
    },
    {
      "cell_type": "markdown",
      "source": [
        "## 데이터 정제"
      ],
      "metadata": {
        "id": "QVs0HJ3Df0kL"
      }
    },
    {
      "cell_type": "code",
      "source": [
        "import re\n",
        "import random"
      ],
      "metadata": {
        "id": "znP_c4XnfhC3"
      },
      "execution_count": null,
      "outputs": []
    },
    {
      "cell_type": "code",
      "source": [
        "false_samples = []\n",
        "for sample in df['no_answer_question'].to_list():\n",
        "  if '=> False' in sample:\n",
        "    false_samples.append(sample)\n",
        "\n",
        "print('False가 발생한 샘플의 수:', len(false_samples))"
      ],
      "metadata": {
        "colab": {
          "base_uri": "https://localhost:8080/"
        },
        "id": "fp-R44q-eUDA",
        "outputId": "bac78258-d737-41a2-d85c-6c43a13a3eeb"
      },
      "execution_count": null,
      "outputs": [
        {
          "output_type": "stream",
          "name": "stdout",
          "text": [
            "False가 발생한 샘플의 수: 59\n"
          ]
        }
      ]
    },
    {
      "cell_type": "code",
      "source": [
        "print(df['no_answer_question'].to_list()[15])"
      ],
      "metadata": {
        "colab": {
          "base_uri": "https://localhost:8080/"
        },
        "id": "iYe9TCqJeebn",
        "outputId": "cb06c2d3-24a3-48e5-cbeb-77f07a580915"
      },
      "execution_count": null,
      "outputs": [
        {
          "output_type": "stream",
          "name": "stdout",
          "text": [
            "답변:\n",
            "연관 문서: 문서1  \n",
            "질문: 서울 강남에서 가장 비싼 건물의 명칭이 뭐야?  \n",
            "판단: 해당 질문은 5개의 문서를 모두 사용해도 답변이 불가능합니다. => True  \n",
            "\n",
            "연관 문서: 문서2  \n",
            "질문: 이번 년도에 개통된 철도 노선의 종류는 뭐냐?  \n",
            "판단: 해당 질문은 5개의 문서를 모두 사용해도 답변이 불가능합니다. => True  \n",
            "\n",
            "연관 문서: 문서3  \n",
            "질문: 마드리드 지하철 9호선 관련 특정 역의 창설 날짜는 언제야?  \n",
            "판단: 해당 질문은 5개의 문서를 모두 사용해도 답변이 불가능합니다. => True  \n",
            "\n",
            "연관 문서: 문서4  \n",
            "질문: 서울 지하철 9호선에서 높은 환승율을 보이는 노선은 뭐야?  \n",
            "판단: 해당 질문은 5개의 문서를 모두 사용해도 답변이 불가능합니다. => True  \n",
            "\n",
            "연관 문서: 문서5  \n",
            "질문: 9호선 1단계 구간의 시공 자동차 제조 회사는 어디야?  \n",
            "판단: 해당 질문은 5개의 문서를 모두 사용해도 답변이 불가능합니다. => True  \n"
          ]
        }
      ]
    },
    {
      "cell_type": "code",
      "source": [
        "import re\n",
        "\n",
        "def remove_false_decisions(text):\n",
        "    # 각 질문-판단 세트를 찾는 정규표현식\n",
        "    pattern = r'(연관 문서: 문서\\d+\\n질문: .+?\\n판단: .+? => (?:True|False))'\n",
        "\n",
        "    # 모든 세트를 찾아서 리스트로 저장\n",
        "    sets = re.findall(pattern, text, re.DOTALL)\n",
        "\n",
        "    # True인 세트만 필터링\n",
        "    filtered_sets = [s for s in sets if \"=> True\" in s]\n",
        "\n",
        "    # 필터링된 세트를 다시 하나의 문자열로 결합\n",
        "    result = \"\\n\\n\".join(filtered_sets)\n",
        "\n",
        "    return result"
      ],
      "metadata": {
        "id": "RHmuFdJZd3z9"
      },
      "execution_count": null,
      "outputs": []
    },
    {
      "cell_type": "code",
      "source": [
        "test_result = remove_false_decisions(df['no_answer_question'].to_list()[15])\n",
        "print(test_result)"
      ],
      "metadata": {
        "colab": {
          "base_uri": "https://localhost:8080/"
        },
        "id": "f0XlovuYeTeR",
        "outputId": "664ad0f4-8555-48f1-e96b-613d24ec2dbc"
      },
      "execution_count": null,
      "outputs": [
        {
          "output_type": "stream",
          "name": "stdout",
          "text": [
            "\n"
          ]
        }
      ]
    },
    {
      "cell_type": "code",
      "source": [
        "def extract_questions(text):\n",
        "    # 질문을 찾는 정규표현식 패턴\n",
        "    pattern = r'질문: (.*?)(?=\\n판단:)'\n",
        "\n",
        "    # 모든 질문을 찾아서 리스트로 저장\n",
        "    questions = re.findall(pattern, text, re.DOTALL)\n",
        "\n",
        "    # 질문에서 앞뒤 공백 제거\n",
        "    questions = [q.strip() for q in questions]\n",
        "\n",
        "    return questions"
      ],
      "metadata": {
        "id": "wbpfMV6yfNyx"
      },
      "execution_count": null,
      "outputs": []
    },
    {
      "cell_type": "code",
      "source": [
        "# 결과 출력\n",
        "questions_list = extract_questions(test_result)\n",
        "print(questions_list)"
      ],
      "metadata": {
        "colab": {
          "base_uri": "https://localhost:8080/"
        },
        "id": "K6l9y6OqfZu8",
        "outputId": "c965f2b9-5e97-47c8-b4f7-a4b5e9e6f1a7"
      },
      "execution_count": null,
      "outputs": [
        {
          "output_type": "stream",
          "name": "stdout",
          "text": [
            "[]\n"
          ]
        }
      ]
    },
    {
      "cell_type": "code",
      "source": [
        "def select_random_question(questions_list):\n",
        "    if not questions_list:\n",
        "        return None  # 리스트가 비어있을 경우 None 반환\n",
        "    return random.choice(questions_list)"
      ],
      "metadata": {
        "id": "Vpd7XNkAfe5i"
      },
      "execution_count": null,
      "outputs": []
    },
    {
      "cell_type": "code",
      "source": [
        "one_questions = []\n",
        "for five_questions in df['no_answer_question'].to_list():\n",
        "  true_questions = remove_false_decisions(five_questions)\n",
        "  questions_list = extract_questions(true_questions)\n",
        "  random_question = select_random_question(questions_list)\n",
        "  one_questions.append(random_question)"
      ],
      "metadata": {
        "id": "1XN_xrKHeH32"
      },
      "execution_count": null,
      "outputs": []
    },
    {
      "cell_type": "code",
      "source": [
        "one_questions[:5]"
      ],
      "metadata": {
        "colab": {
          "base_uri": "https://localhost:8080/"
        },
        "id": "2QrVdtVPfnTF",
        "outputId": "58e877f6-db9c-4436-a580-781ff79f96f9"
      },
      "execution_count": null,
      "outputs": [
        {
          "output_type": "execute_result",
          "data": {
            "text/plain": [
              "[None, None, None, None, None]"
            ]
          },
          "metadata": {},
          "execution_count": 31
        }
      ]
    },
    {
      "cell_type": "code",
      "source": [
        "# 5개의 문서를 모두 사용해도 답을 찾을 수 없는 질문\n",
        "df['no_answer_question'] = one_questions"
      ],
      "metadata": {
        "id": "wX0tqnFkfnk9"
      },
      "execution_count": null,
      "outputs": []
    },
    {
      "cell_type": "code",
      "source": [
        "# 형식 등의 사유로 질문이 추출되지 않았을 경우\n",
        "df = df.dropna(subset='no_answer_question').reset_index(drop=True)"
      ],
      "metadata": {
        "id": "Ktw6Ar24g9Mm"
      },
      "execution_count": null,
      "outputs": []
    },
    {
      "cell_type": "code",
      "source": [
        "one_questions = df['no_answer_question'].to_list()"
      ],
      "metadata": {
        "id": "Ic2NPLBFhUhr"
      },
      "execution_count": null,
      "outputs": []
    },
    {
      "cell_type": "markdown",
      "source": [
        "## 답변 생성"
      ],
      "metadata": {
        "id": "SdWkTb0-fwak"
      }
    },
    {
      "cell_type": "code",
      "source": [
        "system_prompt = \"\"\"당신은 검색된 문서부터 질문의 답변을 작성하는 언어 모델입니다.\n",
        "\n",
        "### 지시사항\n",
        "1. 질문으로부터 주어진 다수의 문서에서 답을 찾아 작성하세요.\n",
        "2. 검색된 문서에 질문의 답이 없는 경우에는 질문에 대한 내용을 언급하면서 답을 찾을 수 없다고 작성하세요.\n",
        "3. 답변에서 참고자료의 내용을 인용한 경우, 답변 맨 끝에 인용한 문서 id를 추가하세요. 답변에 내용을 인용한 경우에만 작성해야 합니다. 인용한 게 없다면 쓰지마세요.\n",
        "4. 문서 id 값은 검색 결과에서 가져온 것이며 두 개의 대괄호로 묶어야 하며 ref라는 키워드와 함께 작성해야 합니다. 예를 들어 특정 문단이 3번, 5번 문서에서 인용했다면 다음과 같이 작성하십시오.\n",
        "예시) ~~~해서 했습니다. [[ref3]], [[ref5]]\n",
        "5. 주요 문장 또는 문단 뒤에 ref문서번호를 덧붙이는 것은 매우 중요합니다. 이는 반드시 지켜져야 합니다.\n",
        "6. 문단 중간 중간에 인용이 들어가더라도 답변은 하나의 이어지는 평문으로 작성하십시오.\n",
        "7. 주어진 문서는 검색 결과입니다. 따라서 질문과 연관없는 문서가 숨어있을 수 있으니 이를 인용하지 않도록 주의하십시오.\n",
        "8. 검색 결과에 없는 내용은 답변으로 작성하지 마십시오. 가장 중요한 지시사항입니다. 따라서 인용 없이는 그 어떠한 설명도 제공할 수 없습니다.\n",
        "9. 답변은 최대한 풍부하게 작성해주시기 바랍니다.\n",
        "10. 단, 질문에 대한 답이 검색 결과에 없다면 다음과 같이 답변을 작성하십시오. 반드시 아래의 형식을 따라야 합니다.\n",
        "=> 답변 형식: 검색 결과에는 ~~의 반응을 찾을 수 없습니다.\n",
        "\n",
        "예시를 드리겠습니다.\n",
        "\n",
        "예시)\n",
        "질문: 원종 설립 당시 일본 정부의 반응은 어떠했나요?\n",
        "답변: 검색 결과에는 원종 설립 당시 일본 정부의 반응을 찾을 수 없습니다.\n",
        "\n",
        "질문: 중국의 던전앤파이터 인기 게임 순위는 어떻게 되나요?\n",
        "답변: 검색 결과에는 중국의 던전앤파이터 인기 게임 순위를 찾을 수 없습니다.\n",
        "\n",
        "검색 결과에 질문에 대한 답변이 없다면 위 형식을 반드시 따르십시오.\n",
        "\"\"\""
      ],
      "metadata": {
        "id": "gGa_5kZbft7_"
      },
      "execution_count": null,
      "outputs": []
    },
    {
      "cell_type": "code",
      "source": [
        "samples = []\n",
        "for context, negative_samples in zip(df['context'].to_list(), df['negative_samples'].to_list()):\n",
        "  samples.append([context] + list(negative_samples))"
      ],
      "metadata": {
        "id": "kvyOOyzmgo0q"
      },
      "execution_count": null,
      "outputs": []
    },
    {
      "cell_type": "code",
      "source": [
        "# 프롬프트에 검색 문서 넣는 연습\n",
        "for idx, s in enumerate(samples[5]):\n",
        "  print('문서' + str(idx + 1) + ':' + s)\n",
        "  print('---')"
      ],
      "metadata": {
        "colab": {
          "base_uri": "https://localhost:8080/"
        },
        "id": "re93Ij5ugtG_",
        "outputId": "3e07bd84-bc4b-4022-bf29-dbd412c6dd12"
      },
      "execution_count": null,
      "outputs": [
        {
          "output_type": "stream",
          "name": "stdout",
          "text": [
            "문서1:정유사업 의존도가 높은 GS그룹이 STX에너지를 인수한다. 앞으로 발전사업 강화를 통해 에너지 전문기업으로 도약하는 계기를 마련한 것이라는 평가가 나온다. GS그룹의 자원개발, 신재생에너지, 해외 발전사업 등에도 속도가 붙을 전망이다.GS그룹은 일본 오릭스가 (주)GS-LG상사 컨소시엄을 STX에너지 경영권 매각을 위한 배타적 협상자로 확정했다고 11일 발표했다. 컨소시엄은 STX에너지의 최대주주인 오릭스 보유지분 96.35% 중 72%를 인수할 예정이다. 인수가 끝나면 GS그룹 지주사인 (주)GS가 STX에너지 최대주주로 올라선다. GS그룹은 정유와 석유화학 위주의 사업구조를 바꾸기 위해 지난해와 올해 적극적인 인수합병(M&A) 에 나섰으나 뜻을 이루지 못하다, LG상사와 손잡을 만큼 큰 의욕을 보인 STX에너지 인수전을 통해 마침내 반전을 이뤄냈다. 앞서 GS리테일은 지난해 웅진코웨이 입찰에 뛰어들었다가 막판에 탈락했고, 올해는 GS에너지가 웅진케미칼 인수에 실패했다.GS그룹은 지난해 총 매출(73조원) 가운데 약 66%인 47조8700억원을 주력 계열사인 GS칼텍스가 책임졌을 정도로 정유와 석유화학 비중이 크다. GS는 이에 따라 신성장 동력을 찾는 데 많은 힘을 쏟아왔다.그룹 관계자는 “지난 9월 웅진케미칼 인수에 실패한 후 그룹 차원에서 STX에너지 인수를 위해 상당한 공을 들였다”며 “그룹의 에너지 관련 계열사들과 상당한 시너지 효과가 기대된다”고 말했다.\n",
            "---\n",
            "문서2:신세계가 서울 강남 쇼핑타운 조성에 본격 나섰다. 지난해 강남점이 세들어 있는 센트럴시티를 인수한 데 이어 서울고속버스터미널까지 손에 넣으며 이 일대를 ‘반포 신세계타운’으로 만든다는 계획이다. ▶본지 4월1일자 A1, 6면 참조신세계가 최대주주로 있는 센트럴시티는 ‘코에프씨 IBKS-케이스톤 기업재무안정 PEF(사모펀드)’로부터 서울고속버스터미널 지분 38.7%를 2200억원에 인수했다고 1일 밝혔다. 이번 지분 인수로 센트럴시티는 서울고속버스터미널의 최대주주가 됐다. 신세계는 중장기적으로 한진(16.7%), 천일고속(16.7%), 한일고속(11.11%), 동부(11.11%), 중앙고속(5.54%) 등 다른 주주들의 지분을 추가 매입해 지분율을 50% 이상으로 끌어올릴 계획이다.신세계 관계자는 “서울 강남 요지에 있는 서울고속버스터미널을 인수함으로써 본격적인 재개발 계기를 마련한 데 의의가 있다”며 “경부선이 있는 서울고속버스터미널은 호남선이 있는 센트럴시티와 연결돼 있기 때문에 장기적으로 터미널 부지 개발로 상호 시너지를 낼 수 있어 이번 투자를 결정했다”고 설명했다.신세계는 지난해 10월 백화점 강남점, 메리어트호텔, 호남선 터미널 등을 소유한 센트럴시티 지분(60.02%)을 통일교 계열 투자목적회사로부터 1조250억원에 사들였다.유통 라이벌인 롯데도 서울고속버스터미널 인수에 관심이 있었던 것으로 알려졌다. 롯데 관계자는 “지분이 분산돼 있는 데다 재개발에도 많은 시간이 걸릴 것으로 판단해 적극적으로 나서지 않았다”고 설명했다. 롯데는 신세계 인천점이 세들어 있는 인천종합터미널 인수를 앞두고 있다.\n",
            "---\n",
            "문서3:전 세계가 금융위기로 흔들리던 2008년 11월 세계 맥주시장 3위 인베브는 2위 앤하이저부시를 인수했다. 세계 최대 맥주회사 AB인베브가 탄생한 순간이었다. 이 인수를 주도한 브라질 사모펀드(PEF) 3G캐피털파트너스는 이어 미국 햄버거 체인 버거킹과 식품회사 하인즈를 연달아 사들이며 세계 인수합병(M&A)시장의 큰손으로 자리매김했다.드림 빅은 3G캐피털을 창립한 트리오 조르지 파울루 레만, 마르셀 헤르만 탈레스, 카를로스 알베르투 시쿠피라가 40여년간 거대 기업을 일궈가는 여정을 담았다. 1971년 금융시장 변방인 브라질에서 소규모 증권 중개회사를 세운 이들은 1982년 소매 체인 로자스 아메리카나스를 매입하면서 실물경제에 진출했다. 이후 지속적인 인수를 통해 암베비라는 브라질 최대 양조회사를 설립했다. 국제무대로 눈을 돌려 2004년 벨기에 맥주회사 인터브루를 매입해 인베브로 이름을 바꾸고 앤하이저부시까지 삼켜버렸다.능력주의, 단순성, 비용 절감을 토대로 삼는 그들의 경영 방식은 때로 무자비하다는 비판을 받을 정도로 강도가 높았다. 이례적인 성과를 거둔 직원에게는 기본급의 4~5배에 달하는 성과급을 회사 주식으로 줬다. 성과를 내지 못한 직원은 바로 퇴출시켰다. 그들은 인수한 회사에 고강도 비용절감 조치를 단행했다. 경영자의 개인비서를 없애고, 고가의 수입차 사용을 금지했다. 그들 스스로도 검소한 생활을 유지했다.이들은 서로 단결된 힘으로 “영속적인 위대한 기업을 만들겠다”는 목표를 향해 나아갔다. 1차 투자대상은 사람이었다. 인재를 중심으로 토대를 쌓아 그들이 원대한 꿈을 성취하고 환희하는 모습을 지켜보는 걸 가장 큰 기쁨으로 여겼다.\n",
            "---\n",
            "문서4:국민연금의 의결권 행사 강화 방안에 상장사들이 긴장하고 있다. 국민연금은 유가증권시장 시가총액 상위 20개 상장사 중 삼성전자 현대자동차 네이버 등 13곳의 최대 주주나 2대 주주를 꿰차고 있을 정도로 위상이 커졌다. ‘10%룰’(국민연금의 특정 종목 지분율이 10%가 넘을 경우 단 1주를 매매하더라도 5일 내 보고) 완화로 국민연금의 주식 투자 비중 확대 기조는 더 가속화할 것으로 전망된다. 국민연금이 의결권 행사 강화를 이유로 경영 간섭에 나서면 방어할 뾰족한 수가 없다는 반응이 나온다. 21일 금융감독원에 따르면 유가증권시장 시가총액 상위 20개사 중 6월 말 기준 국민연금 지분율이 5% 이상인 상장사는 삼성생명 한국전력 등 두 곳을 제외한 18개다. 국민연금이 최대 주주인 곳은 삼성전자(7.43%) 포스코(6.14%) 신한금융지주(7.28%) 네이버(8.91%) KB금융지주(8.92%) 등 5곳이다. 현대차(6.99%) 현대모비스(7.17%) 기아차(6.01%) SK하이닉스(9.41%) LG화학(7.69%) SK이노베이션(8.59%) LG전자(9%) LG디스플레이(6.1%) 등 8개사는 국민연금이 2대 주주다. 이들 상장사를 포함해 국민연금이 지분 5% 이상을 들고 있는 곳은 유가증권시장 코스닥시장을 합쳐 248곳이다. 국민연금의 상장사 지분율은 더 올라갈 전망이다. 국민연금은 내년 국내 주식 투자 비중을 작년 말 18.7%에서 20%까지 늘리기로 했기 때문이다. 오는 29일부턴 10%룰도 완화된다. 보고 기간이 ‘5일’에서 ‘다음 분기 첫째달 10일’로 바뀌기 때문에 투자전략 노출을 꺼려 지분율을 10% 미만으로 유지할 필요가 없어졌다. 국민연금은 만도의 자사주 소각으로 의도치 않게 지난 6월3일 기준 지분율이 10.01%로 올라가자 같은달 7일과 10일 총 3565주를 팔아 지분율을 9.99%로 낮추기도 했다. 증권정보 제공업체 에프앤가이드에 따르면 지난 20일 기준 국민연금의 지분율이 9% 이상이라서 추가 매수 가능성이 높은 종목은 47개다. 만도(9.99%) 유한양행(9.89%) 제일모직(9.80%) CJ제일제당(9.57%) 하나투어(9.5%) 동아에스티(9.5%)의 국민연금 지분율은 9.5%가 넘는다. 10%룰 완화가 특히 중소형 상장사에 부담이 될 것이란 의견도 있다. 윤정선 현대증권 연구원은 “국민연금이 같은 금액의 주식을 사더라도 대형주보단 중소형주 지분율이 더 많이 올라갈 가능성이 높다”며 “국민연금의 의결권 행사 강화와 관련해 중소형 업체에 부담이 될 것으로 보인다”고 했다.\n",
            "---\n",
            "문서5:올해 GS그룹 임원 인사는 조직 안정에 중점을 뒀다. 사장급 교체 없이 부사장 승진자만 2명 나왔다. 다만 지난 6월 허명수 사장이 대표이사에서 물러나는 등 실적 악화로 시달리고 있는 GS건설은 임원진을 대폭 물갈이하며 대대적인 쇄신에 나섰다. ▶인사명단 A37면GS그룹은 27일 부사장 승진 2명, 전무 승진 10명, 상무 신규선임 등 임원 41명을 승진시키고 3명을 전보 발령했다.지주사인 (주)GS의 정찬수 전무(51)와 GS리테일의 조윤성 전무(55)는 각각 부사장으로 발탁됐다. 호남정유 출신인 정 부사장은 재무, 신사업, 경영기획, 정유영업 등 다양한 부서를 거치며 중장기 전략수립과 현장 영업 등을 두루 경험했다. 올해 초 (주)GS로 이동해 경영지원팀장을 맡고 있다.LG상사에서 출발한 조 부사장은 도쿄지사와 경영기획팀에서 근무한 후 LG유통으로 옮겼다. 물류부문장, 생식품 상품구매총괄 등을 거쳐 2010년부터 GS리테일의 경영지원본부장과 CFO(최고재무책임자) 역할을 맡아왔다. 2011년 GS리테일의 증시 상장을 주도해 회사의 가치를 높이는 데 기여했다는 평가를 받았다.GS에너지 자회사인 해양도시가스와 서라벌도시가스 대표이사도 새로 선임됐다. 고춘석 GS칼텍스 전무(58)와 조항선 GS에너지 전무(54)가 나란히 대표이사로 자리를 옮겼다. 대규모 영업손실로 문책성 인사가 예상됐던 GS건설은 전무 승진 6명, 상무 선임 16명 등 22명의 임원을 한꺼번에 교체했다. 전무는 절반 이상, 상무는 3분의 1가량이 물갈이됐다. 지난해 전무 2명, 상무 4명에 그쳤던 것과 대비된다. 회사 측은 성과중심의 조직문화를 확산하고 설계역량과 해외사업 부문을 강화하는 데 인사의 초점을 맞췄다고 설명했다.GS 관계자는 “올해 글로벌 경제 불황에도 불구하고 일부 계열사를 제외하고는 대부분 실적이 안정적이어서 임원 인사도 제한된 범위에서 이뤄졌다”며 “계열사 간 시너지 확대와 소통 활성화에도 중점을 뒀다”고 설명했다.\n",
            "---\n"
          ]
        }
      ]
    },
    {
      "cell_type": "code",
      "source": [
        "user_prompts = []\n",
        "for sample in samples:\n",
        "  user_prompt = '검색 결과:\\n'\n",
        "  for idx, s in enumerate(sample):\n",
        "    user_prompt = user_prompt  + '문서' + str(idx + 1) + ':' + s + '\\n'\n",
        "    user_prompt = user_prompt + '---\\n'\n",
        "  user_prompts.append(user_prompt)"
      ],
      "metadata": {
        "id": "SjMa21AsgvS5"
      },
      "execution_count": null,
      "outputs": []
    },
    {
      "cell_type": "code",
      "source": [
        "len(user_prompts)"
      ],
      "metadata": {
        "colab": {
          "base_uri": "https://localhost:8080/"
        },
        "id": "enCiI6lWg1V2",
        "outputId": "dfa2a822-b725-4e87-ced9-e1c55e08ab64"
      },
      "execution_count": null,
      "outputs": [
        {
          "output_type": "execute_result",
          "data": {
            "text/plain": [
              "146"
            ]
          },
          "metadata": {},
          "execution_count": 39
        }
      ]
    },
    {
      "cell_type": "code",
      "source": [
        "user_prompt_for_answer = []\n",
        "for multi_document_question, user_prompt in zip(one_questions, user_prompts):\n",
        "  user_prompt_for_answer.append('질문:' + multi_document_question + '\\n' + user_prompt + '답변:')"
      ],
      "metadata": {
        "id": "OCBncCH4gPae"
      },
      "execution_count": null,
      "outputs": []
    },
    {
      "cell_type": "code",
      "source": [
        "print(user_prompt_for_answer[0])"
      ],
      "metadata": {
        "colab": {
          "base_uri": "https://localhost:8080/"
        },
        "id": "8QURZ-PihYbO",
        "outputId": "112e30ea-01d3-4dbd-fbbc-b50d71ed4c85"
      },
      "execution_count": null,
      "outputs": [
        {
          "output_type": "stream",
          "name": "stdout",
          "text": [
            "질문:한화호텔&리조트에서 제공하는 중식 메뉴는 뭐니?\n",
            "검색 결과:\n",
            "문서1:현대·기아자동차가 해외 시장에서의 판매 호조에 힘입어 올 상반기 세계 시장에서 404만대를 판매했다. 올해 초 설정한 연간 목표 786만대를 넘어 처음으로 800만대 돌파도 기대된다.현대차와 기아차, 한국GM, 쌍용차, 르노삼성 등 국내 5개 완성차 업체들은 올 상반기 글로벌 시장에서 모두 450만7665대를 판매한 것으로 1일 집계됐다. 작년 같은 기간보다 3.2% 늘어난 수치다. 국내 판매는 70만7368대(5.1% 증가), 해외 판매는 380만304대(2.9% 증가)로 나타났다.현대차는 국내 34만여대, 해외 214만여대 등 모두 249만여대를 판매해 전년 동기 대비 4.4% 늘었다. 국내에서는 신형 쏘나타와 신형 제네시스, 스포츠유틸리티차량(SUV)들이 선전하며 6.4% 성장을 이끌어냈다.국내 시장에서는 지난 3월 말 출시한 신형 LF(2만9153대)를 포함해 쏘나타 모델이 5만4785대 팔려 전년 동기 대비 18.1% 늘었다. 작년 12월 나온 신형 제네시스는 2만380대로 지난해 상반기 6509대보다 세 배 늘었다.기아차는 주력 모델 노후화 탓에 국내 판매가 21만8764대로 3.4% 감소했다. 2010년 4월 나온 K5는 2만5603대(8.9% 감소)가 팔려 동급인 쏘나타의 절반에도 못 미쳤다. 기아차는 그러나 해외 시장에서는 국내 5개 업체 가운데 가장 높은 9% 성장률을 기록했다. 회사 관계자는 “쏘울과 K3 등이 미국과 유럽에서 선전하고 있다”고 설명했다.현대차와 기아차는 상반기 합계 404만3405대를 판매해 반기 기준 처음으로 400만대를 돌파했다. 연초 설정한 연간 판매 목표 786만대의 51.2%를 달성해 그룹 최초 800만대 달성도 가시권에 들어왔다. 다만 하반기에는 통상임금 확대 등을 주장하는 노조가 파업 가능성을 내비치고 있어 생산 차질이 빚어질 수 있다는 게 걸림돌이다.국내 자동차업계 3위 한국GM은 국내 시장에서 7만1958대를 팔아 2003년 7만4733대 이후 11년 만에 상반기 최고 기록을 세웠다. 그러나 수출은 24.1% 급감해 전체 판매량은 18.5% 줄었다. 미국 제너럴모터스(GM) 본사가 한국GM이 생산, 수출해온 쉐보레 브랜드 차종의 유럽 판매를 작년 말부터 중단했기 때문이다.쌍용차는 글로벌 SUV 수요 증가에 힘입어 상반기에 6.9% 늘어난 7만4235대를 팔았다. 코란도C와 코란도스포츠, 렉스턴W 등 SUV들이 고른 성장세를 보였다. 르노삼성도 QM3와 QM5 등 SUV 판매가 늘어난 덕에 6.9% 증가한 6만2742대 판매 실적을 올렸다.\n",
            "---\n",
            "문서2:현대자동차가 신형 제네시스에 들어가는 주요 전장부품의 공급선을 독일 콘티넨탈에서 한라그룹 계열의 만도로 바꿨다. 제네시스를 시작으로 중대형 고급차에 들어가는 전자제어장치의 국산화율을 높이려는 시도다. 9일 현대차에 따르면 지난달 출시한 신형 제네시스에 만도가 국내 최초로 개발한 차세대 스마트 크루즈 컨트롤(SCC)과 전자식 차체자세제어장치(ESC)가 장착됐다. 그동안 콘티넨탈이 만든 부품을 독일에서 수입했지만 신형 모델부터 만도와 공동개발해 한 단계 업그레이드한 시스템을 도입한 것이다. 만도는 세계에서 세 번째로 SCC를, 네 번째로 ESC를 양산하는 데 성공해 운전자보조시스템(DAS) 분야에서 기술력을 인정받았다. 이 두 가지 기능은 신형 제네시스에 탑재된 대표적인 핵심 기술로 꼽힌다. SCC는 운전자가 원하는 속도를 설정하면 그 속도가 계속 유지되는 기존 크루즈 컨트롤보다 진보한 기술이다. 앞차와의 거리 및 속도 등을 감지해 충돌 위험이 있으면 엔진을 제어하고 브레이크를 작동해 자동으로 속도를 낮춰준다. 앞차가 급정차하더라도 차량 간격을 계산해 자동으로 멈춘다. 또 내비게이션과 연동해 속도제한 구간, 과속 카메라 구간, 지리상 위험지역 구간 등에서 스스로 속도를 줄여준다. ESC는 빗길이나 빙판길, 급격한 곡선도로 등에서 차량이 미끄러지는 것을 방지하고 안정성을 유지해 사고를 막아주는 역할을 한다. 작년부터 한국을 비롯해 미국 유럽 일본 등지에서 장착이 의무화될 정도로 중요한 기능을 한다. 이외에 만도가 개발한 3개의 최신 안전편의사양도 신형 제네시스에 적용됐다. 고속에서는 핸들이 무거워지고 저속에서는 가벼워지도록 조절하는 모터구동 전자제어 조향장치(EPS)와 노면 상태에 따라 차체 높낮이를 조절해 공기 저항을 줄여주는 전자제어서스펜션(ECS), 센서가 주차공간을 찾아 자동으로 핸들을 돌려 주차하는 자동주차시스템(S-PAS) 등이다.\n",
            "---\n",
            "문서3:쌍용자동차는 국토교통부로부터 자율주행 자동차 레벨3 임시운행 허가를 추가로 취득하고 12월부터 일반도로에서 시험 주행을 시작한다고 30일 밝혔다. 이번에 임시운행 허가를 받은 자동차는 코란도 기반의 자율주행 자동차(이하 코란도 자율주행차)로 2017년 티볼리 에어 기반의 자율주행자동차(이하 티볼리 자율주행차)에 이어 2번째 차량이다. 국토교통부는 지난 2016년 2월 시험·연구 목적의 자율주행 자동차 임시운행 허가 제도를 도입해 실시하고 있으며, 레벨3는 일상적인 상황에서 고속도로 등 일정구역을 자율주행 할 수 있는 수준을 말한다. 이번 코란도 자율주행차는 차선 유지 및 변경, 차간 거리 및 속도 유지 기능뿐만 아니라 고속도로 고정밀지도(HD map)와 정밀측위 정보를 기반으로 톨게이트와 톨게이트 구간을 고속도로의 최고제한속도를 준수하며 스스로 주행할 수 있다. 톨게이트구간 주행은 목적지에 따라 고속도로 분기점(JC)과 나들목(IC) 진출입 주행을 안전하게 수행할 수 있어야 하는 만큼, 쌍용자동차는 특히 램프구간의 곡선구간 진입 시 사전에 주행속도를 줄이고 안전속도를 유지할 수 있도록 주행 안정성 확보와 함께 기계적 이질감을 줄이는 부분에 심혈을 기울였다고 강조했다. 또한, 코란도 자율주행차는 분기점과 나들목 진입을 위해 차량 주변 교통상황을 분석하고 안전하게 차선을 능동적으로 변경할 뿐만 아니라, 전방의 저속 차량 추월 기능도 갖추고 있다. 특히 차선 변경 시 사각지대에서 장애물 위험이 감지될 경우 운전자 경고 알림 및 차선 변경 정지와 복귀기술을 적용해 안전성을 한층 강화했다. 아울러, 시스템 고장이나 돌발상황 발생시 운전자가 차량을 제어할 수 있도록 시각 및 청각 알림(운전자 제어권 전환요구, Transition Demand)을 발생시키며, 일정시간 동안 운전자 제어권이 전환되지 않는 경우 위험 최소화 운행(Minimal Risk Manoeuvre)을 시스템 스스로 시작한다. 한편, 쌍용자동차는 지난 2014년 자율주행 관련 연구 개발을 시작해 2015년 자율주행 자동차 시연 행사를 진행한 바 있으며, 2017년에는 티볼리 자율주행차로 국토교통부가 주관한 국내 최초 도로 인프라와의 통신을 통한 지능형교통시스템 자율주행 기술 시연을 성공적으로 마무리하는 등 자율주행 자동차 개발에 박차를 가하고 있다.\n",
            "---\n",
            "문서4:송승철 한불모터스 사장(사진)은 25일 “올 상반기 워크아웃(기업개선작업) 졸업을 모색할 것”이라며 “채권단에 이 같은 뜻을 전달했다”고 말했다.프랑스 푸조·시트로앵 브랜드를 공식 수입·판매하는 송 사장은 이날 서울 청담동 강남전시장에서 열린 ‘그랜드 C4 피카소’ 출시 행사에서 기자와 만나 “2010년부터 4년 연속 흑자를 기록하며 300억원에 달하는 영업이익을 거뒀다”며 “원금도 어느 정도 상환한 만큼 워크아웃에서 벗어나 경영에 나설 필요가 있다”고 설명했다.한불모터스는 2008년 글로벌 금융위기에다 판매 부진이 겹치면서 119억원의 적자를 냈고 2009년 4월 워크아웃에 들어갔다. 당시 신한은행을 중심으로 한 채권단 부채만 500억원에 달했고, 서울 성수동에 대형 사옥을 짓고 있어서 재무부담이 더 컸다. 송 사장은 이와 함께 “올해 푸조와 시트로앵 두 브랜드에서 3~4종의 신차를 출시해 지난해보다 40% 늘어난 4500대를 판매할 계획”이라고 포부를 밝혔다. 그는 최근 푸조 208 에코 모델을 내놓은 데 이어 이날 출시한 7인승 미니밴 ‘그랜드 C4 피카소’(4290만~4690만원)는 고연비 미니밴으로 기대가 크다고 전했다. 송 사장은 “지난 한 달간 실시한 사전계약 물량이 100대가 넘는다”며 “소비자 반응이 좋아 매월 100대 판매도 가능할 것”이라고 말했다. 이 차의 복합연비는 14.0㎞/L(도심 13.0㎞/L, 고속도로 15.6㎞/L)다. 회사 측은 다음달 초부터 고객에게 차량을 인도할 계획이다.\n",
            "---\n",
            "문서5:상반기 공채는 끝나지 않았다. 삼성 현대자동차 SK LG 등 주요 기업의 상반기 공채 입사지원서 접수가 지난주 끝났지만 한화 CJ 금호아시아나 LF 등은 아직도 기회를 노려볼 수 있다. 한화그룹은 한화케미칼 한화호텔&리조트 등 5개 계열사에서 신입사원을 모집 중이다. CJ그룹은 CJ제일제당을 비롯한 11개 계열사에서 신입사원을 채용하고 있으며 인턴과 장교 출신도 함께 뽑는다. 금호아시아나그룹은 금호고속 등 8개 계열사에서 신입사원을 선발하고 금호타이어와 아시아나항공은 인턴사원도 모집한다. LF(옛 LG패션)도 LF네트웍스와 함께 신입사원을 뽑고 있다.한화호텔&리조트 “中 근무자 우대” (주)한화 화약 부문은 재무파트 신입사원을 뽑는다. 공인회계사와 세무자 자격증 보유자는 우대한다. 지원서 마감은 27일이며 근무지는 충북 보은이다. 한화호텔&리조트는 공사관리 외식영업 외식수주 등 분야에서 신입사원을 뽑는다. 중국어와 중국 근무 가능자는 우대한다. 1차 면접 합격자를 대상으로 6주 동안 현장실습 평가를 한다. 지원서 마감은 다음달 3일이다. 한화케미칼은 엔지니어와 재경분야 신입사원을 모집한다. 또 연구개발(R&D) 석·박사도 함께 뽑는다. 원서 마감은 다음달 7일이다.CJ는 계열사 직무별 우대 사항이 다르다. CJ제일제당의 사업관리 직무는 베트남어 미얀마어 인도네시아어 능통자를 우대하고 해외영업 직무는 중국어 베트남어 가능자를 우대한다. CJ프레시웨이의 법무직무는 사법고시 경험자를 우대하고 홍보파트는 학보사 인턴기자 홍보대행사 경험자에게 가산점을 준다. CJ푸드빌 CJ CGV CJ올리브영 아르바이트 경험자는 같은 회사 지원 시 서류전형에 혜택이 있다. 지난해 12월 CJ올리브영과 CJ시스템즈가 합병한 회사인 CJ올리브네트웍스도 상반기에 직원을 채용한다. 금호아시아나 “토익 점수 있어야 지원”금호아시아나그룹에 지원하려면 토익 점수가 있어야 한다. 토익 점수가 없으면 자동 탈락한다. 지원서는 다음달 2일까지 접수하며 직무적성검사와 한자시험은 4월18일에 치른다. 한자시험과 관련, 그룹 인사팀 관계자는 “신문에 나오는 한자를 무리 없이 읽을 정도의 수준”이라며 “한자가 당락을 좌우하지는 않는다”고 설명했다. 금호타이어와 아시아나항공은 인턴도 뽑는다. 인턴 기간은 7월6일부터 8월14일까지 6주다. LF는 일정 수준(학점 4.5 만점에 3.0 이상, 토익스피킹 120점·오픽 IM2)이 돼야 지원할 수 있다. 면접에서는 패션에 대한 관심과 글로벌 역량을 집중 테스트한다. LF 인사팀 관계자는 “서류 합격자 전원을 대상으로 어학 테스트를 한다”며 “중국어 이탈리아어 프랑스어 능통자는 자기소개서에 기재하면 유리하다”고 말했다. LF의 복합 아울렛 쇼핑몰을 운영하는 LF네트웍스는 공채 1기를 뽑는다. 패션에 관심이 있다면 LF에, 유통업에서 일하고 싶으면 LF네트웍스에 지원하면 된다.\n",
            "---\n",
            "답변:\n"
          ]
        }
      ]
    },
    {
      "cell_type": "code",
      "source": [
        "# 5개로 테스트\n",
        "result_lst = []\n",
        "for user_prompt in tqdm(user_prompt_for_answer[:5]):\n",
        "  response = client.chat.completions.create(\n",
        "    model=\"gpt-4o-mini\",\n",
        "    messages=[\n",
        "          {\"role\": \"system\", \"content\": system_prompt},\n",
        "          {\"role\": \"user\", \"content\": user_prompt + '답변:'}\n",
        "      ],\n",
        "    temperature=0\n",
        "  )\n",
        "  result_lst.append(response.choices[0].message.content)"
      ],
      "metadata": {
        "colab": {
          "base_uri": "https://localhost:8080/"
        },
        "id": "i0JH2htlhhNe",
        "outputId": "78000352-826a-472d-f0fe-3aa87d8e63ea"
      },
      "execution_count": null,
      "outputs": [
        {
          "output_type": "stream",
          "name": "stderr",
          "text": [
            "100%|██████████| 5/5 [00:05<00:00,  1.17s/it]\n"
          ]
        }
      ]
    },
    {
      "cell_type": "code",
      "source": [
        "result_lst"
      ],
      "metadata": {
        "colab": {
          "base_uri": "https://localhost:8080/"
        },
        "id": "s_ArcZu8hnEy",
        "outputId": "d18de67c-eaa6-4612-ade6-5ede5e0ea921"
      },
      "execution_count": null,
      "outputs": [
        {
          "output_type": "execute_result",
          "data": {
            "text/plain": [
              "['검색 결과에는 한화호텔&리조트에서 제공하는 중식 메뉴를 찾을 수 없습니다.',\n",
              " '검색 결과에는 이준용이 일본에서 어떤 특별한 교육을 받았는지에 대한 내용을 찾을 수 없습니다.',\n",
              " '검색 결과에는 에이어즈의 첫 번째 앨범 제목을 찾을 수 없습니다.',\n",
              " '검색 결과에는 몰디브 관광청의 세부적 비즈니스 계획을 찾을 수 없습니다.',\n",
              " '검색 결과에는 강은희 후부 장관 후보의 대구 외 인생 이야기를 찾을 수 없습니다.']"
            ]
          },
          "metadata": {},
          "execution_count": 43
        }
      ]
    },
    {
      "cell_type": "code",
      "source": [
        "# 전체 데이터에 대해서 답변을 생성\n",
        "result_lst = []\n",
        "for user_prompt in tqdm(user_prompt_for_answer):\n",
        "  response = client.chat.completions.create(\n",
        "    model=\"gpt-4o-mini\",\n",
        "    messages=[\n",
        "          {\"role\": \"system\", \"content\": system_prompt},\n",
        "          {\"role\": \"user\", \"content\": user_prompt + '답변:'}\n",
        "      ]\n",
        "  )\n",
        "  result_lst.append(response.choices[0].message.content)"
      ],
      "metadata": {
        "colab": {
          "base_uri": "https://localhost:8080/"
        },
        "id": "sk5nsTtahqTH",
        "outputId": "bdcf620a-d671-40bc-a761-3c9477965ab8"
      },
      "execution_count": null,
      "outputs": [
        {
          "output_type": "stream",
          "name": "stderr",
          "text": [
            "100%|██████████| 146/146 [03:24<00:00,  1.40s/it]\n"
          ]
        }
      ]
    },
    {
      "cell_type": "code",
      "source": [
        "df['no_answer'] = result_lst"
      ],
      "metadata": {
        "id": "ESlJklUIjND8"
      },
      "execution_count": null,
      "outputs": []
    },
    {
      "cell_type": "code",
      "source": [
        "# 답이 없기를 기대했지만 추출된 경우\n",
        "df[df['no_answer'].str.contains('ref')]"
      ],
      "metadata": {
        "colab": {
          "base_uri": "https://localhost:8080/",
          "height": 537
        },
        "id": "GTY8O-s9kW4e",
        "outputId": "2c8d8c29-2bb4-4771-fdc8-7cc37a88000a"
      },
      "execution_count": null,
      "outputs": [
        {
          "output_type": "execute_result",
          "data": {
            "text/plain": [
              "                                            title news_category     source  \\\n",
              "10                    정부, 기업이 원하는 인재 공급 못하면 지원 중단            종합   hankyung   \n",
              "36          e스포츠 공정위원회, 정식 발족 및 e스포츠 종목 3사와 협약 체결            게임    acrofan   \n",
              "42                                  과도한 압박은 문제있어”          경제금융   hankyung   \n",
              "48                    석유화학·전자·화장품 업종도 ‘인력 빼가기’ 심각            종합   hankyung   \n",
              "66          64억4000만원 ...이태원 2층 벽돌집, 2년째 단독주택값 1위           부동산   hankyung   \n",
              "71             동방성련선 ~ Undefined Fantastic Object          None  wikipedia   \n",
              "93   캡틴은 메시, 경기 상대는 외계인 ...삼성 축구팀 ‘갤럭시 11’의 정체는 …          산업섹션   hankyung   \n",
              "105                   남산 자락에서...신나게 즐기는...우리음악 축제         문화/TV   hankyung   \n",
              "129                      일찍 찾아온 여름 … 에어컨·제습기 ‘씽씽’          생활경제   hankyung   \n",
              "133                                     에드워드 코드링턴          None  wikipedia   \n",
              "\n",
              "                                               context  \\\n",
              "10   산업계가 요구하는 인재를 공급하는 민간 산·학·연 협의체 가운데 우수한 곳은 업종 ...   \n",
              "36   e스포츠 공정위원회가 지난 6월 30일(화) e스포츠 명예의 전당(서울 마포)에서 ...   \n",
              "42   박병원 은행연합회장(사진)이 최근 중징계를 받은 김종준 하나은행장의 거취 문제를 놓...   \n",
              "48   중국 업체들의 한국 인력 빼가기는 다른 업종에서도 나타나고 있다. 중국 업체들은 헤...   \n",
              "66   올해 전국 표준단독주택 중 공시가격이 가장 높은 집은 서울 이태원동 이태원로 27길...   \n",
              "71   지하에 봉인되었던 누에. 인간들에게 모습을 드러내지 않고, 인간이 자신을 무서워하는...   \n",
              "93   외계인과 지구대표팀의 축구시합을 예고한 삼성전자의 갤럭시 유튜브 동영상이 화제다. ...   \n",
              "105  지난해 평균 객석점유율 121%를 기록한 국립극장의 ‘여기, 우리 음악이 있다(이하...   \n",
              "129  이른 더위 영향으로 에어컨 판매가 큰 폭으로 늘었다.롯데백화점은 올 들어 지난달까지...   \n",
              "133  1826년 12월 코드링턴은 지중해 함대의 총사령관으로 임명되었고, 1827년 2월...   \n",
              "\n",
              "                                    question  question_type  is_impossible  \\\n",
              "10                NCS에 맞게 개편될 인적자원개발협의체의 수는?              2          False   \n",
              "36           1월 이후에 새로 e스포츠 공정위원이 된 인물의 이름은?              2          False   \n",
              "42     김종준의 금융권 재취업이 제한된 계기가 된 사건 당시 그의 직위는?              2          False   \n",
              "48           중국으로 이직한 엔지니어가 이직 전 한국에서 받던 돈은?              1          False   \n",
              "66                     전국에서 가장 비싼 단독주택의 가격은?              2          False   \n",
              "71     『성련선』 내용에 따르면, 대전시에서 UFO로 인식되어지는 물체는?              1          False   \n",
              "93          갤럭시 11' 캠페인의 첫 영상이 업로드된 날은 며칠인가?              2          False   \n",
              "105                     여우락 축제의 객석이 채워진 비율은?              1          False   \n",
              "129  현대백화점에서 에어컨을 사고 5% 상품권을 받을 수 있는 마지막 날은?              1          False   \n",
              "133              코드링턴이 메메트 알리와 조우한 것은 몇 년인가?              2          False   \n",
              "\n",
              "    answer_text  answer_start  \\\n",
              "10          24개           719   \n",
              "36          강범현           615   \n",
              "42     하나캐피탈 사장           265   \n",
              "48    연봉 4000만원           480   \n",
              "66        149억원           548   \n",
              "71   \"정체불명의 씨앗\"           601   \n",
              "93           4일            49   \n",
              "105         121            13   \n",
              "129      오는 11일           397   \n",
              "133       1828년           642   \n",
              "\n",
              "                                      negative_samples  \\\n",
              "10   [정부가 올해부터 5·7·9급 국가직 공무원 채용시험에 국가직무능력표준(NCS)을 ...   \n",
              "36   [한국e스포츠협회가 운영하는 e스포츠 명예의 전당(서울 마포)은 오는 24일(토) ...   \n",
              "42   [김용준 국무총리 후보자(75·사진)는 장애를 극복한 입지전적인 인물이다. 세 살 ...   \n",
              "48   [“중국 내 인건비가 매년 18%가량 상승하면서 현지 공장 운영이 한계에 이르렀습니...   \n",
              "66   [국토교통부가 전국 3178만필지를 대상으로 올해 개별공시지가를 조사했다. 토지가 ...   \n",
              "71   [2000년 11월 22일경 김옥경은 조부이자 애국지사인 김용원의 유적비 건립 현황...   \n",
              "93   [대성마이맥에서 지난 3일에 공개한 광고 영상이 일주일 만에 조회 수 495만 뷰를...   \n",
              "105  [중국 국경절 연휴(1~7일)와 ‘코리아 블랙프라이데이’를 맞아 중국인 관광객(요우...   \n",
              "129  [백화점들이 신년 세일 마지막 주말 매출을 끌어올리기 위해 총력전을 펼친다.현대백화...   \n",
              "133  [프랑스와의 적대관계가 재개되자 그는 순양함에서 남아있었고, 1805년 봄 전열함 ...   \n",
              "\n",
              "                             no_answer_question  \\\n",
              "10                      전경련의 회장단 영입 방식은 어떻게 될까?   \n",
              "36   지스타에 참가하기로 결정했을 때, 게임업계의 반발은 어떤 형태로 나타났나요?   \n",
              "42           박병원이 어떤 방식으로 금융당국을 비판했는지 아는 사람 있어?   \n",
              "48     중국 기업이 한국에서 어떤 방식으로 인력을 가져가는지 구체적으로 말해줘.   \n",
              "66                대구 단독주택 가격이 오르는 이유가 뭔지 혹시 알아?   \n",
              "71             엑시톤의 발견은 어떤 과학적 이론을 기반으로 연구되었나요?   \n",
              "93             삼성전자가 어벤져스와 어떤 특별한 계약을 맺었는지 알려줘.   \n",
              "105                   여우락 페스티벌의 기획 의도가 뭐였는지 알아?   \n",
              "129             이번 겨울 패딩 판매 부진의 주된 영향은 뭐라고 생각해?   \n",
              "133              게이츠와 앨런이 처음 만든 소프트웨어의 이름은 뭐였어?   \n",
              "\n",
              "                                             no_answer  \n",
              "10   전경련의 회장단 영입 방식은 회원사 범위를 넓히고 새로운 기업을 영입하는 방식을 채...  \n",
              "36   게임업계는 지스타에 참가하기로 결정했을 때 반발의 형태로 불참 의사를 표명했습니다....  \n",
              "42   박병원 은행연합회장은 최근 기자간담회에서 금융당국의 압박에 대해 비판적인 입장을 표...  \n",
              "48   중국 기업들은 한국에서 인력을 가져가는 다양한 방식으로 활동하고 있습니다. 주로 헤...  \n",
              "66   대구 단독주택 가격이 오르는 이유로는 여러 가지 요소가 지적될 수 있습니다. 최근 ...  \n",
              "71   엑시톤의 발견은 2차원 자성 물질에서 나타나는 독특한 양자 현상에 기초하여 진행된 ...  \n",
              "93   삼성전자는 마블과 협력하여 어벤져스 시리즈에 대한 마케팅 파트너십을 맺었습니다. 이...  \n",
              "105  여우락 페스티벌의 기획 의도는 전통 음악에 뿌리를 두고 동시대와 호흡하며 창작 활동...  \n",
              "129  올해 겨울 패딩 판매 부진의 주된 영향은 예상보다 따뜻한 날씨 때문입니다. 기상청은...  \n",
              "133  게이츠와 앨런이 처음 만든 소프트웨어의 이름은 알테어 BASIC입니다. 그들은 19...  "
            ],
            "text/html": [
              "\n",
              "  <div id=\"df-75f328c0-909f-4e5d-b90f-81a8281ffaa8\" class=\"colab-df-container\">\n",
              "    <div>\n",
              "<style scoped>\n",
              "    .dataframe tbody tr th:only-of-type {\n",
              "        vertical-align: middle;\n",
              "    }\n",
              "\n",
              "    .dataframe tbody tr th {\n",
              "        vertical-align: top;\n",
              "    }\n",
              "\n",
              "    .dataframe thead th {\n",
              "        text-align: right;\n",
              "    }\n",
              "</style>\n",
              "<table border=\"1\" class=\"dataframe\">\n",
              "  <thead>\n",
              "    <tr style=\"text-align: right;\">\n",
              "      <th></th>\n",
              "      <th>title</th>\n",
              "      <th>news_category</th>\n",
              "      <th>source</th>\n",
              "      <th>context</th>\n",
              "      <th>question</th>\n",
              "      <th>question_type</th>\n",
              "      <th>is_impossible</th>\n",
              "      <th>answer_text</th>\n",
              "      <th>answer_start</th>\n",
              "      <th>negative_samples</th>\n",
              "      <th>no_answer_question</th>\n",
              "      <th>no_answer</th>\n",
              "    </tr>\n",
              "  </thead>\n",
              "  <tbody>\n",
              "    <tr>\n",
              "      <th>10</th>\n",
              "      <td>정부, 기업이 원하는 인재 공급 못하면 지원 중단</td>\n",
              "      <td>종합</td>\n",
              "      <td>hankyung</td>\n",
              "      <td>산업계가 요구하는 인재를 공급하는 민간 산·학·연 협의체 가운데 우수한 곳은 업종 ...</td>\n",
              "      <td>NCS에 맞게 개편될 인적자원개발협의체의 수는?</td>\n",
              "      <td>2</td>\n",
              "      <td>False</td>\n",
              "      <td>24개</td>\n",
              "      <td>719</td>\n",
              "      <td>[정부가 올해부터 5·7·9급 국가직 공무원 채용시험에 국가직무능력표준(NCS)을 ...</td>\n",
              "      <td>전경련의 회장단 영입 방식은 어떻게 될까?</td>\n",
              "      <td>전경련의 회장단 영입 방식은 회원사 범위를 넓히고 새로운 기업을 영입하는 방식을 채...</td>\n",
              "    </tr>\n",
              "    <tr>\n",
              "      <th>36</th>\n",
              "      <td>e스포츠 공정위원회, 정식 발족 및 e스포츠 종목 3사와 협약 체결</td>\n",
              "      <td>게임</td>\n",
              "      <td>acrofan</td>\n",
              "      <td>e스포츠 공정위원회가 지난 6월 30일(화) e스포츠 명예의 전당(서울 마포)에서 ...</td>\n",
              "      <td>1월 이후에 새로 e스포츠 공정위원이 된 인물의 이름은?</td>\n",
              "      <td>2</td>\n",
              "      <td>False</td>\n",
              "      <td>강범현</td>\n",
              "      <td>615</td>\n",
              "      <td>[한국e스포츠협회가 운영하는 e스포츠 명예의 전당(서울 마포)은 오는 24일(토) ...</td>\n",
              "      <td>지스타에 참가하기로 결정했을 때, 게임업계의 반발은 어떤 형태로 나타났나요?</td>\n",
              "      <td>게임업계는 지스타에 참가하기로 결정했을 때 반발의 형태로 불참 의사를 표명했습니다....</td>\n",
              "    </tr>\n",
              "    <tr>\n",
              "      <th>42</th>\n",
              "      <td>과도한 압박은 문제있어”</td>\n",
              "      <td>경제금융</td>\n",
              "      <td>hankyung</td>\n",
              "      <td>박병원 은행연합회장(사진)이 최근 중징계를 받은 김종준 하나은행장의 거취 문제를 놓...</td>\n",
              "      <td>김종준의 금융권 재취업이 제한된 계기가 된 사건 당시 그의 직위는?</td>\n",
              "      <td>2</td>\n",
              "      <td>False</td>\n",
              "      <td>하나캐피탈 사장</td>\n",
              "      <td>265</td>\n",
              "      <td>[김용준 국무총리 후보자(75·사진)는 장애를 극복한 입지전적인 인물이다. 세 살 ...</td>\n",
              "      <td>박병원이 어떤 방식으로 금융당국을 비판했는지 아는 사람 있어?</td>\n",
              "      <td>박병원 은행연합회장은 최근 기자간담회에서 금융당국의 압박에 대해 비판적인 입장을 표...</td>\n",
              "    </tr>\n",
              "    <tr>\n",
              "      <th>48</th>\n",
              "      <td>석유화학·전자·화장품 업종도 ‘인력 빼가기’ 심각</td>\n",
              "      <td>종합</td>\n",
              "      <td>hankyung</td>\n",
              "      <td>중국 업체들의 한국 인력 빼가기는 다른 업종에서도 나타나고 있다. 중국 업체들은 헤...</td>\n",
              "      <td>중국으로 이직한 엔지니어가 이직 전 한국에서 받던 돈은?</td>\n",
              "      <td>1</td>\n",
              "      <td>False</td>\n",
              "      <td>연봉 4000만원</td>\n",
              "      <td>480</td>\n",
              "      <td>[“중국 내 인건비가 매년 18%가량 상승하면서 현지 공장 운영이 한계에 이르렀습니...</td>\n",
              "      <td>중국 기업이 한국에서 어떤 방식으로 인력을 가져가는지 구체적으로 말해줘.</td>\n",
              "      <td>중국 기업들은 한국에서 인력을 가져가는 다양한 방식으로 활동하고 있습니다. 주로 헤...</td>\n",
              "    </tr>\n",
              "    <tr>\n",
              "      <th>66</th>\n",
              "      <td>64억4000만원 ...이태원 2층 벽돌집, 2년째 단독주택값 1위</td>\n",
              "      <td>부동산</td>\n",
              "      <td>hankyung</td>\n",
              "      <td>올해 전국 표준단독주택 중 공시가격이 가장 높은 집은 서울 이태원동 이태원로 27길...</td>\n",
              "      <td>전국에서 가장 비싼 단독주택의 가격은?</td>\n",
              "      <td>2</td>\n",
              "      <td>False</td>\n",
              "      <td>149억원</td>\n",
              "      <td>548</td>\n",
              "      <td>[국토교통부가 전국 3178만필지를 대상으로 올해 개별공시지가를 조사했다. 토지가 ...</td>\n",
              "      <td>대구 단독주택 가격이 오르는 이유가 뭔지 혹시 알아?</td>\n",
              "      <td>대구 단독주택 가격이 오르는 이유로는 여러 가지 요소가 지적될 수 있습니다. 최근 ...</td>\n",
              "    </tr>\n",
              "    <tr>\n",
              "      <th>71</th>\n",
              "      <td>동방성련선 ~ Undefined Fantastic Object</td>\n",
              "      <td>None</td>\n",
              "      <td>wikipedia</td>\n",
              "      <td>지하에 봉인되었던 누에. 인간들에게 모습을 드러내지 않고, 인간이 자신을 무서워하는...</td>\n",
              "      <td>『성련선』 내용에 따르면, 대전시에서 UFO로 인식되어지는 물체는?</td>\n",
              "      <td>1</td>\n",
              "      <td>False</td>\n",
              "      <td>\"정체불명의 씨앗\"</td>\n",
              "      <td>601</td>\n",
              "      <td>[2000년 11월 22일경 김옥경은 조부이자 애국지사인 김용원의 유적비 건립 현황...</td>\n",
              "      <td>엑시톤의 발견은 어떤 과학적 이론을 기반으로 연구되었나요?</td>\n",
              "      <td>엑시톤의 발견은 2차원 자성 물질에서 나타나는 독특한 양자 현상에 기초하여 진행된 ...</td>\n",
              "    </tr>\n",
              "    <tr>\n",
              "      <th>93</th>\n",
              "      <td>캡틴은 메시, 경기 상대는 외계인 ...삼성 축구팀 ‘갤럭시 11’의 정체는 …</td>\n",
              "      <td>산업섹션</td>\n",
              "      <td>hankyung</td>\n",
              "      <td>외계인과 지구대표팀의 축구시합을 예고한 삼성전자의 갤럭시 유튜브 동영상이 화제다. ...</td>\n",
              "      <td>갤럭시 11' 캠페인의 첫 영상이 업로드된 날은 며칠인가?</td>\n",
              "      <td>2</td>\n",
              "      <td>False</td>\n",
              "      <td>4일</td>\n",
              "      <td>49</td>\n",
              "      <td>[대성마이맥에서 지난 3일에 공개한 광고 영상이 일주일 만에 조회 수 495만 뷰를...</td>\n",
              "      <td>삼성전자가 어벤져스와 어떤 특별한 계약을 맺었는지 알려줘.</td>\n",
              "      <td>삼성전자는 마블과 협력하여 어벤져스 시리즈에 대한 마케팅 파트너십을 맺었습니다. 이...</td>\n",
              "    </tr>\n",
              "    <tr>\n",
              "      <th>105</th>\n",
              "      <td>남산 자락에서...신나게 즐기는...우리음악 축제</td>\n",
              "      <td>문화/TV</td>\n",
              "      <td>hankyung</td>\n",
              "      <td>지난해 평균 객석점유율 121%를 기록한 국립극장의 ‘여기, 우리 음악이 있다(이하...</td>\n",
              "      <td>여우락 축제의 객석이 채워진 비율은?</td>\n",
              "      <td>1</td>\n",
              "      <td>False</td>\n",
              "      <td>121</td>\n",
              "      <td>13</td>\n",
              "      <td>[중국 국경절 연휴(1~7일)와 ‘코리아 블랙프라이데이’를 맞아 중국인 관광객(요우...</td>\n",
              "      <td>여우락 페스티벌의 기획 의도가 뭐였는지 알아?</td>\n",
              "      <td>여우락 페스티벌의 기획 의도는 전통 음악에 뿌리를 두고 동시대와 호흡하며 창작 활동...</td>\n",
              "    </tr>\n",
              "    <tr>\n",
              "      <th>129</th>\n",
              "      <td>일찍 찾아온 여름 … 에어컨·제습기 ‘씽씽’</td>\n",
              "      <td>생활경제</td>\n",
              "      <td>hankyung</td>\n",
              "      <td>이른 더위 영향으로 에어컨 판매가 큰 폭으로 늘었다.롯데백화점은 올 들어 지난달까지...</td>\n",
              "      <td>현대백화점에서 에어컨을 사고 5% 상품권을 받을 수 있는 마지막 날은?</td>\n",
              "      <td>1</td>\n",
              "      <td>False</td>\n",
              "      <td>오는 11일</td>\n",
              "      <td>397</td>\n",
              "      <td>[백화점들이 신년 세일 마지막 주말 매출을 끌어올리기 위해 총력전을 펼친다.현대백화...</td>\n",
              "      <td>이번 겨울 패딩 판매 부진의 주된 영향은 뭐라고 생각해?</td>\n",
              "      <td>올해 겨울 패딩 판매 부진의 주된 영향은 예상보다 따뜻한 날씨 때문입니다. 기상청은...</td>\n",
              "    </tr>\n",
              "    <tr>\n",
              "      <th>133</th>\n",
              "      <td>에드워드 코드링턴</td>\n",
              "      <td>None</td>\n",
              "      <td>wikipedia</td>\n",
              "      <td>1826년 12월 코드링턴은 지중해 함대의 총사령관으로 임명되었고, 1827년 2월...</td>\n",
              "      <td>코드링턴이 메메트 알리와 조우한 것은 몇 년인가?</td>\n",
              "      <td>2</td>\n",
              "      <td>False</td>\n",
              "      <td>1828년</td>\n",
              "      <td>642</td>\n",
              "      <td>[프랑스와의 적대관계가 재개되자 그는 순양함에서 남아있었고, 1805년 봄 전열함 ...</td>\n",
              "      <td>게이츠와 앨런이 처음 만든 소프트웨어의 이름은 뭐였어?</td>\n",
              "      <td>게이츠와 앨런이 처음 만든 소프트웨어의 이름은 알테어 BASIC입니다. 그들은 19...</td>\n",
              "    </tr>\n",
              "  </tbody>\n",
              "</table>\n",
              "</div>\n",
              "    <div class=\"colab-df-buttons\">\n",
              "\n",
              "  <div class=\"colab-df-container\">\n",
              "    <button class=\"colab-df-convert\" onclick=\"convertToInteractive('df-75f328c0-909f-4e5d-b90f-81a8281ffaa8')\"\n",
              "            title=\"Convert this dataframe to an interactive table.\"\n",
              "            style=\"display:none;\">\n",
              "\n",
              "  <svg xmlns=\"http://www.w3.org/2000/svg\" height=\"24px\" viewBox=\"0 -960 960 960\">\n",
              "    <path d=\"M120-120v-720h720v720H120Zm60-500h600v-160H180v160Zm220 220h160v-160H400v160Zm0 220h160v-160H400v160ZM180-400h160v-160H180v160Zm440 0h160v-160H620v160ZM180-180h160v-160H180v160Zm440 0h160v-160H620v160Z\"/>\n",
              "  </svg>\n",
              "    </button>\n",
              "\n",
              "  <style>\n",
              "    .colab-df-container {\n",
              "      display:flex;\n",
              "      gap: 12px;\n",
              "    }\n",
              "\n",
              "    .colab-df-convert {\n",
              "      background-color: #E8F0FE;\n",
              "      border: none;\n",
              "      border-radius: 50%;\n",
              "      cursor: pointer;\n",
              "      display: none;\n",
              "      fill: #1967D2;\n",
              "      height: 32px;\n",
              "      padding: 0 0 0 0;\n",
              "      width: 32px;\n",
              "    }\n",
              "\n",
              "    .colab-df-convert:hover {\n",
              "      background-color: #E2EBFA;\n",
              "      box-shadow: 0px 1px 2px rgba(60, 64, 67, 0.3), 0px 1px 3px 1px rgba(60, 64, 67, 0.15);\n",
              "      fill: #174EA6;\n",
              "    }\n",
              "\n",
              "    .colab-df-buttons div {\n",
              "      margin-bottom: 4px;\n",
              "    }\n",
              "\n",
              "    [theme=dark] .colab-df-convert {\n",
              "      background-color: #3B4455;\n",
              "      fill: #D2E3FC;\n",
              "    }\n",
              "\n",
              "    [theme=dark] .colab-df-convert:hover {\n",
              "      background-color: #434B5C;\n",
              "      box-shadow: 0px 1px 3px 1px rgba(0, 0, 0, 0.15);\n",
              "      filter: drop-shadow(0px 1px 2px rgba(0, 0, 0, 0.3));\n",
              "      fill: #FFFFFF;\n",
              "    }\n",
              "  </style>\n",
              "\n",
              "    <script>\n",
              "      const buttonEl =\n",
              "        document.querySelector('#df-75f328c0-909f-4e5d-b90f-81a8281ffaa8 button.colab-df-convert');\n",
              "      buttonEl.style.display =\n",
              "        google.colab.kernel.accessAllowed ? 'block' : 'none';\n",
              "\n",
              "      async function convertToInteractive(key) {\n",
              "        const element = document.querySelector('#df-75f328c0-909f-4e5d-b90f-81a8281ffaa8');\n",
              "        const dataTable =\n",
              "          await google.colab.kernel.invokeFunction('convertToInteractive',\n",
              "                                                    [key], {});\n",
              "        if (!dataTable) return;\n",
              "\n",
              "        const docLinkHtml = 'Like what you see? Visit the ' +\n",
              "          '<a target=\"_blank\" href=https://colab.research.google.com/notebooks/data_table.ipynb>data table notebook</a>'\n",
              "          + ' to learn more about interactive tables.';\n",
              "        element.innerHTML = '';\n",
              "        dataTable['output_type'] = 'display_data';\n",
              "        await google.colab.output.renderOutput(dataTable, element);\n",
              "        const docLink = document.createElement('div');\n",
              "        docLink.innerHTML = docLinkHtml;\n",
              "        element.appendChild(docLink);\n",
              "      }\n",
              "    </script>\n",
              "  </div>\n",
              "\n",
              "\n",
              "    <div id=\"df-57c85c72-5f26-439c-a142-d90dab3dc487\">\n",
              "      <button class=\"colab-df-quickchart\" onclick=\"quickchart('df-57c85c72-5f26-439c-a142-d90dab3dc487')\"\n",
              "                title=\"Suggest charts\"\n",
              "                style=\"display:none;\">\n",
              "\n",
              "<svg xmlns=\"http://www.w3.org/2000/svg\" height=\"24px\"viewBox=\"0 0 24 24\"\n",
              "     width=\"24px\">\n",
              "    <g>\n",
              "        <path d=\"M19 3H5c-1.1 0-2 .9-2 2v14c0 1.1.9 2 2 2h14c1.1 0 2-.9 2-2V5c0-1.1-.9-2-2-2zM9 17H7v-7h2v7zm4 0h-2V7h2v10zm4 0h-2v-4h2v4z\"/>\n",
              "    </g>\n",
              "</svg>\n",
              "      </button>\n",
              "\n",
              "<style>\n",
              "  .colab-df-quickchart {\n",
              "      --bg-color: #E8F0FE;\n",
              "      --fill-color: #1967D2;\n",
              "      --hover-bg-color: #E2EBFA;\n",
              "      --hover-fill-color: #174EA6;\n",
              "      --disabled-fill-color: #AAA;\n",
              "      --disabled-bg-color: #DDD;\n",
              "  }\n",
              "\n",
              "  [theme=dark] .colab-df-quickchart {\n",
              "      --bg-color: #3B4455;\n",
              "      --fill-color: #D2E3FC;\n",
              "      --hover-bg-color: #434B5C;\n",
              "      --hover-fill-color: #FFFFFF;\n",
              "      --disabled-bg-color: #3B4455;\n",
              "      --disabled-fill-color: #666;\n",
              "  }\n",
              "\n",
              "  .colab-df-quickchart {\n",
              "    background-color: var(--bg-color);\n",
              "    border: none;\n",
              "    border-radius: 50%;\n",
              "    cursor: pointer;\n",
              "    display: none;\n",
              "    fill: var(--fill-color);\n",
              "    height: 32px;\n",
              "    padding: 0;\n",
              "    width: 32px;\n",
              "  }\n",
              "\n",
              "  .colab-df-quickchart:hover {\n",
              "    background-color: var(--hover-bg-color);\n",
              "    box-shadow: 0 1px 2px rgba(60, 64, 67, 0.3), 0 1px 3px 1px rgba(60, 64, 67, 0.15);\n",
              "    fill: var(--button-hover-fill-color);\n",
              "  }\n",
              "\n",
              "  .colab-df-quickchart-complete:disabled,\n",
              "  .colab-df-quickchart-complete:disabled:hover {\n",
              "    background-color: var(--disabled-bg-color);\n",
              "    fill: var(--disabled-fill-color);\n",
              "    box-shadow: none;\n",
              "  }\n",
              "\n",
              "  .colab-df-spinner {\n",
              "    border: 2px solid var(--fill-color);\n",
              "    border-color: transparent;\n",
              "    border-bottom-color: var(--fill-color);\n",
              "    animation:\n",
              "      spin 1s steps(1) infinite;\n",
              "  }\n",
              "\n",
              "  @keyframes spin {\n",
              "    0% {\n",
              "      border-color: transparent;\n",
              "      border-bottom-color: var(--fill-color);\n",
              "      border-left-color: var(--fill-color);\n",
              "    }\n",
              "    20% {\n",
              "      border-color: transparent;\n",
              "      border-left-color: var(--fill-color);\n",
              "      border-top-color: var(--fill-color);\n",
              "    }\n",
              "    30% {\n",
              "      border-color: transparent;\n",
              "      border-left-color: var(--fill-color);\n",
              "      border-top-color: var(--fill-color);\n",
              "      border-right-color: var(--fill-color);\n",
              "    }\n",
              "    40% {\n",
              "      border-color: transparent;\n",
              "      border-right-color: var(--fill-color);\n",
              "      border-top-color: var(--fill-color);\n",
              "    }\n",
              "    60% {\n",
              "      border-color: transparent;\n",
              "      border-right-color: var(--fill-color);\n",
              "    }\n",
              "    80% {\n",
              "      border-color: transparent;\n",
              "      border-right-color: var(--fill-color);\n",
              "      border-bottom-color: var(--fill-color);\n",
              "    }\n",
              "    90% {\n",
              "      border-color: transparent;\n",
              "      border-bottom-color: var(--fill-color);\n",
              "    }\n",
              "  }\n",
              "</style>\n",
              "\n",
              "      <script>\n",
              "        async function quickchart(key) {\n",
              "          const quickchartButtonEl =\n",
              "            document.querySelector('#' + key + ' button');\n",
              "          quickchartButtonEl.disabled = true;  // To prevent multiple clicks.\n",
              "          quickchartButtonEl.classList.add('colab-df-spinner');\n",
              "          try {\n",
              "            const charts = await google.colab.kernel.invokeFunction(\n",
              "                'suggestCharts', [key], {});\n",
              "          } catch (error) {\n",
              "            console.error('Error during call to suggestCharts:', error);\n",
              "          }\n",
              "          quickchartButtonEl.classList.remove('colab-df-spinner');\n",
              "          quickchartButtonEl.classList.add('colab-df-quickchart-complete');\n",
              "        }\n",
              "        (() => {\n",
              "          let quickchartButtonEl =\n",
              "            document.querySelector('#df-57c85c72-5f26-439c-a142-d90dab3dc487 button');\n",
              "          quickchartButtonEl.style.display =\n",
              "            google.colab.kernel.accessAllowed ? 'block' : 'none';\n",
              "        })();\n",
              "      </script>\n",
              "    </div>\n",
              "\n",
              "    </div>\n",
              "  </div>\n"
            ],
            "application/vnd.google.colaboratory.intrinsic+json": {
              "type": "dataframe",
              "summary": "{\n  \"name\": \"df[df['no_answer']\",\n  \"rows\": 10,\n  \"fields\": [\n    {\n      \"column\": \"title\",\n      \"properties\": {\n        \"dtype\": \"string\",\n        \"num_unique_values\": 10,\n        \"samples\": [\n          \"\\uc77c\\ucc0d \\ucc3e\\uc544\\uc628 \\uc5ec\\ub984 \\u2026 \\uc5d0\\uc5b4\\ucee8\\u00b7\\uc81c\\uc2b5\\uae30 \\u2018\\uc53d\\uc53d\\u2019\",\n          \"e\\uc2a4\\ud3ec\\uce20 \\uacf5\\uc815\\uc704\\uc6d0\\ud68c, \\uc815\\uc2dd \\ubc1c\\uc871 \\ubc0f e\\uc2a4\\ud3ec\\uce20 \\uc885\\ubaa9 3\\uc0ac\\uc640 \\ud611\\uc57d \\uccb4\\uacb0\",\n          \"\\ub3d9\\ubc29\\uc131\\ub828\\uc120 ~ Undefined Fantastic Object\"\n        ],\n        \"semantic_type\": \"\",\n        \"description\": \"\"\n      }\n    },\n    {\n      \"column\": \"news_category\",\n      \"properties\": {\n        \"dtype\": \"string\",\n        \"num_unique_values\": 7,\n        \"samples\": [\n          \"\\uc885\\ud569\",\n          \"\\uac8c\\uc784\",\n          \"\\ubb38\\ud654/TV\"\n        ],\n        \"semantic_type\": \"\",\n        \"description\": \"\"\n      }\n    },\n    {\n      \"column\": \"source\",\n      \"properties\": {\n        \"dtype\": \"category\",\n        \"num_unique_values\": 3,\n        \"samples\": [\n          \"hankyung\",\n          \"acrofan\",\n          \"wikipedia\"\n        ],\n        \"semantic_type\": \"\",\n        \"description\": \"\"\n      }\n    },\n    {\n      \"column\": \"context\",\n      \"properties\": {\n        \"dtype\": \"string\",\n        \"num_unique_values\": 10,\n        \"samples\": [\n          \"\\uc774\\ub978 \\ub354\\uc704 \\uc601\\ud5a5\\uc73c\\ub85c \\uc5d0\\uc5b4\\ucee8 \\ud310\\ub9e4\\uac00 \\ud070 \\ud3ed\\uc73c\\ub85c \\ub298\\uc5c8\\ub2e4.\\ub86f\\ub370\\ubc31\\ud654\\uc810\\uc740 \\uc62c \\ub4e4\\uc5b4 \\uc9c0\\ub09c\\ub2ec\\uae4c\\uc9c0 \\uc5d0\\uc5b4\\ucee8 \\uc608\\uc57d \\ud310\\ub9e4\\ub97c \\ud574 \\uc804\\ub144 \\ub3d9\\uae30\\ubcf4\\ub2e4 30% \\uc99d\\uac00\\ud55c \\ub9e4\\ucd9c\\uc744 \\uc62c\\ub838\\ub2e4\\uace0 6\\uc77c \\ubc1d\\ud614\\ub2e4. \\ub86f\\ub370\\ubc31\\ud654\\uc810\\uc740 \\uc9c0\\ub09c 1\\uc6d4 \\uc5d0\\uc5b4\\ucee8 \\uc608\\uc57d \\ud310\\ub9e4\\ub97c \\uc2dc\\uc791\\ud588\\ub2e4. \\ud604\\ub300\\ubc31\\ud654\\uc810\\uc740 2\\uc6d4\\ubd80\\ud130 3\\uc6d4 \\ub9d0\\uae4c\\uc9c0 \\uc5d0\\uc5b4\\ucee8 \\uc608\\uc57d \\ud310\\ub9e4\\ub97c \\uc9c4\\ud589\\ud574 \\uc9c0\\ub09c\\ud574\\ubcf4\\ub2e4 21.8% \\ub192\\uc740 \\ub9e4\\ucd9c\\uc744 \\uc62c\\ub838\\ub2e4. \\uc2e0\\uc138\\uacc4\\ubc31\\ud654\\uc810\\ub3c4 \\uc9c0\\ub09c\\ub2ec \\uc5d0\\uc5b4\\ucee8 \\uc608\\uc57d \\ud310\\ub9e4 \\uae08\\uc561\\uc774 \\uc804\\ub144 \\ub3d9\\uc6d4\\ubcf4\\ub2e4 21% \\uc99d\\uac00\\ud588\\ub2e4.\\uc720\\ud1b5\\uc5c5\\uccb4\\ub4e4\\uc740 \\ubd04\\ubd80\\ud130 \\ucd08\\uc5ec\\ub984 \\uac19\\uc740 \\ub0a0\\uc528\\uac00 \\ub098\\ud0c0\\ub098\\uba74\\uc11c \\uc5d0\\uc5b4\\ucee8 \\uc218\\uc694\\uac00 \\uc99d\\uac00\\ud55c \\uac83\\uc73c\\ub85c \\ubcf4\\uace0 \\uc788\\ub2e4. \\uc9c0\\ub09c\\ud574 \\uc5ec\\ub984 \\uc5d0\\uc5b4\\ucee8 \\uc218\\uc694\\uac00 \\uc9d1\\uc911\\ub3fc \\ub300\\uae30 \\uae30\\uac04\\uc774 \\ud55c \\ub2ec \\uc774\\uc0c1 \\ub410\\ub358 \\uac83\\ub3c4 \\uc608\\uc57d \\ud310\\ub9e4\\uac00 \\ub298\\uc5b4\\ub09c \\uc694\\uc778\\uc73c\\ub85c \\ud480\\uc774\\ub41c\\ub2e4.\\ubc31\\ud654\\uc810\\ub4e4\\uc740 \\uc5d0\\uc5b4\\ucee8\\uc744 \\uc608\\uc57d \\uad6c\\ub9e4\\ud558\\ub294 \\uace0\\uac1d\\uc5d0\\uac8c\\ub294 \\uc6d0\\ud558\\ub294 \\ub0a0\\uc9dc\\uc5d0 \\uc124\\uce58\\ud574\\uc8fc\\ub294 \\uc11c\\ube44\\uc2a4\\ub97c \\uc81c\\uacf5\\ud558\\uace0 \\uc788\\ub2e4. \\ud604\\ub300\\ubc31\\ud654\\uc810\\uc740 \\ub610 \\uc624\\ub294 11\\uc77c\\uae4c\\uc9c0 \\uc5d0\\uc5b4\\ucee8\\uc744 \\uc0ac\\ub294 \\uace0\\uac1d\\uc5d0\\uac8c \\uad6c\\ub9e4\\uae08\\uc561\\uc758 5%\\uc5d0 \\ud574\\ub2f9\\ud558\\ub294 \\uc0c1\\ud488\\uad8c\\uc744 \\uc900\\ub2e4.\\uc5d0\\uc5b4\\ucee8 \\ubcf8\\ud310\\ub9e4\\uc5d0 \\ub4e4\\uc5b4\\uac04 \\ub300\\ud615\\ub9c8\\ud2b8\\ub3c4 \\uc120\\uc804\\ud558\\uace0 \\uc788\\ub2e4. \\uc774\\ub9c8\\ud2b8\\ub294 \\uc9c0\\ub09c\\ub2ec 1\\uc77c \\ubcf8\\ud310\\ub9e4\\ub97c \\uc2dc\\uc791\\ud55c \\uc774\\ud6c4 \\ud55c \\ub2ec\\uac04 \\uc5d0\\uc5b4\\ucee8 \\ub9e4\\ucd9c\\uc774 \\uc9c0\\ub09c\\ud574 \\uac19\\uc740 \\uae30\\uac04\\ubcf4\\ub2e4 15.7% \\uc99d\\uac00\\ud588\\ub2e4\\uace0 \\ubc1d\\ud614\\ub2e4.\\uc5d0\\uc5b4\\ucee8\\uacfc \\ud568\\uaed8 \\ub300\\ud45c\\uc801 \\uc5ec\\ub984 \\uac00\\uc804\\uc81c\\ud488\\uc778 \\uc81c\\uc2b5\\uae30 \\ud310\\ub9e4\\ub3c4 \\uae09\\uc99d\\uc138\\ub2e4. \\uc774\\ub9c8\\ud2b8\\ub294 \\uc9c0\\ub09c\\ub2ec \\uc81c\\uc2b5\\uae30 \\ub9e4\\ucd9c\\uc774 \\uc804\\ub144 \\ub3d9\\uae30 \\ub300\\ube44 397.8% \\ub298\\uc5c8\\ub2e4\\uace0 \\ubc1d\\ud614\\ub2e4. \\ud604\\ub300\\ubc31\\ud654\\uc810\\uc5d0\\uc11c\\ub294 2~3\\uc6d4 \\uc81c\\uc2b5\\uae30 \\uc608\\uc57d \\ud310\\ub9e4\\ub97c \\ud574 \\uc9c0\\ub09c\\ud574 \\uc608\\uc57d \\ud310\\ub9e4\\ubcf4\\ub2e4 19.8% \\uc99d\\uac00\\ud55c \\ub9e4\\ucd9c\\uc744 \\uac70\\ub480\\ub2e4.\",\n          \"e\\uc2a4\\ud3ec\\uce20 \\uacf5\\uc815\\uc704\\uc6d0\\ud68c\\uac00 \\uc9c0\\ub09c 6\\uc6d4 30\\uc77c(\\ud654) e\\uc2a4\\ud3ec\\uce20 \\uba85\\uc608\\uc758 \\uc804\\ub2f9(\\uc11c\\uc6b8 \\ub9c8\\ud3ec)\\uc5d0\\uc11c \\ubc1c\\uc871\\uc2dd\\uc744 \\uac16\\uace0, \\uc815\\uc2dd\\uc73c\\ub85c \\ucd9c\\ubc94\\ud588\\ub2e4. e\\uc2a4\\ud3ec\\uce20 \\uacf5\\uc815\\uc704\\uc6d0\\ud68c \\ubc1c\\uc871\\uc2dd\\uc5d0\\ub294 \\ucd08\\ub300\\uc704\\uc6d0\\uc7a5\\uc778 \\uc870\\uc601\\ud76c \\uc704\\uc6d0\\uc7a5(\\ubc95\\ubb34\\ubc95\\uc778 LAB\\ud30c\\ud2b8\\ub108\\uc2a4)\\uc744 \\ube44\\ub86f\\ud55c \\uacf5\\uc815\\uc704\\uc6d0\\ub4e4\\uc774 \\ucc38\\uc11d\\ud588\\uc73c\\uba70, \\ucf54\\ub85c\\ub098\\ubc14\\uc774\\ub7ec\\uc2a4\\uac10\\uc5fc\\uc99d-19 \\uc0c1\\ud669\\uc744 \\uace0\\ub824\\ud558\\uc5ec \\ucd5c\\uc18c \\uc778\\uc6d0\\uc73c\\ub85c \\uc9c4\\ud589\\ub418\\uc5c8\\ub2e4. e\\uc2a4\\ud3ec\\uce20 \\uacf5\\uc815\\uc704\\uc6d0\\uc740 \\uc2a4\\ud3ec\\uce20 \\uc790\\ubb38 \\ubc0f \\uae30\\uc220\\uc704\\uc6d0\\ud68c, \\ud0c0 \\ubd84\\uc57c \\ubd84\\uc7c1\\uc870\\uc815\\uc704\\uc6d0\\ud68c, \\uc120\\uc218 \\uc778\\uad8c \\uad00\\ub828 \\uc790\\ubb38\\uc704\\uc6d0\\ud68c, IT\\u2219\\uc800\\uc791\\uad8c\\u2219\\uc5d4\\ud130\\ud14c\\uc778\\uba3c\\ud2b8 \\ubd84\\uc57c \\ub4f1\\uc758 \\uacbd\\ud5d8\\uc744 \\uac16\\ucd98 \\uc804\\ubb38\\uac00\\ub4e4\\uc774\\uba70, \\uc9c0\\ub09c 1\\uc6d4 \\uc774\\ud6c4 \\uc120\\uc218 \\uc704\\uc6d0 1\\uba85\\uc774 \\ucd94\\uac00\\ub410\\ub2e4. e\\uc2a4\\ud3ec\\uce20 \\uacf5\\uc815\\uc704\\uc6d0\\uc740 \\u25b2\\uc870\\uc601\\ud76c \\ubc95\\ubb34\\ubc95\\uc778 LAB\\ud30c\\ud2b8\\ub108\\uc2a4 \\ubcc0\\ud638\\uc0ac(\\uc704\\uc6d0\\uc7a5) \\u25b2\\uac15\\ud0dc\\uc6b1 \\ubc95\\ubb34\\ubc95\\uc778 \\ud0dc\\ud3c9\\uc591 \\ubcc0\\ud638\\uc0ac \\u25b2\\uc548\\ucc2c\\uc2dd \\ubc95\\ubb34\\ubc95\\uc778 \\ucda9\\uc815 \\ubcc0\\ud638\\uc0ac \\u25b2\\uc774\\uc9c0\\uc724 \\ubc95\\ub960\\uc0ac\\ubb34\\uc18c \\uc774\\uc9c0\\uc724 \\ubcc0\\ud638\\uc0ac \\u25b2\\ud5c8\\uc7ac\\ud601 \\ubc95\\ub960\\uc0ac\\ubb34\\uc18c \\uc9c0\\uba85 \\ubcc0\\ud638\\uc0ac \\u25b2\\uae40\\ud6c8\\uae30 \\ucd95\\uad6c\\uc120\\uc218\\ud611\\ud68c \\uc0ac\\ubb34\\ucd1d\\uc7a5 \\u25b2\\ucd5c\\uc2b9\\uc6b0 \\ud55c\\uad6d\\uac8c\\uc784\\uc0b0\\uc5c5\\ud611\\ud68c \\uad6d\\uc7a5 \\u25b2\\uc774\\ub3c4\\uacbd \\uc774\\uc0c1\\ud5cc\\uc758\\uc6d0\\uc2e4 \\ube44\\uc11c\\uad00 \\u25b2\\uae40\\ub3c4\\uade0 \\uacbd\\ud76c\\ub300\\ud559\\uad50 \\uccb4\\uc721\\ub300\\ud559\\uc6d0 \\uad50\\uc218 \\u25b2\\uc2e0\\ub300\\uc601 \\uccad\\uac15\\ubb38\\ud654\\uc0b0\\uc5c5\\ub300\\ud559\\uad50 \\uac8c\\uc784\\ucf58\\ud150\\uce20\\uc2a4\\ucfe8 \\uad50\\uc218 \\u25b2\\uc724\\uc601\\uae38 \\ud55c\\uad6d\\uccb4\\uc721\\ub300\\ud559\\uad50 \\uc0ac\\ud68c\\uccb4\\uc721\\ud559\\uacfc \\uad50\\uc218 \\u25b2\\uc724\\ud0dc\\uc9c4 \\uc5f0\\uc138\\ub300 \\ucee4\\ubba4\\ub2c8\\ucf00\\uc774\\uc158\\ub300\\ud559\\uc6d0 \\uad50\\uc218 \\u25b2\\ub0a8\\uc724\\uc2b9 OGN \\uc81c\\uc791\\uad6d\\uc7a5 \\u25b2\\ubc15\\ucc3d\\ud604 \\ub77c\\uc6b0\\ub4dc \\ucee4\\ubba4\\ub2c8\\ucf00\\uc774\\uc158\\uc988 \\uc0ac\\uc5c5\\uad6d\\uc7a5 \\u25b2\\uae40\\ub300\\ud76c \\ud55c\\uad6d\\uc2a4\\ud3ec\\uce20\\uc815\\ucc45\\uacfc\\ud559\\uc6d0 \\ubc15\\uc0ac \\u25b2\\uc624\\uacbd\\uc2dd SK\\ud154\\ub808\\ucf64 \\uc2a4\\ud3ec\\uce20\\ub9c8\\ucf00\\ud305 \\uadf8\\ub8f9\\uc7a5 \\u25b2\\uac15\\ubc94\\ud604 \\uc0cc\\ub4dc\\ubc15\\uc2a4 \\uac8c\\uc774\\ubc0d \\uc18c\\uc18d LoL \\uc120\\uc218 \\uc774\\uc0c1 17\\uba85\\uc774\\ub2e4. \\ubc1c\\uc871\\uc2dd\\uc5d0\\uc11c \\uc870\\uc601\\ud76c e\\uc2a4\\ud3ec\\uce20 \\uacf5\\uc815\\uc704\\uc6d0\\uc7a5\\uc740 \\u201ce\\uc2a4\\ud3ec\\uce20 \\uacf5\\uc815\\uc704\\uc6d0\\ud68c\\ub294 e\\uc2a4\\ud3ec\\uce20 \\uc120\\uc218\\ub4e4\\uc758 \\uad8c\\uc775\\ubcf4\\ud638\\uc640 e\\uc2a4\\ud3ec\\uce20 \\uc0dd\\ud0dc\\uacc4 \\uc548\\uc815\\ud654\\ub97c \\uc704\\ud574 \\uc124\\ub9bd\\ub41c \\uc138\\uacc4 \\ucd5c\\ucd08\\uc758 e\\uc2a4\\ud3ec\\uce20 \\ubd84\\uc57c \\uc911\\uc7ac\\uae30\\uad6c\\ub2e4. e\\uc2a4\\ud3ec\\uce20 \\uacf5\\uc815\\uc704\\uc6d0\\ud68c \\uc124\\ub9bd \\ucde8\\uc9c0\\uc5d0 \\uacf5\\uac10\\ud574 \\uc8fc\\uc2dc\\uace0, \\ud611\\ub825\\ud558\\uace0\\uc790 \\ud568\\uaed8\\ud574 \\uc8fc\\uc2e0 \\uad00\\uacc4\\uc790 \\ubd84\\ub4e4\\uaed8 \\uae4a\\uc740 \\uac10\\uc0ac\\ub97c \\ud45c\\ud55c\\ub2e4. \\uc55e\\uc73c\\ub85c \\uc2e4\\ud6a8\\uc131 \\uc788\\ub294 \\uae30\\uad6c\\ub85c \\uc790\\ub9ac\\uc7a1\\uace0, \\uc804 \\uc138\\uacc4 e\\uc2a4\\ud3ec\\uce20 \\uacc4\\uc758 \\uadc0\\uac10\\uc774 \\ub420 \\uc218 \\uc788\\ub3c4\\ub85d \\ub178\\ub825\\ud558\\uaca0\\ub2e4\\u201d\\uace0 \\uc5b8\\uae09\\ud588\\ub2e4. e\\uc2a4\\ud3ec\\uce20 \\uacf5\\uc815\\uc704\\uc6d0\\ud68c\\ub294 \\uc9c0\\ub09c 2\\uc6d4\\ubd80\\ud130 \\uc784\\uc2dc \\uc6b4\\uc601\\ud55c \\ud074\\ub9b0e\\uc2a4\\ud3ec\\uce20\\uc13c\\ud130\\ub97c \\ud1b5\\ud574 \\ubbfc\\uc6d0\\uc744 \\ubc1b\\ub294 \\ub3d9\\uc2dc\\uc5d0, \\u25b2\\uacf5\\uc815\\ubd84\\uacfc \\u25b2\\uc911\\uc7ac\\ubd84\\uacfc \\u25b2\\uc120\\uc218\\ubd84\\uacfc\\ubcc4 \\uc5c5\\ubb34 \\ubd84\\ubc30 \\ubc0f \\uc138\\ubd80 \\uc6b4\\uc601 \\uaddc\\uc815\\uc744 \\uc815\\ube44\\ud588\\ub2e4. \\uc815\\uc2dd \\ubc1c\\uc871\\uc2dd \\uc774\\ud6c4, e\\uc2a4\\ud3ec\\uce20 \\uacf5\\uc815\\uc704\\uc6d0\\ud68c\\ub294 \\uccab \\ubc88\\uc9f8 \\ubbfc\\uc6d0\\uc744 \\uc811\\uc218 \\ubc1b\\uc544 \\uc808\\ucc28\\uc5d0 \\ub530\\ub77c \\ucc98\\ub9ac\\ud560 \\uc608\\uc815\\uc774\\ub2e4. \\ubbfc\\uc6d0 \\uc811\\uc218\\ubc29\\ubc95 \\ubc0f \\uc5c5\\ubb34 \\ucc98\\ub9ac\\uacfc\\uc815 \\ub4f1 \\uc704\\uc6d0\\ud68c \\uc6b4\\uc601\\uacfc \\uad00\\ub828\\ub41c \\uc790\\uc138\\ud55c \\uc0ac\\ud56d\\uc740 \\ucd94\\ud6c4 \\ud648\\ud398\\uc774\\uc9c0\\uc5d0\\uc11c \\ud655\\uc778\\ud560 \\uc218 \\uc788\\ub2e4. \\uc774\\ub0a0 e\\uc2a4\\ud3ec\\uce20 \\uacf5\\uc815\\uc704\\uc6d0\\ud68c\\uc640 \\uc885\\ubaa9\\uc0ac, \\ud55c\\uad6de\\uc2a4\\ud3ec\\uce20\\ud611\\ud68c\\uac04 3\\uc790 \\uc5c5\\ubb34\\ud611\\uc57d\\uc2dd\\ub3c4 \\ud568\\uaed8 \\uc9c4\\ud589\\ub410\\ub2e4. 3\\uc790\\uac04 \\uc5c5\\ubb34\\ud611\\uc57d\\uc740 e\\uc2a4\\ud3ec\\uce20\\uc758 \\uc120\\uc9c4 \\uc81c\\ub3c4 \\ub9c8\\ub828\\uacfc e\\uc2a4\\ud3ec\\uce20 \\uc120\\uc218 \\uad8c\\uc775 \\ubcf4\\ud638\\ub77c\\ub294 \\uacf5\\ub3d9\\uc758 \\ubaa9\\uc801\\uc744 \\uc704\\ud574 \\uc0c1\\ud638\\uac04\\uc758 \\ud611\\ub825\\uc744 \\ub3c4\\ubaa8\\ud558\\uace0\\uc790 \\ub9c8\\ub828\\ub410\\ub2e4. \\uc5c5\\ubb34 \\ud611\\uc57d\\uc744 \\ub9fa\\uc740 \\uc885\\ubaa9\\uc0ac\\ub294 \\ub125\\uc2a8\\ucf54\\ub9ac\\uc544, \\ub77c\\uc774\\uc5c7 \\uac8c\\uc784\\uc988 \\ucf54\\ub9ac\\uc544, \\ud38d\\uc9c0 \\uc8fc\\uc2dd\\ud68c\\uc0ac 3\\uacf3\\uc774\\uba70, \\uc801\\uadf9 \\ud611\\ub825\\uc744 \\uc57d\\uc18d\\ud588\\ub2e4. \\uc774\\ubc88 \\uc5c5\\ubb34\\ud611\\uc57d\\uc744 \\ud1a0\\ub300\\ub85c, e\\uc2a4\\ud3ec\\uce20 \\uacf5\\uc815\\uc704\\uc6d0\\ud68c\\ub294 \\ud6a8\\uacfc\\uc801\\uc778 \\uc0ac\\uc2e4\\uad00\\uacc4 \\uc870\\uc0ac \\ubc0f \\uc2e4\\ud6a8\\uc131 \\uc788\\ub294 \\uc870\\uc815\\uc548 \\ub3c4\\ucd9c\\uc774 \\uac00\\ub2a5\\ud558\\uac8c \\ub418\\uc5c8\\ub2e4. \\uc885\\ubaa9\\uc0ac\\ub4e4\\uc740 \\uc120\\uc218 \\uad8c\\uc775 \\ubcf4\\ud638\\uc5d0 \\ud568\\uaed8 \\ud798\\uc4f0\\ub294 \\ub3d9\\uc2dc\\uc5d0, \\uc774\\uc288 \\ubc1c\\uc0dd \\uc2dc e\\uc2a4\\ud3ec\\uce20 \\uacf5\\uc815\\uc704\\uc6d0\\ud68c\\ub97c \\ud1b5\\ud574 \\uc2e0\\ub8b0\\ud560 \\uc218 \\uc788\\ub294 \\ud574\\uacb0\\ubc29\\uc548\\uc744 \\ub9cc\\ub4dc\\ub294\\ub370 \\ub3c4\\uc6c0\\uc744 \\ubc1b\\uac8c \\ub420 \\uc608\\uc815\\uc774\\ub2e4. \\uc774 \\uacfc\\uc815\\uc5d0\\uc11c \\ud55c\\uad6de\\uc2a4\\ud3ec\\uce20\\ud611\\ud68c\\ub294 e\\uc2a4\\ud3ec\\uce20 \\ubbfc\\uc6d0 \\uc811\\uc218, \\ubd80\\uc815\\ud589\\uc704 \\ubaa8\\ub2c8\\ud130\\ub9c1 \\ub4f1 \\uc6b4\\uc601 \\uacfc\\uc815\\uc744 \\ub3c4\\uc6b8 \\uacc4\\ud68d\\uc774\\ub2e4.\",\n          \"\\uc9c0\\ud558\\uc5d0 \\ubd09\\uc778\\ub418\\uc5c8\\ub358 \\ub204\\uc5d0. \\uc778\\uac04\\ub4e4\\uc5d0\\uac8c \\ubaa8\\uc2b5\\uc744 \\ub4dc\\ub7ec\\ub0b4\\uc9c0 \\uc54a\\uace0, \\uc778\\uac04\\uc774 \\uc790\\uc2e0\\uc744 \\ubb34\\uc11c\\uc6cc\\ud558\\ub294 \\ubaa8\\uc2b5\\uc744 \\uc0c1\\uc0c1\\ud558\\ub294 \\ubaa8\\uc2b5\\uc744 \\uc990\\uae30\\uace0 \\uc788\\uc5c8\\uc9c0\\ub9cc, \\uc5b4\\ub5a4 \\ub54c\\uc5d0\\ub294 \\ubcf8\\ub798\\uc758 \\ubaa8\\uc2b5\\uc774 \\ub4dc\\ub7ec\\ub098, \\uc9c0\\ud558\\uc5d0 \\ubd09\\uc778\\ub418\\uc5b4 \\ubc84\\ub9ac\\ub294 \\ubc14\\ub78c\\uc5d0 \\uc624\\ub7ab\\ub3d9\\uc548 \\ub545 \\uc18d\\uc5d0\\uc11c \\uc0b4\\uace0 \\uc788\\uc5c8\\ub2e4.\\n\\uc6b0\\uce20\\ud638\\uc5d0 \\uc758\\ud55c \\uac04\\ud5d0\\ucc9c \\uc0ac\\uac74\\uc758 \\ud63c\\uc7a1\\ud588\\ub358 \\ud2c8\\uc744 \\ud0c0\\uc11c \\uc9c0\\uc0c1\\uc73c\\ub85c \\ub098\\uc624\\uace0, \\uc9c0\\ud558\\uc5d0\\uc11c \\uac19\\uc774 \\uc788\\ub358 \\ubb34\\ub77c\\uc0ac \\ubbf8\\ub098\\ubbf8\\uce20\\uac00 \\uc9c0\\uc0c1\\uc5d0\\uc11c \\ubb50 \\ud558\\ub294 \\uac83\\uc744 \\ubcf4\\uace0 \\uadf8\\ub140\\ub4e4\\uc744 \\ubc29\\ud574\\ud558\\ub824\\uace0 \\uacb0\\uc815\\ub41c \\ubaa8\\uc2b5\\uc774 \\uc5c6\\uc5b4 \\ubcf8 \\uc0ac\\ub78c\\uc758 \\uc9c0\\uc2dd\\uc73c\\ub85c \\uc778\\uc2dd\\ud560 \\ub9cc\\ud55c \\ubb3c\\uac74\\uc73c\\ub85c \\ubcf4\\uc778\\ub2e4\\uace0 \\ud574 \\\"\\uc815\\uccb4\\ubd88\\uba85\\uc758 \\uc528\\uc557\\\"\\uc744 \\ube44\\ucc3d\\uc758 \\ud30c\\ud3b8\\uc5d0 \\uc62c\\ub790\\ub2e4.\\n\\ud558\\ucfe0\\ub808\\uc774 \\ub808\\uc774\\ubb34 \\uc77c\\ud589\\uc774 \\uadf8 \\uc815\\uccb4\\ubd88\\uba85\\uc758 \\ube44\\ud589 \\ubb3c\\uccb4\\ub97c \\ubaa8\\uc73c\\ub294 \\ubc14\\ub78c\\uc5d0 \\uc815\\uccb4\\ubd88\\uba85\\uc5d0 \\ub5a8\\uc9c0 \\uc54a\\ub294 \\uc778\\uac04\\uc5d0 \\ud765\\ubbf8\\ub97c \\uac00\\uc9c0\\uace0 \\uc811\\ucd09\\ud558\\ub824 \\ud588\\ub2e4. \\u300e\\uc131\\ub828\\uc120\\u300f 4\\uba74, 6\\uba74 \\ub3c4\\uc911\\uc5d0 \\ub098\\ud0c0\\ub098\\ub294 \\ube5b\\uc758 \\uacf5\\uc740 \\uadf8\\ub140\\uc774\\ub2e4 .\\n\\ub9c8\\uc744 \\uae30\\uc0ac\\ub4e4\\uc774 \\ud55c \\ud788\\uc9c0\\ub9ac \\ubc4c\\ucfe0\\ub80c\\uc758 \\ud574\\ubc29\\uc740 \\uc790\\uc2e0\\uc5d0\\uac8c\\ub3c4 \\uc774\\uc775\\uc774 \\uc788\\ub294 \\uc77c\\uc774\\ub77c\\uace0 \\uc54c\\uace0 \\uadf8\\uac83\\uc744 \\ubc29\\ud574\\ud55c \\uac83\\uc744 \\ud6c4\\ud68c\\ud558\\uace0 \\uc788\\ub2e4. \\ubc4c\\ucfe0\\ub80c\\uc758 \\uc11d\\ubc29\\uc744 \\ubc29\\ud574\\ud588\\uc74c\\uc5d0\\ub3c4 \\ubd88\\uad6c\\ud558\\uace0 \\uadf8\\ub140\\uc5d0\\uac8c\\uc11c\\ub294 \\uae30\\uaebc\\uc774 \\ubc1b\\uc544\\ub4e4\\uc5ec\\uc838, \\\"\\ub2f9\\ubd84\\uac04\\uc740 \\uc774 \\uc2a4\\ub2d8\\uc744 \\ub530\\ub77c\\uac00\\ub294 \\uc218\\ubc16\\uc5d0 \\uc5c6\\ub2e4\\\" \\uace0 \\uc0dd\\uac01\\ud558\\uac8c \\ub41c\\ub2e4. \\ub098\\uc911\\uc5d0 \\ubd88\\ubb38\\uc5d0 \\ub4e4\\uc5b4 \\uba85\\ub828\\uc0ac\\uc5d0 \\uba38\\ubb3c\\uac8c \\ub41c\\ub2e4 .\\n\\u300e\\uc2e0\\ub839\\ubb18\\u300f\\uc5d0\\uc11c\\ub294 \\uc678\\ubd80\\uc758 \\uc138\\uacc4\\ub85c\\ubd80\\ud130 \\uc624\\ub79c \\uce5c\\uad6c \\ud6c4\\ud0c0\\uce20\\uc774\\uc640 \\ub9c8\\ubbf8\\uc870\\ub97c \\ubd88\\ub7ec\\uc654\\ub2e4.\\n\\u300e\\uc131\\ub828\\uc120\\u300f\\uc5d0\\uc11c \\ub300\\uc804\\uc2dc\\uc5d0\\ub294 \\\"\\uc815\\uccb4\\ubd88\\uba85\\uc758 \\uc528\\uc557\\\"\\uc774 \\uc778\\uac04\\uc5d0\\uac8c\\ub294 UFO\\ub85c \\ubcf4\\uc778\\ub2e4\\ub294 \\uc124\\uc815\\uc744 \\ubc18\\uc601\\ud558\\uace0, UFO \\ubaa8\\uc591\\uc758 \\ud0c4\\ub9c9\\uc744 \\uc0ac\\uc6a9\\ud574 \\uacf5\\uaca9\\ud574 \\uc628\\ub2e4.\"\n        ],\n        \"semantic_type\": \"\",\n        \"description\": \"\"\n      }\n    },\n    {\n      \"column\": \"question\",\n      \"properties\": {\n        \"dtype\": \"string\",\n        \"num_unique_values\": 10,\n        \"samples\": [\n          \"\\ud604\\ub300\\ubc31\\ud654\\uc810\\uc5d0\\uc11c \\uc5d0\\uc5b4\\ucee8\\uc744 \\uc0ac\\uace0 5% \\uc0c1\\ud488\\uad8c\\uc744 \\ubc1b\\uc744 \\uc218 \\uc788\\ub294 \\ub9c8\\uc9c0\\ub9c9 \\ub0a0\\uc740?\",\n          \"1\\uc6d4 \\uc774\\ud6c4\\uc5d0 \\uc0c8\\ub85c e\\uc2a4\\ud3ec\\uce20 \\uacf5\\uc815\\uc704\\uc6d0\\uc774 \\ub41c \\uc778\\ubb3c\\uc758 \\uc774\\ub984\\uc740?\",\n          \"\\u300e\\uc131\\ub828\\uc120\\u300f \\ub0b4\\uc6a9\\uc5d0 \\ub530\\ub974\\uba74, \\ub300\\uc804\\uc2dc\\uc5d0\\uc11c UFO\\ub85c \\uc778\\uc2dd\\ub418\\uc5b4\\uc9c0\\ub294 \\ubb3c\\uccb4\\ub294?\"\n        ],\n        \"semantic_type\": \"\",\n        \"description\": \"\"\n      }\n    },\n    {\n      \"column\": \"question_type\",\n      \"properties\": {\n        \"dtype\": \"number\",\n        \"std\": 0,\n        \"min\": 1,\n        \"max\": 2,\n        \"num_unique_values\": 2,\n        \"samples\": [\n          1,\n          2\n        ],\n        \"semantic_type\": \"\",\n        \"description\": \"\"\n      }\n    },\n    {\n      \"column\": \"is_impossible\",\n      \"properties\": {\n        \"dtype\": \"boolean\",\n        \"num_unique_values\": 1,\n        \"samples\": [\n          false\n        ],\n        \"semantic_type\": \"\",\n        \"description\": \"\"\n      }\n    },\n    {\n      \"column\": \"answer_text\",\n      \"properties\": {\n        \"dtype\": \"string\",\n        \"num_unique_values\": 10,\n        \"samples\": [\n          \"\\uc624\\ub294 11\\uc77c\"\n        ],\n        \"semantic_type\": \"\",\n        \"description\": \"\"\n      }\n    },\n    {\n      \"column\": \"answer_start\",\n      \"properties\": {\n        \"dtype\": \"number\",\n        \"std\": 248,\n        \"min\": 13,\n        \"max\": 719,\n        \"num_unique_values\": 10,\n        \"samples\": [\n          397\n        ],\n        \"semantic_type\": \"\",\n        \"description\": \"\"\n      }\n    },\n    {\n      \"column\": \"negative_samples\",\n      \"properties\": {\n        \"dtype\": \"object\",\n        \"semantic_type\": \"\",\n        \"description\": \"\"\n      }\n    },\n    {\n      \"column\": \"no_answer_question\",\n      \"properties\": {\n        \"dtype\": \"string\",\n        \"num_unique_values\": 10,\n        \"samples\": [\n          \"\\uc774\\ubc88 \\uaca8\\uc6b8 \\ud328\\ub529 \\ud310\\ub9e4 \\ubd80\\uc9c4\\uc758 \\uc8fc\\ub41c \\uc601\\ud5a5\\uc740 \\ubb50\\ub77c\\uace0 \\uc0dd\\uac01\\ud574?\"\n        ],\n        \"semantic_type\": \"\",\n        \"description\": \"\"\n      }\n    },\n    {\n      \"column\": \"no_answer\",\n      \"properties\": {\n        \"dtype\": \"string\",\n        \"num_unique_values\": 10,\n        \"samples\": [\n          \"\\uc62c\\ud574 \\uaca8\\uc6b8 \\ud328\\ub529 \\ud310\\ub9e4 \\ubd80\\uc9c4\\uc758 \\uc8fc\\ub41c \\uc601\\ud5a5\\uc740 \\uc608\\uc0c1\\ubcf4\\ub2e4 \\ub530\\ub73b\\ud55c \\ub0a0\\uc528 \\ub54c\\ubb38\\uc785\\ub2c8\\ub2e4. \\uae30\\uc0c1\\uccad\\uc740 \\uc62c\\ud574 \\uaca8\\uc6b8\\ucca0\\uc774 \\uc608\\ub144\\ubcf4\\ub2e4 \\ucda5\\uace0 \\uae38 \\uac83\\uc774\\ub77c\\uace0 \\uc608\\ubcf4\\ud588\\uc73c\\ub098 \\uc2e4\\uc81c\\ub85c\\ub294 \\ud3c9\\ub144 \\uae30\\uc628\\ubcf4\\ub2e4 \\ub192\\uace0, \\ub9ce\\uc740 \\uc5c5\\uccb4\\ub4e4\\uc774 \\uaca8\\uc6b8 \\uc0c1\\ud488 \\uc0dd\\uc0b0\\ub7c9\\uc744 \\uc99d\\uac00\\uc2dc\\ucf30\\uc2b5\\ub2c8\\ub2e4. \\uc774\\ub7ec\\ud55c \\ubd88\\uc77c\\uce58\\ub294 \\uaca8\\uc6b8 \\uc758\\ub958\\uc758 \\ud310\\ub9e4\\uc728 \\uae09\\ub77d\\uc73c\\ub85c \\uc774\\uc5b4\\uc84c\\uace0, \\ud328\\ub529\\uc758 \\uacbd\\uc6b0 \\ud3c9\\uade0\\uc801\\uc73c\\ub85c \\uc900\\ube44\\ub41c \\ubb3c\\ub7c9\\uc758 40~52%\\ub9cc\\uc774 \\ud310\\ub9e4\\ub418\\uc5c8\\uc2b5\\ub2c8\\ub2e4. \\uc608\\ub97c \\ub4e4\\uc5b4, \\uc2e0\\uc138\\uacc4\\ubc31\\ud654\\uc810\\uc740 \\uc9c0\\ub09c\\ud574 \\uaca8\\uc6b8 90%\\uc5d0 \\ub2ec\\ud588\\ub358 \\ud328\\ub529 \\uc18c\\uc9c4\\uc728\\uc774 \\uc62c\\ud574\\uc5d0\\ub294 70% \\uc120\\uc73c\\ub85c \\ub5a8\\uc5b4\\uc84c\\uc2b5\\ub2c8\\ub2e4. \\uc774\\ub7f0 \\uc0c1\\ud669 \\uc18d\\uc5d0\\uc11c \\ub300\\ubd80\\ubd84\\uc758 \\ubc31\\ud654\\uc810\\uc740 \\ub300\\uaddc\\ubaa8 \\ud560\\uc778 \\ud310\\ub9e4\\ub97c \\uc2e4\\uc2dc\\ud558\\uba70 \\uc7ac\\uace0\\ub97c \\uc904\\uc774\\ub824 \\ud558\\uace0 \\uc788\\uc2b5\\ub2c8\\ub2e4[[ref5]].\"\n        ],\n        \"semantic_type\": \"\",\n        \"description\": \"\"\n      }\n    }\n  ]\n}"
            }
          },
          "metadata": {},
          "execution_count": 46
        }
      ]
    },
    {
      "cell_type": "markdown",
      "source": [
        "답이 없어야 하는데 추출된 경우에는 삭제합니다. (데이터를 보고 이상하지 않다고 판단되면 사용하셔도 됩니다.)"
      ],
      "metadata": {
        "id": "AxkfBNky4wGm"
      }
    },
    {
      "cell_type": "code",
      "source": [
        "df = df[~df['no_answer'].str.contains('ref')].reset_index(drop=True)"
      ],
      "metadata": {
        "id": "faU673qnoZei"
      },
      "execution_count": null,
      "outputs": []
    },
    {
      "cell_type": "code",
      "source": [
        "# 이상한 데이터가 없는지 체크\n",
        "sample_check = []\n",
        "for sample in df['no_answer'].to_list():\n",
        "  if '검색 결과' not in sample:\n",
        "    sample_check.append(sample)"
      ],
      "metadata": {
        "id": "7ip2J6Bioe0A"
      },
      "execution_count": null,
      "outputs": []
    },
    {
      "cell_type": "code",
      "source": [
        "len(sample_check)"
      ],
      "metadata": {
        "colab": {
          "base_uri": "https://localhost:8080/"
        },
        "id": "vGiH8O4gqnrU",
        "outputId": "dd23a0a9-2351-446c-c1ac-1799afd98bfb"
      },
      "execution_count": null,
      "outputs": [
        {
          "output_type": "execute_result",
          "data": {
            "text/plain": [
              "0"
            ]
          },
          "metadata": {},
          "execution_count": 49
        }
      ]
    },
    {
      "cell_type": "code",
      "source": [
        "# sample_check[3]"
      ],
      "metadata": {
        "id": "L6g7c4XRqqjz"
      },
      "execution_count": null,
      "outputs": []
    },
    {
      "cell_type": "code",
      "source": [
        "samples = []\n",
        "for context, negative_samples in zip(df['context'].to_list(), df['negative_samples'].to_list()):\n",
        "  samples.append([context] + list(negative_samples))"
      ],
      "metadata": {
        "id": "bYnZrKX5sYKF"
      },
      "execution_count": null,
      "outputs": []
    },
    {
      "cell_type": "code",
      "source": [
        "print('질문:', df['no_answer_question'].loc[15])"
      ],
      "metadata": {
        "colab": {
          "base_uri": "https://localhost:8080/"
        },
        "id": "wTX3MfFxsCxF",
        "outputId": "a7cfcbee-e209-4cd1-a606-930bb98da770"
      },
      "execution_count": null,
      "outputs": [
        {
          "output_type": "stream",
          "name": "stdout",
          "text": [
            "질문: MMA WEEK에서 어떤 신인 아티스트들이 모두 공연할 거야?\n"
          ]
        }
      ]
    },
    {
      "cell_type": "code",
      "source": [
        "for idx, s in enumerate(samples[15]):\n",
        "  print('문서' + str(idx + 1) + ':' + s)\n",
        "  print('---')"
      ],
      "metadata": {
        "colab": {
          "base_uri": "https://localhost:8080/"
        },
        "id": "9KBlSV62sDOX",
        "outputId": "240877f8-bb7f-4f00-81bc-43ff6967ecb4"
      },
      "execution_count": null,
      "outputs": [
        {
          "output_type": "stream",
          "name": "stdout",
          "text": [
            "문서1:라이엇 게임즈의 1인칭 전술 슈팅 게임(이하 FPS) 발로란트가 연말 시즌을 맞아 신규 모드와 한정 스킨 등 풍성한 업데이트를 선보인다. 발로란트는 크리스마스와 연말연시를 기념해 눈싸움 모드를 마련했다. 해당 모드는 5:5 팀 데스매치로 날아오는 눈덩이를 피하고 적에게 눈덩이를 발사하는 방식의 전투다. 킬조이 요원이 브림스톤의 화염병 발사기를 개조해 개발한 ‘눈덩이 발사기’가 공통 무기로 사용되며 먼저 50킬을 달성하는 팀이 승리한다. 눈덩이는 무제한으로 생성되며 유일한 근접 무기는 칼이다. 아이템은 맵 곳곳에서 ‘선물’이 되어 등장한다. 선물로 제공되는 아이템은 눈덩이를 빠르게 발사할 수 있는 ‘속사’, 눈덩이가 커지는 ‘설상가상’, 눈덩이가 바닥과 벽에 닿으면 반사되는 ‘도탄’, 스케이트를 타고 이동 할 수 있는 ‘스케이트’ 등이 있으며, 독톡한 강화 효과를 더해주고 또 팀원들과도 나눠서 사용할 수도 있다. 게임 종료 시까지 계속해서 부활할 수는 있지만, 강화 효과를 떨어뜨려 다른 플레이어에게 빼앗길 수도 있다. 눈싸움 모드는 이벤트 콘텐츠로 한시적으로 제공된다. 이달 15일부터 29일까지 약 2주간 즐길 수 있으며 플레이 한 유저는 ‘눈사람 친구 총기 장식’을 획득할 수 있다. 발로란트는 유럽 시골 마을의 겨울 풍경을 담은 무기 스킨 ‘윈터원더랜드’도 선보인다. 신규 스킨은 밝고 평화로운 느낌을 담은 디자인으로 게임 내에서 크리스마스와 연말 분위기를 한층 더할 예정이다. 윈터원더랜드 스킨은, 장착한 채로 맵 내 어두운 곳에 위치해 있으면 겨울 풍경이 화려한 밤 풍경으로 변하는 독특한 효과가 포함돼 있다. 적용 무기는 밴달, 팬텀, 고스트, 마샬과 근접무기이며 모든 옵션이 포함된 세트 상품은 5,100 발로란트 포인트(VP)로 구매할 수 있다. 오는 11일부터 내년 1월 12일까지 특별한 할인 혜택도 제공된다. 발로란트 상점 내 등장하는 ‘야시장’에서는 무기 스킨을 최대 50% 할인 가격으로 선보일 예정이다. 할인 대상은 최대 6가지의 셀렉트, 디럭스, 프리미엄 등급 무기 스킨이며, 플레이어마다 각기 다른 스킨이 무작위로 등장한다. 한편, 발로란트는 1.14 패치노트도 공개했다. 이번 패치는 요원 세이지의 밸런스 조정과 함께 아이스박스 맵의 A사이트 및 일부 영역에 대한 변경이 주로 이루어 졌다. 업데이트 내용 및 신규 콘텐츠에 대한 자세한 정보는 발로란트 공식 홈페이지에서 확인할 수 있다.\n",
            "---\n",
            "문서2:야전은 우선 돌파나 영격 등을 실시할지에 대한 전술 방침을 정하고, 그 후에 진형을 선택한다. 주인공이 총대장이 아니어도, 전술이 높으면 의견을 묻기도 한다. 전투가 시작되어 주인공의 부대를 조작하는 차례가 되면 입력의 접수가 시작되고, 그 동안에 마우스 등의 버튼을 누르는 것으로 행동하는 대신에 부대의 고무나 적의 매도, 혹은 대기나 후퇴를 행할 것인지의 명령이 가능하다. 입력하지 않으면 접수 시간 종료 후 자동적으로 전체의 방침으로 방침에 따라서 진군이나 적 부대에의 공격 등이 행해진다.\n",
            "\n",
            "3턴이 경과하면 밤이 되고, 총대장의 경우는 진을 물릴지를 결정할 수 있다. 진을 물리는 경우는(역시 총대장의 경우) 야간의 행동을 결정하게 된다. 취하는 행동은 다음과 같다.\n",
            "\n",
            "*「야습」 - 야습을 건다. 적이 「휴양」일 때에 유효하다. 발견될 경우 강행할 것인지 중지할 것인지를 선택한다. 성공하면 적에게 큰 피해를 줄 수 있다.\n",
            "*「허보」 - 거짓 정보를 흘린다. 난파 기능이 있는 무장이 있을 경우에 명령할 수 있다. 적이 「휴양」일 때에 유효하다. 성공하면 적의 사기를 낮출 수 있다.\n",
            "*「경계」 - 적의 「야습」을 경계하는 것이 가능하다.\n",
            "*「휴양」 - 쉬어서 피로 회복을 할 수 있다. 술을 베풀어 사기를 올리는 것도 가능하다.\n",
            "\n",
            "한편, 진을 물리지 않을 경우는 그대로 아침까지 전투는 이어지고, 아침이 되면 강제적으로 진을 물린다.\n",
            "\n",
            "진형의 결정 후, 낮의 행동 후, 야간의 행동 후에도 각각 「전투효과」가 표시된다. 이쪽이 효과적인 행동을 하면 유리하게 변동되고, 이후의 전투에 영향을 미친다.\n",
            "\n",
            "야전은 최대 10일 동안 행해지고, 결착이 나지 않을 경우는 무승부가 된다.\n",
            "---\n",
            "문서3:자 (지지)단계부터 미 (지지)단계까지는 자기 자신의 또 다른 컬러의 캐릭터를 포함해 류를 이기면 에드몬드 혼다, 에드몬드 혼다를 이기면 블랑카, 블랑카를 이기면 가일, 가일을 이기면 켄 마스터즈, 켄 마스터즈를 이기면 춘리, 춘리를 이기면 장기에프, 장기에프를 이기면 달심, 달심을 이기면 류가 등장하는 방식으로 되어있다. 신 (지지)단계에는 마이크 바이슨, 유 (지지)단계에는 발로그, 술 (지지)단계에는 사가트, 해 (지지)단계에는 베가가 등장한다. 이긴 캐릭터가 얼굴 등을 다친 캐릭터에게 말을 한다. 상대 캐릭터가 얼굴 등을 다친 장면이 나오면 다음 단계로 넘어가고 (단, 해 (지지)단계에 이기면 베가가 얼굴 등을 다친 장면이 나오지 않고 바로 엔딩으로 간다.) 자기 캐릭터가 얼굴 등을 다친 장면이 나오면 얼굴 등을 다쳐 아파하는 캐릭터의 오른쪽에 48개 (가로 6개×세로 8개)의 발광 다이오드로 9초를 준다. (단, 9는 영어로 음성만 나오고 0은 숫자 바뀌는 소리만 난다.) 9초 이내에 이어하면 바탕 화면에 하양이 깜박인 후 얼굴 등을 다쳐 아파하는 캐릭터가 용기를 내고 (단, 사천왕은 그렇지 않다. 또, 가일은 '익'에서 '소닉붐' 하고 용기를 내는 것으로 변경되었다.) 이어하지 않는 사이에 9초가 경과하여 -1이 되면 바탕 화면에 빨강이 깜박인 후 얼굴 등을 다쳐 아파하는 캐릭터의 비명소리와 함께 얼굴 등을 다쳐 아파하는 캐릭터가 흑백으로 변하고 게임 오버가 된다.\n",
            "---\n",
            "문서4:공성전은 주야를 1일로 하여, 최대 90일 동안 행해진다. 공성전에서도 우선은 야전과 같은 전술을 결정하게 된다. 주인공이 공격 측 총대장일 때는 역공(力攻)이나 포위전 중 어느 전술을 채택할 것인지, 적이 성 밖에 있는 경우에는 야전에 응할 것인지를 선택하는 것이 가능하다. 특정 성에서는 수공도 가능하다. 수공은 비용과 일수가 필요하지만, 적의 사기나 병량을 현저하게 소비시켜, 자신이 이끄는 병사를 잃지 않고 성을 함락시킬 수 있다. 수공 공작 완성 후에는 야구라를 세워서 철포 공격을 받지 않게 하는 것도 가능하다. 한편 수비 측 총대장일 때는, 영격할 것인지 농성할 것인지 등을 선택하게 되어 있다.\n",
            "\n",
            "전술을 선택하면 그 전술에 따라서 움직이게 되지만, 야전과 같이 행동하는 대신에 병사를 쉬게 하거나 고무시키거나 하는 것도 가능하다. 또 공격 측의 경우는 야간에 야습을 걸거나, 허보를 흘리거나 적성에 방화를 하는 것도 가능하다.\n",
            "\n",
            "총대장의 경우에는 격려나 포상, 주연 등으로 병사의 사기를 높이는 것도 가능하다. 그리고 공격 측의 경우는 항복 권고를 실시하는 것이, 수비 측의 경우는 성의 보수를 지시하여 방어도를 올리거나, 낙석이나 함정, 철책 등의 장치를 성에 세워 적의 침입에 대비하거나 하는 것이 가능하다.\n",
            "---\n",
            "문서5:카카오(공동대표 여민수, 조수용)의 뮤직플랫폼 멜론(Melon)은 오는 12월 2일부터 5일까지 총 4일 동안 온라인으로 진행되는 MMA WEEK 편성표를 공개했다. 올 해 MMA WEEK는 ‘Stay Closer in Music’라는 콘셉트에 걸맞게, 팬들과 아티스트들이 음악을 통해 한층 더 가깝고 친밀해지는 시간으로 채워진다. 4일간 다채로운 장르와 화려한 아티스트들이 대거 참여한다는 점에서 이목이 집중된다. 멜론 웹과 앱 MMA 2020 페이지를 통해 공개된 편성표에 따르면 MMA WEEK는 예능/인터뷰뿐 아니라 장르별 사전 시상, 유니크한 콘셉트의 스테이지까지 다양한 콘텐츠와 무대로 진행된다. 우선 K-MUSIC 탐구쇼 ‘돋보기’에는 MC 재재를 비롯해 AB6IX 대휘, 온앤오프 와이엇, 골든차일드 장준이 아이돌 패널로 참여해 올 해 사랑받았던 음악이나 아티스트, 음악계 이슈들을 다시 한번 되짚어보는 시간을 갖는다. 염따, 딥플로우, 팔로알토, 더 콰이엇, 사이먼 도미닉 등 힙합 대표 5인 방이 뭉친 ‘둘도 없는 힙합 친구:DAMOIM’(다모임)의 무대도 공개된다. 올 해도 ‘FLEX 신드롬’을 불러 일으키며 전국민적인 사랑을 받은 다모임은 MMA WEEK 무대도 그 어느 때보다 화려하게 장식할 전망이다. 싱어송라이돌 정세운은 힐링 뮤직 인터뷰 ‘다플리’의 MC를 맡아 많은 스타들과 멜론 유저들의 다양한 이야기와 힐링 뮤직을 함께 만나볼 예정이다. 올 해 가장 많은 스포트라이트를 받은 신인들에게만 주어지는 ‘2020 올해의 루키’ 무대도 베일을 벗는다. 또한 올해 MMA WEEK에는 아티스트 외에도 음악 작업에 참여해 큰 기여를 한 ‘숨은 1등 공신’ 세션들을 위한 상이 신설된다. MMA의 첫 세션상 트로피를 품에 안을 영광의 주인공은 누가 될지 귀추가 주목된다. 또 가호, 박문치, 이날치, 장범준, 재재, DAY6 (Even of Day) 등 올해를 뜨겁게 달궜던 아티스트들 역시 MMA WEEK를 통해 특별한 콘텐츠를 선사할 계획이다. MMA WEEK 마지막 날인 12월 5일엔 대망의 MAMA 2020 본 공연이 펼쳐진다. 앞서 방탄소년단, 임영웅, 영탁 등 역대급 가수들이 참여를 확정해 더욱 기대를 모은다. 이처럼 다채로운 장르와 최고의 아티스트들의 참여를 예고한 MMA WEEK 편성표 및 참여 아티스트 라인업 등 자세한 내용은 멜론 앱, 웹 MMA 2020 페이지에서 확인 가능하다. 또한 MMA WEEK는 톡 캘린더 알림 설정 시 카카오톡을 통해 편리하고 빠르게 알림을 받아볼 수 있다. 알림 설정 시 다양한 선물을 제공하는 이벤트까지 진행된다. 한편, MMA 2020은 오는 12월 2일~5일까지 온라인, 비대면으로 총 4일간 ‘MMA WEEK’로 진행된다. 멜론은 MMA WEEK 동안 콘셉트 ‘Stay Closer in Music’에 맞춰 사전 이벤트, 사전 공연, 메인 공연, 특별 영상 등 비대면 음악 축제에 맞는 새로운 콘텐츠를 순차적으로 공개한다. MMA 2020은 멜론 앱, 웹, 카카오톡 #카카오TV 탭, 유튜브 채널 등 다양한 온라인 채널을 통해 쉽게 참여하고 즐길 수 있다. 전체 일정 및 상세한 내용은 멜론 MMA 페이지에서 확인 가능하다.\n",
            "---\n"
          ]
        }
      ]
    },
    {
      "cell_type": "code",
      "source": [
        "print(df['no_answer'].loc[15])"
      ],
      "metadata": {
        "colab": {
          "base_uri": "https://localhost:8080/"
        },
        "id": "ynTdfGc-saxe",
        "outputId": "8c96bb9f-9e2b-4b13-a1e5-296e6897f54d"
      },
      "execution_count": null,
      "outputs": [
        {
          "output_type": "stream",
          "name": "stdout",
          "text": [
            "검색 결과에는 MMA WEEK에서 어떤 신인 아티스트들이 모두 공연할 것인지에 대한 내용을 찾을 수 없습니다.\n"
          ]
        }
      ]
    },
    {
      "cell_type": "code",
      "source": [
        "import re"
      ],
      "metadata": {
        "id": "0U-_HF1j305l"
      },
      "execution_count": null,
      "outputs": []
    },
    {
      "cell_type": "code",
      "source": [
        "# 인용 문서 번호 추출\n",
        "def extract_ref_numbers(text):\n",
        "    # 정규표현식을 사용하여 [[ref숫자]] 패턴 찾기\n",
        "    pattern = r'\\[\\[ref(\\d+)\\]\\]'\n",
        "\n",
        "    # 모든 매치 찾기\n",
        "    matches = re.findall(pattern, text)\n",
        "\n",
        "    # 문자열을 정수로 변환하고 중복 제거 후 정렬\n",
        "    unique_numbers = sorted(set(map(int, matches)))\n",
        "\n",
        "    return unique_numbers"
      ],
      "metadata": {
        "id": "MX0OJeHk32e2"
      },
      "execution_count": null,
      "outputs": []
    },
    {
      "cell_type": "code",
      "source": [
        "# 테스트\n",
        "result = extract_ref_numbers(df['no_answer'].loc[15])\n",
        "print(result)"
      ],
      "metadata": {
        "colab": {
          "base_uri": "https://localhost:8080/"
        },
        "id": "OtKyztTo33Pe",
        "outputId": "04d6d262-be4c-4078-9917-bd589604d0a1"
      },
      "execution_count": null,
      "outputs": [
        {
          "output_type": "stream",
          "name": "stdout",
          "text": [
            "[]\n"
          ]
        }
      ]
    },
    {
      "cell_type": "code",
      "source": [
        "extracted_ref_numbers = []\n",
        "for sample in df['no_answer'].to_list():\n",
        "  extracted_ref_numbers.append(extract_ref_numbers(sample))"
      ],
      "metadata": {
        "id": "8zIPZ5On37UM"
      },
      "execution_count": null,
      "outputs": []
    },
    {
      "cell_type": "code",
      "source": [
        "df['extracted_ref_numbers'] = extracted_ref_numbers"
      ],
      "metadata": {
        "id": "DsTj1DL039Cv"
      },
      "execution_count": null,
      "outputs": []
    },
    {
      "cell_type": "code",
      "source": [
        "# 인용 문서가 존재하는지 확인\n",
        "df[~(df['extracted_ref_numbers'].apply(str) == '[]')].reset_index(drop=True)"
      ],
      "metadata": {
        "colab": {
          "base_uri": "https://localhost:8080/",
          "height": 53
        },
        "id": "4kMT3v2r4Gv-",
        "outputId": "de8868c6-b83d-4bf4-e0b1-727c7a7b2f74"
      },
      "execution_count": null,
      "outputs": [
        {
          "output_type": "execute_result",
          "data": {
            "text/plain": [
              "Empty DataFrame\n",
              "Columns: [title, news_category, source, context, question, question_type, is_impossible, answer_text, answer_start, negative_samples, no_answer_question, no_answer, extracted_ref_numbers]\n",
              "Index: []"
            ],
            "text/html": [
              "\n",
              "  <div id=\"df-6b14b224-a77d-43a4-aff0-039530ce3c0e\" class=\"colab-df-container\">\n",
              "    <div>\n",
              "<style scoped>\n",
              "    .dataframe tbody tr th:only-of-type {\n",
              "        vertical-align: middle;\n",
              "    }\n",
              "\n",
              "    .dataframe tbody tr th {\n",
              "        vertical-align: top;\n",
              "    }\n",
              "\n",
              "    .dataframe thead th {\n",
              "        text-align: right;\n",
              "    }\n",
              "</style>\n",
              "<table border=\"1\" class=\"dataframe\">\n",
              "  <thead>\n",
              "    <tr style=\"text-align: right;\">\n",
              "      <th></th>\n",
              "      <th>title</th>\n",
              "      <th>news_category</th>\n",
              "      <th>source</th>\n",
              "      <th>context</th>\n",
              "      <th>question</th>\n",
              "      <th>question_type</th>\n",
              "      <th>is_impossible</th>\n",
              "      <th>answer_text</th>\n",
              "      <th>answer_start</th>\n",
              "      <th>negative_samples</th>\n",
              "      <th>no_answer_question</th>\n",
              "      <th>no_answer</th>\n",
              "      <th>extracted_ref_numbers</th>\n",
              "    </tr>\n",
              "  </thead>\n",
              "  <tbody>\n",
              "  </tbody>\n",
              "</table>\n",
              "</div>\n",
              "    <div class=\"colab-df-buttons\">\n",
              "\n",
              "  <div class=\"colab-df-container\">\n",
              "    <button class=\"colab-df-convert\" onclick=\"convertToInteractive('df-6b14b224-a77d-43a4-aff0-039530ce3c0e')\"\n",
              "            title=\"Convert this dataframe to an interactive table.\"\n",
              "            style=\"display:none;\">\n",
              "\n",
              "  <svg xmlns=\"http://www.w3.org/2000/svg\" height=\"24px\" viewBox=\"0 -960 960 960\">\n",
              "    <path d=\"M120-120v-720h720v720H120Zm60-500h600v-160H180v160Zm220 220h160v-160H400v160Zm0 220h160v-160H400v160ZM180-400h160v-160H180v160Zm440 0h160v-160H620v160ZM180-180h160v-160H180v160Zm440 0h160v-160H620v160Z\"/>\n",
              "  </svg>\n",
              "    </button>\n",
              "\n",
              "  <style>\n",
              "    .colab-df-container {\n",
              "      display:flex;\n",
              "      gap: 12px;\n",
              "    }\n",
              "\n",
              "    .colab-df-convert {\n",
              "      background-color: #E8F0FE;\n",
              "      border: none;\n",
              "      border-radius: 50%;\n",
              "      cursor: pointer;\n",
              "      display: none;\n",
              "      fill: #1967D2;\n",
              "      height: 32px;\n",
              "      padding: 0 0 0 0;\n",
              "      width: 32px;\n",
              "    }\n",
              "\n",
              "    .colab-df-convert:hover {\n",
              "      background-color: #E2EBFA;\n",
              "      box-shadow: 0px 1px 2px rgba(60, 64, 67, 0.3), 0px 1px 3px 1px rgba(60, 64, 67, 0.15);\n",
              "      fill: #174EA6;\n",
              "    }\n",
              "\n",
              "    .colab-df-buttons div {\n",
              "      margin-bottom: 4px;\n",
              "    }\n",
              "\n",
              "    [theme=dark] .colab-df-convert {\n",
              "      background-color: #3B4455;\n",
              "      fill: #D2E3FC;\n",
              "    }\n",
              "\n",
              "    [theme=dark] .colab-df-convert:hover {\n",
              "      background-color: #434B5C;\n",
              "      box-shadow: 0px 1px 3px 1px rgba(0, 0, 0, 0.15);\n",
              "      filter: drop-shadow(0px 1px 2px rgba(0, 0, 0, 0.3));\n",
              "      fill: #FFFFFF;\n",
              "    }\n",
              "  </style>\n",
              "\n",
              "    <script>\n",
              "      const buttonEl =\n",
              "        document.querySelector('#df-6b14b224-a77d-43a4-aff0-039530ce3c0e button.colab-df-convert');\n",
              "      buttonEl.style.display =\n",
              "        google.colab.kernel.accessAllowed ? 'block' : 'none';\n",
              "\n",
              "      async function convertToInteractive(key) {\n",
              "        const element = document.querySelector('#df-6b14b224-a77d-43a4-aff0-039530ce3c0e');\n",
              "        const dataTable =\n",
              "          await google.colab.kernel.invokeFunction('convertToInteractive',\n",
              "                                                    [key], {});\n",
              "        if (!dataTable) return;\n",
              "\n",
              "        const docLinkHtml = 'Like what you see? Visit the ' +\n",
              "          '<a target=\"_blank\" href=https://colab.research.google.com/notebooks/data_table.ipynb>data table notebook</a>'\n",
              "          + ' to learn more about interactive tables.';\n",
              "        element.innerHTML = '';\n",
              "        dataTable['output_type'] = 'display_data';\n",
              "        await google.colab.output.renderOutput(dataTable, element);\n",
              "        const docLink = document.createElement('div');\n",
              "        docLink.innerHTML = docLinkHtml;\n",
              "        element.appendChild(docLink);\n",
              "      }\n",
              "    </script>\n",
              "  </div>\n",
              "\n",
              "\n",
              "    </div>\n",
              "  </div>\n"
            ],
            "application/vnd.google.colaboratory.intrinsic+json": {
              "type": "dataframe",
              "repr_error": "Out of range float values are not JSON compliant: nan"
            }
          },
          "metadata": {},
          "execution_count": 61
        }
      ]
    },
    {
      "cell_type": "code",
      "source": [
        "df['search_result'] = samples"
      ],
      "metadata": {
        "id": "4BDsKOtd4PyO"
      },
      "execution_count": null,
      "outputs": []
    },
    {
      "cell_type": "code",
      "source": [
        "dataset = datasets.Dataset.from_pandas(df)"
      ],
      "metadata": {
        "id": "2Qow3UYi4UH2"
      },
      "execution_count": null,
      "outputs": []
    },
    {
      "cell_type": "code",
      "source": [
        "dataset"
      ],
      "metadata": {
        "id": "mBj5t5Ickr6x",
        "outputId": "972c0d45-b4de-4da9-ff6f-aa15e6ca3078",
        "colab": {
          "base_uri": "https://localhost:8080/"
        }
      },
      "execution_count": null,
      "outputs": [
        {
          "output_type": "execute_result",
          "data": {
            "text/plain": [
              "Dataset({\n",
              "    features: ['title', 'news_category', 'source', 'context', 'question', 'question_type', 'is_impossible', 'answer_text', 'answer_start', 'negative_samples', 'no_answer_question', 'no_answer', 'extracted_ref_numbers', 'search_result'],\n",
              "    num_rows: 136\n",
              "})"
            ]
          },
          "metadata": {},
          "execution_count": 67
        }
      ]
    },
    {
      "cell_type": "code",
      "source": [
        "from google.colab import userdata\n",
        "HF_WRITE_API_KEY = userdata.get('HF_WRITE_API_KEY')\n",
        "\n",
        "login(HF_WRITE_API_KEY)"
      ],
      "metadata": {
        "id": "EcqyMM5GWkkQ"
      },
      "execution_count": null,
      "outputs": []
    },
    {
      "cell_type": "code",
      "source": [
        "dataset.push_to_hub(\"klue-mrc-no-answer-question\")"
      ],
      "metadata": {
        "colab": {
          "base_uri": "https://localhost:8080/",
          "height": 118,
          "referenced_widgets": [
            "5c44fba12e6f415595167d4646a4811c",
            "ce2bd0ac0ac641e28ee32342c352dd76",
            "12fbf4344fc04bf8b45bc76e0961f7a0",
            "1eecfe37280942e8b5a606eb5c4a3951",
            "c6c5ff86d3d341f2be83e23544bd9d7a",
            "0389fe62e1cb42748a4bf4ddf8c3024a",
            "1eb7b948121145fb961d2b10a681c458",
            "c3b6176d909448dda534a5e50f83c68b",
            "0ffb408f449743f8a905ffeabcd4214e",
            "d5e397a3f9ae4b3c80992050aa381b97",
            "ca976474465b4840bf89bddd6c94fff3",
            "75769a68e5f446d0adaf5cde8171bbc7",
            "32ae98382f3145e6a600c9b1358330e4",
            "63d8b69e6a0748a2a35a16b0770193c8",
            "144e039e00224e4e93814ae45319fde8",
            "2d3ab8f8add24a90bac133197b09bb32",
            "33028d19510e4b818683fd0c96b2ea7c",
            "292d5830a06e43268593f07497f66074",
            "48ec29e13b7c4b778805014b463cbcbc",
            "a7f5393344f84dbea55cdb51d594ac4f",
            "eb7eb725839b4c4cba307fd18c16809b",
            "cf2be9ab4016402abdd8a661b705b451"
          ]
        },
        "id": "Fqp5DvDn4gif",
        "outputId": "c352457a-1191-4296-cd82-6b17c3487e3a"
      },
      "execution_count": null,
      "outputs": [
        {
          "output_type": "display_data",
          "data": {
            "text/plain": [
              "Uploading the dataset shards:   0%|          | 0/1 [00:00<?, ?it/s]"
            ],
            "application/vnd.jupyter.widget-view+json": {
              "version_major": 2,
              "version_minor": 0,
              "model_id": "5c44fba12e6f415595167d4646a4811c"
            }
          },
          "metadata": {}
        },
        {
          "output_type": "display_data",
          "data": {
            "text/plain": [
              "Creating parquet from Arrow format:   0%|          | 0/1 [00:00<?, ?ba/s]"
            ],
            "application/vnd.jupyter.widget-view+json": {
              "version_major": 2,
              "version_minor": 0,
              "model_id": "75769a68e5f446d0adaf5cde8171bbc7"
            }
          },
          "metadata": {}
        },
        {
          "output_type": "execute_result",
          "data": {
            "text/plain": [
              "CommitInfo(commit_url='https://huggingface.co/datasets/longjae/klue-mrc-no-answer-question/commit/741ba26b3659254656de2f1153c4cf7ec1a5a2fe', commit_message='Upload dataset', commit_description='', oid='741ba26b3659254656de2f1153c4cf7ec1a5a2fe', pr_url=None, repo_url=RepoUrl('https://huggingface.co/datasets/longjae/klue-mrc-no-answer-question', endpoint='https://huggingface.co', repo_type='dataset', repo_id='longjae/klue-mrc-no-answer-question'), pr_revision=None, pr_num=None)"
            ],
            "application/vnd.google.colaboratory.intrinsic+json": {
              "type": "string"
            }
          },
          "metadata": {},
          "execution_count": 65
        }
      ]
    },
    {
      "cell_type": "code",
      "source": [
        "df[['no_answer_question', 'search_result', 'no_answer', 'extracted_ref_numbers']]"
      ],
      "metadata": {
        "colab": {
          "base_uri": "https://localhost:8080/",
          "height": 424
        },
        "id": "RoV0_ZcI4lvn",
        "outputId": "c28bcf9d-6513-46eb-9050-58335e85c681"
      },
      "execution_count": null,
      "outputs": [
        {
          "output_type": "execute_result",
          "data": {
            "text/plain": [
              "                          no_answer_question  \\\n",
              "0                 한화호텔&리조트에서 제공하는 중식 메뉴는 뭐니?   \n",
              "1              이준용이 일본에서 어떤 특별한 교육을 받았는지 알아?   \n",
              "2                 에이어즈의 첫 번째 앨범 제목이 뭐였는지 알아?   \n",
              "3    몰디브 관광청의 세부적 비즈니스 계획을 어떤 자료에서 확인할 수 있어?   \n",
              "4             강은희 후부 장관 후보의 대구 외 인생 이야기는 뭐야?   \n",
              "..                                       ...   \n",
              "131  이슬람국가(IS)가 이라크 외부에서 어떤 영향을 미칠 것인지 말해줄래?   \n",
              "132            서울둘레길을 처음 제안한 사람은 누구인지 얘기해줄래?   \n",
              "133          화재가 발생했을 때 사람들은 대개 어떤 행동을 취하나요?   \n",
              "134             뇌전증 환자가 틱톡을 사용하면 어떤 문제가 생길까?   \n",
              "135  콜라라이프의 창립자가 어떤 색깔의 자동차를 운전하는지 알려줄 수 있어?   \n",
              "\n",
              "                                         search_result  \\\n",
              "0    [현대·기아자동차가 해외 시장에서의 판매 호조에 힘입어 올 상반기 세계 시장에서 4...   \n",
              "1    [일본 망명 직후부터 이준용은 귀인 엄씨의 빈 책봉을 반대하고 나섰다. 이어 고종은...   \n",
              "2    [뮤지션의 일대기를 다룬 잘 만든 한 편의 음악 영화를 보는 듯했다. 음악에 착 달...   \n",
              "3    [야놀자 계열사 여행대학(총장 정상근)이 오는 18일(월)까지 ‘시니어 꿈꾸는 여행...   \n",
              "4    [박근혜 대통령이 21일 총선에 출마하는 현직 장관 다섯 명과 임기가 만료된 국민권...   \n",
              "..                                                 ...   \n",
              "131  [이란의 핵무기 개발을 놓고 대립해온 미국과 이란 간 ‘화해 모드’가 조성되고 있다...   \n",
              "132  [여의도는 원래 불모지로, 군사 훈련장으로 쓰이기도 했다. 일제는 표면상으로는 민간...   \n",
              "133  [볼펜은 일회용 모델과 리필 모델로 생산된다. 리필을 사용하면 볼펜 및 소켓을 포함...   \n",
              "134  [간질(癎疾) 또는 전간(癲癎)이라고도 하며, 과거에는 간질이 정식 명칭으로 사용되...   \n",
              "135  [세계 최대 숙박 공유 서비스기업 에어비앤비가 최근 15억달러(약 1조6800억원)...   \n",
              "\n",
              "                                             no_answer extracted_ref_numbers  \n",
              "0            검색 결과에는 한화호텔&리조트에서 제공하는 중식 메뉴를 찾을 수 없습니다.                    []  \n",
              "1         검색 결과에는 이준용이 일본에서 어떤 특별한 교육을 받았는지 찾을 수 없습니다.                    []  \n",
              "2                 검색 결과에는 에이어즈의 첫 번째 앨범 제목을 찾을 수 없습니다.                    []  \n",
              "3             검색 결과에는 몰디브 관광청의 세부적 비즈니스 계획을 찾을 수 없습니다.                    []  \n",
              "4        검색 결과에는 강은희 후부 장관 후보의 대구 외 인생 이야기를 찾을 수 없습니다.                    []  \n",
              "..                                                 ...                   ...  \n",
              "131  검색 결과에는 이슬람국가(IS)가 이라크 외부에서 어떤 영향을 미칠 것인지에 대한 ...                    []  \n",
              "132        검색 결과에는 서울둘레길을 처음 제안한 사람에 대한 정보를 찾을 수 없습니다.                    []  \n",
              "133        검색 결과에는 화재가 발생했을 때 사람들의 일반적인 행동을 찾을 수 없습니다.                    []  \n",
              "134   검색 결과에는 뇌전증 환자가 틱톡을 사용하면서 겪을 수 있는 문제를 찾을 수 없습니다.                    []  \n",
              "135  검색 결과에는 콜라라이프의 창립자가 어떤 색깔의 자동차를 운전하는지를 찾을 수 없습니다.                    []  \n",
              "\n",
              "[136 rows x 4 columns]"
            ],
            "text/html": [
              "\n",
              "  <div id=\"df-1f6d0555-6ca0-499e-b47b-eef3ed55fcb0\" class=\"colab-df-container\">\n",
              "    <div>\n",
              "<style scoped>\n",
              "    .dataframe tbody tr th:only-of-type {\n",
              "        vertical-align: middle;\n",
              "    }\n",
              "\n",
              "    .dataframe tbody tr th {\n",
              "        vertical-align: top;\n",
              "    }\n",
              "\n",
              "    .dataframe thead th {\n",
              "        text-align: right;\n",
              "    }\n",
              "</style>\n",
              "<table border=\"1\" class=\"dataframe\">\n",
              "  <thead>\n",
              "    <tr style=\"text-align: right;\">\n",
              "      <th></th>\n",
              "      <th>no_answer_question</th>\n",
              "      <th>search_result</th>\n",
              "      <th>no_answer</th>\n",
              "      <th>extracted_ref_numbers</th>\n",
              "    </tr>\n",
              "  </thead>\n",
              "  <tbody>\n",
              "    <tr>\n",
              "      <th>0</th>\n",
              "      <td>한화호텔&amp;리조트에서 제공하는 중식 메뉴는 뭐니?</td>\n",
              "      <td>[현대·기아자동차가 해외 시장에서의 판매 호조에 힘입어 올 상반기 세계 시장에서 4...</td>\n",
              "      <td>검색 결과에는 한화호텔&amp;리조트에서 제공하는 중식 메뉴를 찾을 수 없습니다.</td>\n",
              "      <td>[]</td>\n",
              "    </tr>\n",
              "    <tr>\n",
              "      <th>1</th>\n",
              "      <td>이준용이 일본에서 어떤 특별한 교육을 받았는지 알아?</td>\n",
              "      <td>[일본 망명 직후부터 이준용은 귀인 엄씨의 빈 책봉을 반대하고 나섰다. 이어 고종은...</td>\n",
              "      <td>검색 결과에는 이준용이 일본에서 어떤 특별한 교육을 받았는지 찾을 수 없습니다.</td>\n",
              "      <td>[]</td>\n",
              "    </tr>\n",
              "    <tr>\n",
              "      <th>2</th>\n",
              "      <td>에이어즈의 첫 번째 앨범 제목이 뭐였는지 알아?</td>\n",
              "      <td>[뮤지션의 일대기를 다룬 잘 만든 한 편의 음악 영화를 보는 듯했다. 음악에 착 달...</td>\n",
              "      <td>검색 결과에는 에이어즈의 첫 번째 앨범 제목을 찾을 수 없습니다.</td>\n",
              "      <td>[]</td>\n",
              "    </tr>\n",
              "    <tr>\n",
              "      <th>3</th>\n",
              "      <td>몰디브 관광청의 세부적 비즈니스 계획을 어떤 자료에서 확인할 수 있어?</td>\n",
              "      <td>[야놀자 계열사 여행대학(총장 정상근)이 오는 18일(월)까지 ‘시니어 꿈꾸는 여행...</td>\n",
              "      <td>검색 결과에는 몰디브 관광청의 세부적 비즈니스 계획을 찾을 수 없습니다.</td>\n",
              "      <td>[]</td>\n",
              "    </tr>\n",
              "    <tr>\n",
              "      <th>4</th>\n",
              "      <td>강은희 후부 장관 후보의 대구 외 인생 이야기는 뭐야?</td>\n",
              "      <td>[박근혜 대통령이 21일 총선에 출마하는 현직 장관 다섯 명과 임기가 만료된 국민권...</td>\n",
              "      <td>검색 결과에는 강은희 후부 장관 후보의 대구 외 인생 이야기를 찾을 수 없습니다.</td>\n",
              "      <td>[]</td>\n",
              "    </tr>\n",
              "    <tr>\n",
              "      <th>...</th>\n",
              "      <td>...</td>\n",
              "      <td>...</td>\n",
              "      <td>...</td>\n",
              "      <td>...</td>\n",
              "    </tr>\n",
              "    <tr>\n",
              "      <th>131</th>\n",
              "      <td>이슬람국가(IS)가 이라크 외부에서 어떤 영향을 미칠 것인지 말해줄래?</td>\n",
              "      <td>[이란의 핵무기 개발을 놓고 대립해온 미국과 이란 간 ‘화해 모드’가 조성되고 있다...</td>\n",
              "      <td>검색 결과에는 이슬람국가(IS)가 이라크 외부에서 어떤 영향을 미칠 것인지에 대한 ...</td>\n",
              "      <td>[]</td>\n",
              "    </tr>\n",
              "    <tr>\n",
              "      <th>132</th>\n",
              "      <td>서울둘레길을 처음 제안한 사람은 누구인지 얘기해줄래?</td>\n",
              "      <td>[여의도는 원래 불모지로, 군사 훈련장으로 쓰이기도 했다. 일제는 표면상으로는 민간...</td>\n",
              "      <td>검색 결과에는 서울둘레길을 처음 제안한 사람에 대한 정보를 찾을 수 없습니다.</td>\n",
              "      <td>[]</td>\n",
              "    </tr>\n",
              "    <tr>\n",
              "      <th>133</th>\n",
              "      <td>화재가 발생했을 때 사람들은 대개 어떤 행동을 취하나요?</td>\n",
              "      <td>[볼펜은 일회용 모델과 리필 모델로 생산된다. 리필을 사용하면 볼펜 및 소켓을 포함...</td>\n",
              "      <td>검색 결과에는 화재가 발생했을 때 사람들의 일반적인 행동을 찾을 수 없습니다.</td>\n",
              "      <td>[]</td>\n",
              "    </tr>\n",
              "    <tr>\n",
              "      <th>134</th>\n",
              "      <td>뇌전증 환자가 틱톡을 사용하면 어떤 문제가 생길까?</td>\n",
              "      <td>[간질(癎疾) 또는 전간(癲癎)이라고도 하며, 과거에는 간질이 정식 명칭으로 사용되...</td>\n",
              "      <td>검색 결과에는 뇌전증 환자가 틱톡을 사용하면서 겪을 수 있는 문제를 찾을 수 없습니다.</td>\n",
              "      <td>[]</td>\n",
              "    </tr>\n",
              "    <tr>\n",
              "      <th>135</th>\n",
              "      <td>콜라라이프의 창립자가 어떤 색깔의 자동차를 운전하는지 알려줄 수 있어?</td>\n",
              "      <td>[세계 최대 숙박 공유 서비스기업 에어비앤비가 최근 15억달러(약 1조6800억원)...</td>\n",
              "      <td>검색 결과에는 콜라라이프의 창립자가 어떤 색깔의 자동차를 운전하는지를 찾을 수 없습니다.</td>\n",
              "      <td>[]</td>\n",
              "    </tr>\n",
              "  </tbody>\n",
              "</table>\n",
              "<p>136 rows × 4 columns</p>\n",
              "</div>\n",
              "    <div class=\"colab-df-buttons\">\n",
              "\n",
              "  <div class=\"colab-df-container\">\n",
              "    <button class=\"colab-df-convert\" onclick=\"convertToInteractive('df-1f6d0555-6ca0-499e-b47b-eef3ed55fcb0')\"\n",
              "            title=\"Convert this dataframe to an interactive table.\"\n",
              "            style=\"display:none;\">\n",
              "\n",
              "  <svg xmlns=\"http://www.w3.org/2000/svg\" height=\"24px\" viewBox=\"0 -960 960 960\">\n",
              "    <path d=\"M120-120v-720h720v720H120Zm60-500h600v-160H180v160Zm220 220h160v-160H400v160Zm0 220h160v-160H400v160ZM180-400h160v-160H180v160Zm440 0h160v-160H620v160ZM180-180h160v-160H180v160Zm440 0h160v-160H620v160Z\"/>\n",
              "  </svg>\n",
              "    </button>\n",
              "\n",
              "  <style>\n",
              "    .colab-df-container {\n",
              "      display:flex;\n",
              "      gap: 12px;\n",
              "    }\n",
              "\n",
              "    .colab-df-convert {\n",
              "      background-color: #E8F0FE;\n",
              "      border: none;\n",
              "      border-radius: 50%;\n",
              "      cursor: pointer;\n",
              "      display: none;\n",
              "      fill: #1967D2;\n",
              "      height: 32px;\n",
              "      padding: 0 0 0 0;\n",
              "      width: 32px;\n",
              "    }\n",
              "\n",
              "    .colab-df-convert:hover {\n",
              "      background-color: #E2EBFA;\n",
              "      box-shadow: 0px 1px 2px rgba(60, 64, 67, 0.3), 0px 1px 3px 1px rgba(60, 64, 67, 0.15);\n",
              "      fill: #174EA6;\n",
              "    }\n",
              "\n",
              "    .colab-df-buttons div {\n",
              "      margin-bottom: 4px;\n",
              "    }\n",
              "\n",
              "    [theme=dark] .colab-df-convert {\n",
              "      background-color: #3B4455;\n",
              "      fill: #D2E3FC;\n",
              "    }\n",
              "\n",
              "    [theme=dark] .colab-df-convert:hover {\n",
              "      background-color: #434B5C;\n",
              "      box-shadow: 0px 1px 3px 1px rgba(0, 0, 0, 0.15);\n",
              "      filter: drop-shadow(0px 1px 2px rgba(0, 0, 0, 0.3));\n",
              "      fill: #FFFFFF;\n",
              "    }\n",
              "  </style>\n",
              "\n",
              "    <script>\n",
              "      const buttonEl =\n",
              "        document.querySelector('#df-1f6d0555-6ca0-499e-b47b-eef3ed55fcb0 button.colab-df-convert');\n",
              "      buttonEl.style.display =\n",
              "        google.colab.kernel.accessAllowed ? 'block' : 'none';\n",
              "\n",
              "      async function convertToInteractive(key) {\n",
              "        const element = document.querySelector('#df-1f6d0555-6ca0-499e-b47b-eef3ed55fcb0');\n",
              "        const dataTable =\n",
              "          await google.colab.kernel.invokeFunction('convertToInteractive',\n",
              "                                                    [key], {});\n",
              "        if (!dataTable) return;\n",
              "\n",
              "        const docLinkHtml = 'Like what you see? Visit the ' +\n",
              "          '<a target=\"_blank\" href=https://colab.research.google.com/notebooks/data_table.ipynb>data table notebook</a>'\n",
              "          + ' to learn more about interactive tables.';\n",
              "        element.innerHTML = '';\n",
              "        dataTable['output_type'] = 'display_data';\n",
              "        await google.colab.output.renderOutput(dataTable, element);\n",
              "        const docLink = document.createElement('div');\n",
              "        docLink.innerHTML = docLinkHtml;\n",
              "        element.appendChild(docLink);\n",
              "      }\n",
              "    </script>\n",
              "  </div>\n",
              "\n",
              "\n",
              "    <div id=\"df-4b84129a-b700-4502-8b8e-665fcd8de970\">\n",
              "      <button class=\"colab-df-quickchart\" onclick=\"quickchart('df-4b84129a-b700-4502-8b8e-665fcd8de970')\"\n",
              "                title=\"Suggest charts\"\n",
              "                style=\"display:none;\">\n",
              "\n",
              "<svg xmlns=\"http://www.w3.org/2000/svg\" height=\"24px\"viewBox=\"0 0 24 24\"\n",
              "     width=\"24px\">\n",
              "    <g>\n",
              "        <path d=\"M19 3H5c-1.1 0-2 .9-2 2v14c0 1.1.9 2 2 2h14c1.1 0 2-.9 2-2V5c0-1.1-.9-2-2-2zM9 17H7v-7h2v7zm4 0h-2V7h2v10zm4 0h-2v-4h2v4z\"/>\n",
              "    </g>\n",
              "</svg>\n",
              "      </button>\n",
              "\n",
              "<style>\n",
              "  .colab-df-quickchart {\n",
              "      --bg-color: #E8F0FE;\n",
              "      --fill-color: #1967D2;\n",
              "      --hover-bg-color: #E2EBFA;\n",
              "      --hover-fill-color: #174EA6;\n",
              "      --disabled-fill-color: #AAA;\n",
              "      --disabled-bg-color: #DDD;\n",
              "  }\n",
              "\n",
              "  [theme=dark] .colab-df-quickchart {\n",
              "      --bg-color: #3B4455;\n",
              "      --fill-color: #D2E3FC;\n",
              "      --hover-bg-color: #434B5C;\n",
              "      --hover-fill-color: #FFFFFF;\n",
              "      --disabled-bg-color: #3B4455;\n",
              "      --disabled-fill-color: #666;\n",
              "  }\n",
              "\n",
              "  .colab-df-quickchart {\n",
              "    background-color: var(--bg-color);\n",
              "    border: none;\n",
              "    border-radius: 50%;\n",
              "    cursor: pointer;\n",
              "    display: none;\n",
              "    fill: var(--fill-color);\n",
              "    height: 32px;\n",
              "    padding: 0;\n",
              "    width: 32px;\n",
              "  }\n",
              "\n",
              "  .colab-df-quickchart:hover {\n",
              "    background-color: var(--hover-bg-color);\n",
              "    box-shadow: 0 1px 2px rgba(60, 64, 67, 0.3), 0 1px 3px 1px rgba(60, 64, 67, 0.15);\n",
              "    fill: var(--button-hover-fill-color);\n",
              "  }\n",
              "\n",
              "  .colab-df-quickchart-complete:disabled,\n",
              "  .colab-df-quickchart-complete:disabled:hover {\n",
              "    background-color: var(--disabled-bg-color);\n",
              "    fill: var(--disabled-fill-color);\n",
              "    box-shadow: none;\n",
              "  }\n",
              "\n",
              "  .colab-df-spinner {\n",
              "    border: 2px solid var(--fill-color);\n",
              "    border-color: transparent;\n",
              "    border-bottom-color: var(--fill-color);\n",
              "    animation:\n",
              "      spin 1s steps(1) infinite;\n",
              "  }\n",
              "\n",
              "  @keyframes spin {\n",
              "    0% {\n",
              "      border-color: transparent;\n",
              "      border-bottom-color: var(--fill-color);\n",
              "      border-left-color: var(--fill-color);\n",
              "    }\n",
              "    20% {\n",
              "      border-color: transparent;\n",
              "      border-left-color: var(--fill-color);\n",
              "      border-top-color: var(--fill-color);\n",
              "    }\n",
              "    30% {\n",
              "      border-color: transparent;\n",
              "      border-left-color: var(--fill-color);\n",
              "      border-top-color: var(--fill-color);\n",
              "      border-right-color: var(--fill-color);\n",
              "    }\n",
              "    40% {\n",
              "      border-color: transparent;\n",
              "      border-right-color: var(--fill-color);\n",
              "      border-top-color: var(--fill-color);\n",
              "    }\n",
              "    60% {\n",
              "      border-color: transparent;\n",
              "      border-right-color: var(--fill-color);\n",
              "    }\n",
              "    80% {\n",
              "      border-color: transparent;\n",
              "      border-right-color: var(--fill-color);\n",
              "      border-bottom-color: var(--fill-color);\n",
              "    }\n",
              "    90% {\n",
              "      border-color: transparent;\n",
              "      border-bottom-color: var(--fill-color);\n",
              "    }\n",
              "  }\n",
              "</style>\n",
              "\n",
              "      <script>\n",
              "        async function quickchart(key) {\n",
              "          const quickchartButtonEl =\n",
              "            document.querySelector('#' + key + ' button');\n",
              "          quickchartButtonEl.disabled = true;  // To prevent multiple clicks.\n",
              "          quickchartButtonEl.classList.add('colab-df-spinner');\n",
              "          try {\n",
              "            const charts = await google.colab.kernel.invokeFunction(\n",
              "                'suggestCharts', [key], {});\n",
              "          } catch (error) {\n",
              "            console.error('Error during call to suggestCharts:', error);\n",
              "          }\n",
              "          quickchartButtonEl.classList.remove('colab-df-spinner');\n",
              "          quickchartButtonEl.classList.add('colab-df-quickchart-complete');\n",
              "        }\n",
              "        (() => {\n",
              "          let quickchartButtonEl =\n",
              "            document.querySelector('#df-4b84129a-b700-4502-8b8e-665fcd8de970 button');\n",
              "          quickchartButtonEl.style.display =\n",
              "            google.colab.kernel.accessAllowed ? 'block' : 'none';\n",
              "        })();\n",
              "      </script>\n",
              "    </div>\n",
              "\n",
              "    </div>\n",
              "  </div>\n"
            ],
            "application/vnd.google.colaboratory.intrinsic+json": {
              "type": "dataframe",
              "summary": "{\n  \"name\": \"df[['no_answer_question', 'search_result', 'no_answer', 'extracted_ref_numbers']]\",\n  \"rows\": 136,\n  \"fields\": [\n    {\n      \"column\": \"no_answer_question\",\n      \"properties\": {\n        \"dtype\": \"string\",\n        \"num_unique_values\": 136,\n        \"samples\": [\n          \"\\uae4c\\ub9c8\\uadc0\\uac00 \\\"\\uc88b\\uc740 \\uc544\\uce68\\\"\\uc774\\ub77c\\uace0 \\uc778\\uc0ac\\ud558\\ub294 \\uc774\\uc720\\ub294 \\ubb58\\uae4c?\",\n          \"\\uc18c\\ub828 \\uc815\\ubd80 \\ub300\\uc804 \\uc911\\uc5d0 \\ud06c\\ub818\\ub9b0 \\uad81\\uc5d0\\uc11c \\uc5b4\\ub5a4 \\ud2b9\\uc815\\ud55c \\uc804\\ud22c\\uac00 \\uc788\\uc5c8\\ub294\\uc9c0 \\uad81\\uae08\\ud574\",\n          \"\\uc2e0\\ud765\\uad6d \\ud1b5\\ud654\\uac00\\uce58\\ub294 \\uc5b4\\ub5a4 \\ubb38\\ud654 \\ud589\\uc0ac\\uc5d0 \\ub530\\ub77c \\uc601\\ud5a5\\uc744 \\ubc1b\\ub294\\uc9c0 \\uc54c\\ub824\\uc904 \\uc218 \\uc788\\uc5b4?\"\n        ],\n        \"semantic_type\": \"\",\n        \"description\": \"\"\n      }\n    },\n    {\n      \"column\": \"search_result\",\n      \"properties\": {\n        \"dtype\": \"object\",\n        \"semantic_type\": \"\",\n        \"description\": \"\"\n      }\n    },\n    {\n      \"column\": \"no_answer\",\n      \"properties\": {\n        \"dtype\": \"string\",\n        \"num_unique_values\": 136,\n        \"samples\": [\n          \"\\uac80\\uc0c9 \\uacb0\\uacfc\\uc5d0\\ub294 \\uae4c\\ub9c8\\uadc0\\uac00 \\\"\\uc88b\\uc740 \\uc544\\uce68\\\"\\uc774\\ub77c\\uace0 \\uc778\\uc0ac\\ud558\\ub294 \\uc774\\uc720\\ub97c \\ucc3e\\uc744 \\uc218 \\uc5c6\\uc2b5\\ub2c8\\ub2e4.\",\n          \"\\uac80\\uc0c9 \\uacb0\\uacfc\\uc5d0\\ub294 \\uc18c\\ub828 \\uc815\\ubd80 \\ub300\\uc804 \\uc911\\uc5d0 \\ud06c\\ub818\\ub9b0 \\uad81\\uc5d0\\uc11c \\uc5b4\\ub5a4 \\ud2b9\\uc815\\ud55c \\uc804\\ud22c\\uac00 \\uc788\\uc5c8\\ub294\\uc9c0\\ub97c \\ucc3e\\uc744 \\uc218 \\uc5c6\\uc2b5\\ub2c8\\ub2e4.\",\n          \"\\uac80\\uc0c9 \\uacb0\\uacfc\\uc5d0\\ub294 \\uc2e0\\ud765\\uad6d \\ud1b5\\ud654\\uac00\\uce58\\uac00 \\uc5b4\\ub5a4 \\ubb38\\ud654 \\ud589\\uc0ac\\uc5d0 \\ub530\\ub77c \\uc601\\ud5a5\\uc744 \\ubc1b\\ub294\\uc9c0\\uc5d0 \\ub300\\ud55c \\ub0b4\\uc6a9\\uc744 \\ucc3e\\uc744 \\uc218 \\uc5c6\\uc2b5\\ub2c8\\ub2e4.\"\n        ],\n        \"semantic_type\": \"\",\n        \"description\": \"\"\n      }\n    },\n    {\n      \"column\": \"extracted_ref_numbers\",\n      \"properties\": {\n        \"dtype\": \"object\",\n        \"semantic_type\": \"\",\n        \"description\": \"\"\n      }\n    }\n  ]\n}"
            }
          },
          "metadata": {},
          "execution_count": 66
        }
      ]
    },
    {
      "cell_type": "code",
      "source": [],
      "metadata": {
        "id": "JFX-ay-QWmPb"
      },
      "execution_count": null,
      "outputs": []
    }
  ]
}